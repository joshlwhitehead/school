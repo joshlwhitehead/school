{
 "cells": [
  {
   "cell_type": "markdown",
   "metadata": {},
   "source": [
    "# Problem 4\n"
   ]
  },
  {
   "cell_type": "markdown",
   "metadata": {},
   "source": [
    "#### Problem 4.1\n",
    "Given the relationships\n",
    "$$\n",
    "y = ar^2 = a(x^2+z^2) \\tag{1}\n",
    "$$\n",
    "$$\n",
    "w = 2r \\tag{2}\n",
    "$$\n",
    "and\n",
    "$$\n",
    "W = \\text{diameter at the top}\n",
    "$$\n",
    "$$\n",
    "Y = \\text{height of full tank}\n",
    "$$\n",
    "$$\n",
    "R = \\text{radius at the top}\n",
    "$$\n",
    "find V as a function of W.\n",
    "<br/></br>\n",
    "\n",
    "First, relating the differential volume to the differential height\n",
    "$$\n",
    "dV = \\pi r^2 dy\n",
    "$$\n",
    "\n",
    "rearanging ([1](#mjx-eqn-1)) gives\n",
    "\n",
    "$$\n",
    "r^2 = \\frac{y}{a}\n",
    "$$\n",
    "therefore\n",
    "$$\n",
    "V = \\int_0^Y \\frac{\\pi}{a} ydy\n",
    "$$\n",
    "integrating and evaluating from 0 to Y gives\n",
    "$$\n",
    "V = \\frac{\\pi}{2a}Y^2 \\tag{3}\n",
    "$$\n"
   ]
  },
  {
   "cell_type": "markdown",
   "metadata": {},
   "source": [
    "combining ([1](#mjx-eqn-1)) and ([3](#mjx-eqn-3)) gives\n",
    "$$\n",
    "V = \\frac{\\pi}{2a}(aR^2)^2\n",
    "$$\n",
    "then substituting R for ([2](#mjx-eqn-2)) and simplifying\n",
    "<br/></br>\n",
    "The total volume of the tank is given by \n",
    "$$\n",
    "V = \\frac{\\pi a W^4}{32} \\tag{4}\n",
    "$$\n",
    "and the volume at any w is given by\n",
    "$$\n",
    "V = \\frac{\\pi a w^4}{32} \n",
    "$$"
   ]
  },
  {
   "cell_type": "markdown",
   "metadata": {},
   "source": [
    "#### Problem 4.2\n",
    "([1](#mjx-eqn-1)) and ([2](#mjx-eqn-2)) can be combined to find the height of the tank\n",
    "<br/></br>\n",
    "since the relationship was given that\n",
    "$$\n",
    "Y = aR^2\n",
    "$$ \n",
    "and \n",
    "$$\n",
    "W = 2R\n",
    "$$\n",
    "then the total height of the tank is given by\n",
    "$$\n",
    "Y = \\frac{a}{4}W^2 \n",
    "$$\n",
    "and the height at any w is given by\n",
    "$$\n",
    "y = \\frac{a}{4}w^2 \\tag{5}\n",
    "$$"
   ]
  },
  {
   "cell_type": "markdown",
   "metadata": {},
   "source": [
    "#### Problem 4.3\n",
    "If a hole was cut at $\\frac{W}{16}$ then ([5](#mjx-eqn-5)) may be used to find the new height by evaluating at y(W) and subtracting y($\\frac{W}{16}$) which gives\n",
    "$$\n",
    "y_{new} = \\frac{a}{4}(W^2-(\\frac{W}{16})^2)\n",
    "$$\n"
   ]
  }
 ],
 "metadata": {
  "interpreter": {
   "hash": "04e0bdae412e3c8df7b0aceceeb80c1c6940bf3e349c37f8e47e417772dfa615"
  },
  "kernelspec": {
   "display_name": "Python 3.9.6 64-bit",
   "language": "python",
   "name": "python3"
  },
  "language_info": {
   "name": "python",
   "version": "3.9.6"
  },
  "orig_nbformat": 4
 },
 "nbformat": 4,
 "nbformat_minor": 2
}
