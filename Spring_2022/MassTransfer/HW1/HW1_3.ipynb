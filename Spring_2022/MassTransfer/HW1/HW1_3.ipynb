{
 "cells": [
  {
   "cell_type": "markdown",
   "metadata": {},
   "source": [
    "# Problem 3"
   ]
  },
  {
   "cell_type": "markdown",
   "metadata": {},
   "source": [
    "#### Problem 3.1\n",
    "Find $R_{top}$\n",
    "\n",
    "$$\n",
    "R_{top} = R + H \\tan (90-\\theta) \\tag{1}\n",
    "$$\n",
    "\n",
    "The supporting work for this problem is included with the pdf"
   ]
  },
  {
   "cell_type": "markdown",
   "metadata": {},
   "source": [
    "#### Problem 3.2\n",
    "Find V\n",
    "<br/></br>\n",
    "The differential volume is related to the differential height with the following relationship\n",
    "$$\n",
    "dV = \\pi r^2 dh \\tag{2}\n",
    "$$\n",
    "similar to finding $R_{top}$ in ([1](#mjx-eqn-1)), r can be found with\n",
    "\n",
    "$$\n",
    "r = R+h \\tan (90-\\theta)\n",
    "$$\n",
    "\n",
    "and then used in ([2](#mjx-eqn-2))\n",
    "\n",
    "$$\n",
    "dV = \\pi (R+h \\tan (90-\\theta))^2 dh = [\\pi R^2 + 2 \\pi R \\tan (90-\\theta) h + \\pi \\tan (90-\\theta)^2 h^2]dh\n",
    "$$\n",
    "\n",
    "the next step is to integrate both sides\n",
    "\n",
    "$$\n",
    "\\int dV = \\int^H_0 \\pi R^2 dh + \\int^H_0 2 \\pi R \\tan (90-\\theta) h dh + \\int^H_0 \\pi \\tan (90-\\theta)^2 h^2 dh\n",
    "$$\n",
    "\n",
    "pull the constants out of the integral\n",
    "\n",
    "$$\n",
    "V = \\pi R^2 \\int^H_0 dh + 2 \\pi R \\tan (90-\\theta) \\int^H_0 hdh + \\pi \\tan (90-\\theta)^2 \\int^H_0 h^2dh\n",
    "$$\n",
    "\n",
    "integrating gives the tank volume\n",
    "\n",
    "$$\n",
    "V = \\pi R^2 H + \\pi R \\tan (90-\\theta) H^2 + \\frac{\\pi}{3} \\tan (90-\\theta)^2 H^3\n",
    "$$"
   ]
  }
 ],
 "metadata": {
  "interpreter": {
   "hash": "04e0bdae412e3c8df7b0aceceeb80c1c6940bf3e349c37f8e47e417772dfa615"
  },
  "kernelspec": {
   "display_name": "Python 3.9.6 64-bit",
   "language": "python",
   "name": "python3"
  },
  "language_info": {
   "name": "python",
   "version": "3.9.6"
  },
  "orig_nbformat": 4
 },
 "nbformat": 4,
 "nbformat_minor": 2
}
