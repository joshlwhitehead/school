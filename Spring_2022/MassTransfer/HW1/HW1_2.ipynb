{
 "cells": [
  {
   "cell_type": "markdown",
   "metadata": {},
   "source": [
    "# Problem 2"
   ]
  },
  {
   "cell_type": "markdown",
   "metadata": {},
   "source": [
    "#### Problem 2.1\n",
    "\n",
    "Given relationships:\n",
    "$$\n",
    "M_A = 3M_B \\tag{1}\n",
    "$$\n",
    "\n",
    "and\n",
    "$$\n",
    "x_A = \\frac{z}{3} \\tag{2} \\text{ for } z = [0,1]\n",
    "$$\n",
    "\n",
    "\n",
    "$$\n",
    "\\omega_A = \\frac{m_A}{m_A +m_B} \\tag{3}\n",
    "$$\n",
    "\n",
    "$$\n",
    "m = Mn \\tag{4}\n",
    "$$\n",
    "\n",
    "$$\n",
    "x_A = \\frac{n_A}{n_A + n_B} \\tag{5}\n",
    "$$\n",
    "\n",
    "\n",
    "\n",
    "\n"
   ]
  },
  {
   "cell_type": "markdown",
   "metadata": {},
   "source": [
    "find $\\omega_A$ as a function of z:\n",
    "<br/></br>\n",
    "combining ([3](#mjx-eqn-3)) and ([4](#mjx-eqn-4)) gives\n",
    "$$\n",
    "\\omega_A  = \\frac{M_A n_A}{M_A n_A + M_B n_B}\n",
    "$$\n",
    "\n",
    "and substituting ([1](#mjx-eqn-1)) into $M_A$ gives\n",
    "\n",
    "$$\n",
    "\\omega_A = \\frac{3M_B n_A}{3M_B n_A + M_B n_B} \n",
    "$$\n",
    "which can be simplified as\n",
    "$$\n",
    "\\omega_A = \\frac{3n_A}{3n_A + n_B} \\tag{6}\n",
    "$$"
   ]
  },
  {
   "cell_type": "markdown",
   "metadata": {},
   "source": [
    "Next, by combining ([2](#mjx-eqn-2)) and ([5](#mjx-eqn-5)) and solving for $n_B$ we get\n",
    "$$\n",
    "x_A = \\frac{z}{3} = \\frac{n_A}{n_A + n_B}\n",
    "$$\n",
    "\n",
    "$$\n",
    "n_B = \\frac{3n_A}{z}-n_A \\tag{7}\n",
    "$$"
   ]
  },
  {
   "cell_type": "markdown",
   "metadata": {},
   "source": [
    "Now ([7](#mjx-eqn-7)) can be substituted into ([6](#mjx-eqn-6)) and simplified to get\n",
    "$$\n",
    "\\omega_A = \\frac{3n_A}{3n_A + \\frac{3n_A}{z}-n_A} = \\frac{3}{3 + \\frac{3}{z}-1} \n",
    "$$\n",
    "<br/></br>\n",
    "#### Problem 2.2\n",
    "following is a plot of x and $\\omega$\n"
   ]
  },
  {
   "cell_type": "code",
   "execution_count": 1,
   "metadata": {},
   "outputs": [
    {
     "name": "stderr",
     "output_type": "stream",
     "text": [
      "<ipython-input-1-e4f059850846>:7: RuntimeWarning: divide by zero encountered in true_divide\n",
      "  wa = 3/(3+3/z-1)\n"
     ]
    },
    {
     "data": {
      "text/plain": [
       "''"
      ]
     },
     "execution_count": 1,
     "metadata": {},
     "output_type": "execute_result"
    },
    {
     "data": {
      "image/png": "[encoded data removed]",
      "text/plain": [
       "<Figure size 432x288 with 1 Axes>"
      ]
     },
     "metadata": {
      "needs_background": "light"
     },
     "output_type": "display_data"
    }
   ],
   "source": [
    "import matplotlib.pyplot as plt\n",
    "import numpy as np\n",
    "\n",
    "z = np.linspace(0,1,9)\n",
    "xa = z/3\n",
    "xb = 1-xa\n",
    "wa = 3/(3+3/z-1)\n",
    "wb = 1-wa\n",
    "plt.plot(z,xa,label='$x_A$')\n",
    "plt.plot(z,xb,label='$x_B$')\n",
    "plt.plot(z,wa,label='$\\omega_A$')\n",
    "plt.plot(z,wb,label='$\\omega_B$')\n",
    "plt.grid()\n",
    "plt.legend()\n",
    "plt.title('x vs $\\omega$')\n",
    "plt.xlabel('z')\n",
    ";\n"
   ]
  },
  {
   "cell_type": "markdown",
   "metadata": {},
   "source": [
    "While the molar fraction is a linear profile, it's interesting that the profile for mass fraction is not linear.\n",
    "<br/><br/>\n",
    "The mass fraction increases as the molar fraction increases.\n"
   ]
  }
 ],
 "metadata": {
  "interpreter": {
   "hash": "04e0bdae412e3c8df7b0aceceeb80c1c6940bf3e349c37f8e47e417772dfa615"
  },
  "kernelspec": {
   "display_name": "Python 3.9.6 64-bit",
   "language": "python",
   "name": "python3"
  },
  "language_info": {
   "codemirror_mode": {
    "name": "ipython",
    "version": 3
   },
   "file_extension": ".py",
   "mimetype": "text/x-python",
   "name": "python",
   "nbconvert_exporter": "python",
   "pygments_lexer": "ipython3",
   "version": "3.9.6"
  },
  "orig_nbformat": 4
 },
 "nbformat": 4,
 "nbformat_minor": 2
}
