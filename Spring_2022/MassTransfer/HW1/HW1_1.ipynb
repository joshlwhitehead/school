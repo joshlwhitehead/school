{
 "cells": [
  {
   "cell_type": "markdown",
   "metadata": {},
   "source": [
    "# Problem 1"
   ]
  },
  {
   "cell_type": "markdown",
   "metadata": {},
   "source": [
    "The equation we want to plot:\n",
    "\\begin{equation}\n",
    "    \\frac{x_A - x_{A-}}{x_{A+}-x_{A-}}= \\frac{1}{2}+\\frac{1}{\\pi}\\sum_{k=0}^\\infty\\frac{1}{m}sin(\\frac{m\\pi z}{l})exp(-\\frac{m^2\\pi^2}{l^2}D_{AB}t)\n",
    "\\end{equation}\n",
    "with\n",
    "$$\n",
    "    m = k+\\frac{1}{2}\n",
    "$$"
   ]
  },
  {
   "cell_type": "markdown",
   "metadata": {},
   "source": [
    "Import modules."
   ]
  },
  {
   "cell_type": "code",
   "execution_count": 1,
   "metadata": {},
   "outputs": [],
   "source": [
    "import numpy as np\n",
    "import matplotlib.pyplot as plt\n",
    "import time"
   ]
  },
  {
   "cell_type": "markdown",
   "metadata": {},
   "source": [
    "#### Problem 1.1\n",
    "Create function that solves the above equation. Summation terms are added while err > 0.0001. Plot the results."
   ]
  },
  {
   "cell_type": "code",
   "execution_count": 2,
   "metadata": {},
   "outputs": [
    {
     "name": "stdout",
     "output_type": "stream",
     "text": [
      "Kept  156 terms at t=1.00e-02\n",
      "Kept   20 terms at t=1.00e+00\n",
      "Kept    8 terms at t=1.00e+01\n",
      "Kept    3 terms at t=1.00e+02\n",
      "Kept    2 terms at t=1.00e+03\n"
     ]
    },
    {
     "data": {
      "image/png": "[encoded data removed]",
      "text/plain": [
       "<Figure size 432x288 with 1 Axes>"
      ]
     },
     "metadata": {
      "needs_background": "light"
     },
     "output_type": "display_data"
    }
   ],
   "source": [
    "times = [0.01,1.0,10,100,1000]\n",
    "nz  = 500     # number of points in the z-direction\n",
    "L   = 0.2     # tube half-length, meters\n",
    "z   = np.linspace(-L,L,999)\n",
    "\n",
    "startTime = time.time()\n",
    "\n",
    "# Build a function to calculate the mole fraction as a function of z at the given point in time\n",
    "def profile(t):\n",
    "    Xto = 0     # initial composition in top section\n",
    "    Xbo = 1     # initial composition in bottom section\n",
    "\n",
    "    Dab = 0.7          # Diffusivity in cm2/s\n",
    "    Dab = Dab * 1e-4    # convert to m2/s\n",
    "                   \n",
    "    # calculate the infinite series, keeping as many terms as needed for this point in time.\n",
    "    \n",
    "    sumTerm = 0*z\n",
    "    err = 1   # how much the summation changed when the latest term was added\n",
    "    k   = 0   # how many terms we've included\n",
    "    while err > .0001:   # add terms until series converges\n",
    "        m = k + 0.5\n",
    "        old = sumTerm\n",
    "        sumTerm = sumTerm + 1/m*np.sin(m*np.pi*z/L)*np.exp(-m**2*np.pi**2/L**2*Dab*t)\n",
    "        err = max(abs(old-sumTerm))\n",
    "        k = k+1\n",
    "\n",
    "    print('Kept {:-4d} terms at t={:.2e}'.format(k,t))\n",
    "\n",
    "    return Xbo + (Xto-Xbo) * ( 0.5 + 1/np.pi * sumTerm )\n",
    "endTime = time.time()\n",
    "\n",
    "\n",
    "# Solve problem to get average compositions for top section\n",
    "for t in times:\n",
    "    plt.plot(z,profile(t),label=''.join(['Time = ',str(t)]))\n",
    "    \n",
    "plt.grid()\n",
    "plt.xlabel('z (m)')\n",
    "plt.ylabel('$x_A$')\n",
    "plt.legend();\n"
   ]
  },
  {
   "cell_type": "markdown",
   "metadata": {},
   "source": [
    "#### Problem 1.2\n",
    "Define function that plots above results as a widget. The widget slider is on a log scale."
   ]
  },
  {
   "cell_type": "code",
   "execution_count": 3,
   "metadata": {},
   "outputs": [
    {
     "data": {
      "application/vnd.jupyter.widget-view+json": {
       "model_id": "1a824099f2d248e9bc128dba12db38ec",
       "version_major": 2,
       "version_minor": 0
      },
      "text/plain": [
       "interactive(children=(FloatLogSlider(value=10.0, description='t', max=3.0, min=-2.0, step=1.0), Output()), _do…"
      ]
     },
     "metadata": {},
     "output_type": "display_data"
    }
   ],
   "source": [
    "%matplotlib inline\n",
    "import ipywidgets as widgets\n",
    "\n",
    "# A function to generate x(z) at a given t and plot the result\n",
    "def plot_it(t):\n",
    "    startTime = time.time()\n",
    "    plt.plot(z,profile(t))\n",
    "    endTime = time.time()\n",
    "    plt.ylim(0,1)\n",
    "    plt.title(''.join(['Computing time = ','{:e}'.format(endTime-startTime),' sec']))\n",
    "    plt.grid()\n",
    "    plt.ylabel('$x_A$')\n",
    "    plt.xlabel('z (m)')\n",
    "    # set up grid, plot labels, y-limits, title, etc.\n",
    "twidget = widgets.FloatLogSlider(\n",
    "    value=10,\n",
    "    base=10,\n",
    "    min = -2,\n",
    "    max = 3,\n",
    "    step=1\n",
    ")\n",
    "widgets.interact(plot_it, t=twidget);\n"
   ]
  }
 ],
 "metadata": {
  "hide_input": false,
  "kernelspec": {
   "display_name": "Python 3 (ipykernel)",
   "language": "python",
   "name": "python3"
  },
  "language_info": {
   "codemirror_mode": {
    "name": "ipython",
    "version": 3
   },
   "file_extension": ".py",
   "mimetype": "text/x-python",
   "name": "python",
   "nbconvert_exporter": "python",
   "pygments_lexer": "ipython3",
   "version": "3.9.6"
  },
  "latex_envs": {
   "LaTeX_envs_menu_present": true,
   "autoclose": false,
   "autocomplete": false,
   "bibliofile": "biblio.bib",
   "cite_by": "apalike",
   "current_citInitial": 1,
   "eqLabelWithNumbers": true,
   "eqNumInitial": 1,
   "hotkeys": {
    "equation": "Ctrl-E",
    "itemize": "Ctrl-I"
   },
   "labels_anchors": false,
   "latex_user_defs": false,
   "report_style_numbering": false,
   "user_envs_cfg": false
  },
  "toc": {
   "base_numbering": 1,
   "nav_menu": {},
   "number_sections": false,
   "sideBar": true,
   "skip_h1_title": false,
   "title_cell": "Table of Contents",
   "title_sidebar": "Contents",
   "toc_cell": false,
   "toc_position": {},
   "toc_section_display": true,
   "toc_window_display": false
  },
  "varInspector": {
   "cols": {
    "lenName": 16,
    "lenType": 16,
    "lenVar": 40
   },
   "kernels_config": {
    "python": {
     "delete_cmd_postfix": "",
     "delete_cmd_prefix": "del ",
     "library": "var_list.py",
     "varRefreshCmd": "print(var_dic_list())"
    },
    "r": {
     "delete_cmd_postfix": ") ",
     "delete_cmd_prefix": "rm(",
     "library": "var_list.r",
     "varRefreshCmd": "cat(var_dic_list()) "
    }
   },
   "types_to_exclude": [
    "module",
    "function",
    "builtin_function_or_method",
    "instance",
    "_Feature"
   ],
   "window_display": false
  }
 },
 "nbformat": 4,
 "nbformat_minor": 2
}
