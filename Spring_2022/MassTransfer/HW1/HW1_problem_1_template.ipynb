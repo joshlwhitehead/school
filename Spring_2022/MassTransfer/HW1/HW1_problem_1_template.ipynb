{
 "cells": [
  {
   "cell_type": "markdown",
   "metadata": {},
   "source": [
    "The equation we want to plot:\n",
    "\\begin{equation}\n",
    "    ?\n",
    "\\end{equation}\n",
    "with\n",
    "$$\n",
    "    m = k+\\frac{1}{2}\n",
    "$$"
   ]
  },
  {
   "cell_type": "code",
   "execution_count": null,
   "metadata": {},
   "outputs": [],
   "source": [
    "import numpy as np\n",
    "import matplotlib.pyplot as plt\n",
    "\n",
    "times = [?]\n",
    "nz  = 500     # number of points in the z-direction\n",
    "L   = ?     # tube half-length, meters\n",
    "z   = ?\n",
    "\n",
    "\n",
    "# Build a function to calculate the mole fraction as a function of z at the given point in time\n",
    "def profile(t):\n",
    "    Xto = ?     # initial composition in top section\n",
    "    Xbo = ?     # initial composition in bottom section\n",
    "\n",
    "    Dab = ?          # Diffusivity in cm2/s\n",
    "    Dab = Dab * ?    # convert to m2/s\n",
    "                   \n",
    "    # calculate the infinite series, keeping as many terms as needed for this point in time.\n",
    "    sumTerm = 0*z\n",
    "    err = 1   # how much the summation changed when the latest term was added\n",
    "    k   = 0   # how many terms we've included\n",
    "    while err > ?:   # add terms until series converges\n",
    "        m = ?\n",
    "        old = sumTerm\n",
    "        sumTerm = sumTerm + ?\n",
    "        err = max(abs(?-?))\n",
    "        k = k+1\n",
    "\n",
    "    print('Kept {:-4d} terms at t={:.2e}'.format(k,t))\n",
    "\n",
    "    return Xbo + (?-?) * ( 0.5 + 1/np.pi * ? )\n",
    "\n",
    "\n",
    "# Solve problem to get average compositions for top section\n",
    "for t in times:\n",
    "    plt.plot(?,profile(?),label=?)\n",
    "    \n",
    "plt.grid()\n",
    "plt.xlabel(?)\n",
    "plt.ylabel(?)\n",
    "plt.legend()\n",
    "plt.show()\n"
   ]
  },
  {
   "cell_type": "code",
   "execution_count": null,
   "metadata": {},
   "outputs": [],
   "source": [
    "%matplotlib inline\n",
    "import ipywidgets as widgets\n",
    "\n",
    "# A function to generate x(z) at a given t and plot the result\n",
    "def plot_it(t):\n",
    "    plt.plot(z,?)\n",
    "    # set up grid, plot labels, y-limits, title, etc.\n",
    "\n",
    "twidget = widgets.FloatLogSlider( ? )\n",
    "\n",
    "widgets.interact( ?, t=twidget )"
   ]
  }
 ],
 "metadata": {
  "hide_input": false,
  "kernelspec": {
   "display_name": "Python 3 (ipykernel)",
   "language": "python",
   "name": "python3"
  },
  "language_info": {
   "codemirror_mode": {
    "name": "ipython",
    "version": 3
   },
   "file_extension": ".py",
   "mimetype": "text/x-python",
   "name": "python",
   "nbconvert_exporter": "python",
   "pygments_lexer": "ipython3",
   "version": "3.9.6"
  },
  "latex_envs": {
   "LaTeX_envs_menu_present": true,
   "autoclose": false,
   "autocomplete": false,
   "bibliofile": "biblio.bib",
   "cite_by": "apalike",
   "current_citInitial": 1,
   "eqLabelWithNumbers": true,
   "eqNumInitial": 1,
   "hotkeys": {
    "equation": "Ctrl-E",
    "itemize": "Ctrl-I"
   },
   "labels_anchors": false,
   "latex_user_defs": false,
   "report_style_numbering": false,
   "user_envs_cfg": false
  },
  "toc": {
   "base_numbering": 1,
   "nav_menu": {},
   "number_sections": false,
   "sideBar": true,
   "skip_h1_title": false,
   "title_cell": "Table of Contents",
   "title_sidebar": "Contents",
   "toc_cell": false,
   "toc_position": {},
   "toc_section_display": true,
   "toc_window_display": false
  },
  "varInspector": {
   "cols": {
    "lenName": 16,
    "lenType": 16,
    "lenVar": 40
   },
   "kernels_config": {
    "python": {
     "delete_cmd_postfix": "",
     "delete_cmd_prefix": "del ",
     "library": "var_list.py",
     "varRefreshCmd": "print(var_dic_list())"
    },
    "r": {
     "delete_cmd_postfix": ") ",
     "delete_cmd_prefix": "rm(",
     "library": "var_list.r",
     "varRefreshCmd": "cat(var_dic_list()) "
    }
   },
   "types_to_exclude": [
    "module",
    "function",
    "builtin_function_or_method",
    "instance",
    "_Feature"
   ],
   "window_display": false
  }
 },
 "nbformat": 4,
 "nbformat_minor": 2
}
