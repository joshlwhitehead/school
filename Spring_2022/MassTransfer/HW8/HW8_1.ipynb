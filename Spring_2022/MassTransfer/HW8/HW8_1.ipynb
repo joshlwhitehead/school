{
 "cells": [
  {
   "cell_type": "markdown",
   "metadata": {},
   "source": [
    "# Homework 8\n",
    "## Problem 1.a\n",
    "Determine the exit gas composition."
   ]
  },
  {
   "cell_type": "markdown",
   "metadata": {},
   "source": [
    "The problem states that the exit liquid contains $78.4$% of the $CO_2$ in the feed gas so the balance must go the the exit vapor which suggests,\n",
    "$$\n",
    "Y_1 = 0.216\\frac{0.10}{0.90} = 0.024\n",
    "$$\n",
    "It is also known that\n",
    "$$\n",
    "y_1 = \\frac{Y_1}{1+Y_1} \\tag{1}\n",
    "$$\n",
    "so $y_1=0.023$"
   ]
  },
  {
   "cell_type": "code",
   "execution_count": 17,
   "metadata": {},
   "outputs": [],
   "source": [
    "YNp1 = .1/.9\n",
    "X0 = 0.04\n",
    "Y1 = .216*.1/.9                                                                         #vap leaving\n",
    "y1 = Y1/(1+Y1)"
   ]
  },
  {
   "cell_type": "markdown",
   "metadata": {},
   "source": [
    "## Problem 1.b\n",
    "Determine the moles of amine solution required per mole of feed gas."
   ]
  },
  {
   "cell_type": "markdown",
   "metadata": {},
   "source": [
    "The following code plots the data and uses a guess and check method to adjust the slope until $Y_{N+1}$ is close to the expected value of $0.111$."
   ]
  },
  {
   "cell_type": "code",
   "execution_count": 18,
   "metadata": {},
   "outputs": [],
   "source": [
    "import numpy as np\n",
    "import matplotlib.pyplot as plt\n",
    "import scipy.interpolate as interp"
   ]
  },
  {
   "cell_type": "code",
   "execution_count": 19,
   "metadata": {},
   "outputs": [],
   "source": [
    "X = np.array([.01,.02,.03,.04,.05,.06,.07,.08,.09,.1,.11])                              #co2/air\n",
    "Y = np.array([.003,.008,.015,.023,.032,.043,.055,.068,.083,.099,.12])                   #co2/amine\n",
    "\n",
    "\n",
    "xinterp = interp.interp1d(Y,X,kind='cubic')                                             #interpolation of data\n",
    "slope = 1.82                                                                    #guess\n",
    "def Ynp1(XN):                                                                           #returns op line\n",
    "    return (XN-X0)*slope+Y1\n",
    "dep = np.linspace(.04,.11)"
   ]
  },
  {
   "cell_type": "code",
   "execution_count": 21,
   "metadata": {},
   "outputs": [
    {
     "name": "stdout",
     "output_type": "stream",
     "text": [
      "0.08762869170015337\n"
     ]
    },
    {
     "data": {
      "text/plain": [
       "''"
      ]
     },
     "execution_count": 21,
     "metadata": {},
     "output_type": "execute_result"
    },
    {
     "data": {
      "image/png": "[encoded data removed]",
      "text/plain": [
       "<Figure size 648x432 with 1 Axes>"
      ]
     },
     "metadata": {
      "needs_background": "light"
     },
     "output_type": "display_data"
    }
   ],
   "source": [
    "plt.figure(figsize=(9,6))\n",
    "plt.plot(X,Y,color='purple',label='EQ data')\n",
    "plt.scatter(X0,Y1)\n",
    "plt.plot(dep,Ynp1(dep),color='orange',label='op line')\n",
    "plt.legend()\n",
    "plt.ylabel('Y')\n",
    "plt.xlabel('X')\n",
    "plt.title('Absorption of CO2')\n",
    "\n",
    "\n",
    "\n",
    "# print(y6/YNp1)\n",
    "# while y6/YNp1 <=1.5 and y6/YNp1 > .8:\n",
    "    \n",
    "    \n",
    "\n",
    "x1 = xinterp(Y1)                                                            #lines connecting eq and op lines\n",
    "y1 = Ynp1(x1)\n",
    "x2 = xinterp(y1)\n",
    "y2 = Ynp1(x2)\n",
    "x3 = xinterp(y2)\n",
    "y3 = Ynp1(x3)\n",
    "x4 = xinterp(y3)\n",
    "y4 = Ynp1(x4)\n",
    "x5 = xinterp(y4)\n",
    "y5 = Ynp1(x5)\n",
    "x6 = xinterp(y5)\n",
    "y6 = Ynp1(x6)\n",
    "x7 = xinterp(y6)                                                        # only has 6 stages. use x7,y7 to check\n",
    "y7 = Ynp1(x7)\n",
    "    \n",
    "\n",
    "\n",
    "\n",
    "\n",
    "plt.hlines(Y1,X0,x1)                    \n",
    "plt.vlines(x1,Y1,y1)\n",
    "plt.hlines(y1,x1,x2)\n",
    "plt.vlines(x2,y1,y2)\n",
    "plt.hlines(y2,x2,x3)\n",
    "plt.vlines(x3,y2,y3)\n",
    "plt.hlines(y3,x3,x4)\n",
    "plt.vlines(x4,y3,y4)\n",
    "plt.hlines(y4,x4,x5)\n",
    "plt.vlines(x5,y4,y5)\n",
    "plt.hlines(y5,x5,x6)\n",
    "plt.vlines(x6,y5,y6)\n",
    "# plt.hlines(y6,x6,x7)\n",
    "# plt.vlines(x7,y6,y7)\n",
    "plt.ylim(0,.12)\n",
    "plt.grid()\n",
    "print(x6)\n",
    ";"
   ]
  },
  {
   "cell_type": "markdown",
   "metadata": {},
   "source": [
    " Since the slope is $\\frac{L'}{V'}$, and $V'$ is known from the problem statement to be $0.90$, $L'$ can be solved\n",
    " $$\n",
    "L' = 1.82V' = 1.64\n",
    " $$"
   ]
  }
 ],
 "metadata": {
  "interpreter": {
   "hash": "04e0bdae412e3c8df7b0aceceeb80c1c6940bf3e349c37f8e47e417772dfa615"
  },
  "kernelspec": {
   "display_name": "Python 3.9.6 64-bit",
   "language": "python",
   "name": "python3"
  },
  "language_info": {
   "codemirror_mode": {
    "name": "ipython",
    "version": 3
   },
   "file_extension": ".py",
   "mimetype": "text/x-python",
   "name": "python",
   "nbconvert_exporter": "python",
   "pygments_lexer": "ipython3",
   "version": "3.9.6"
  },
  "orig_nbformat": 4
 },
 "nbformat": 4,
 "nbformat_minor": 2
}
