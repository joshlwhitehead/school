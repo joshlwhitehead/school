{
 "cells": [
  {
   "cell_type": "markdown",
   "metadata": {},
   "source": [
    "# Homework 8\n",
    "## Problem 4.1\n",
    "Determine percent of $SO_2$ that gets absorbed."
   ]
  },
  {
   "cell_type": "markdown",
   "metadata": {},
   "source": [
    "The percentage of absorbed $SO_2$ can be determined by plotting the EQ curve and op line. The problem statement gives the slope, $X0$, $Y_1$, and $X_N$ which can all be used to find $Y_{N+1}$"
   ]
  },
  {
   "cell_type": "code",
   "execution_count": 63,
   "metadata": {},
   "outputs": [],
   "source": [
    "import numpy as np\n",
    "import matplotlib.pyplot as plt"
   ]
  },
  {
   "cell_type": "code",
   "execution_count": 58,
   "metadata": {},
   "outputs": [],
   "source": [
    "MwS = 64.066\n",
    "MwW = 18\n",
    "w = np.array([.02,.05,.1,.15,.2,.3,.5,.7,1])*453.592\n",
    "molS = w/MwS\n",
    "molW = 100*453.592/MwW\n",
    "X = molS/molW\n",
    "y = np.array([.5,1.2,3.2,5.8,8.5,14.1,26,39,59])/760\n",
    "Y = y/(1-y)"
   ]
  },
  {
   "cell_type": "code",
   "execution_count": 59,
   "metadata": {},
   "outputs": [
    {
     "data": {
      "text/plain": [
       "''"
      ]
     },
     "execution_count": 59,
     "metadata": {},
     "output_type": "execute_result"
    }
   ],
   "source": [
    "nso2 = .6*453.592/MwS\n",
    "nw = 100*453.592/MwW\n",
    "\n",
    "\n",
    "xN = nso2/(nso2+nw)\n",
    "XN = xN/(1-xN)\n",
    "y1 = 23/760\n",
    "Y1 = y1/(1-y1)\n",
    "X0 = 0\n",
    "\n",
    ";"
   ]
  },
  {
   "cell_type": "code",
   "execution_count": 60,
   "metadata": {},
   "outputs": [],
   "source": [
    "L = 1000\n",
    "V = 1000/25\n",
    "def y(x):\n",
    "    return x*L/V+y1\n",
    "dep = np.linspace(0,XN)\n"
   ]
  },
  {
   "cell_type": "code",
   "execution_count": 61,
   "metadata": {},
   "outputs": [
    {
     "data": {
      "text/plain": [
       "''"
      ]
     },
     "execution_count": 61,
     "metadata": {},
     "output_type": "execute_result"
    },
    {
     "data": {
      "image/png": "[encoded data removed]",
      "text/plain": [
       "<Figure size 432x288 with 1 Axes>"
      ]
     },
     "metadata": {
      "needs_background": "light"
     },
     "output_type": "display_data"
    }
   ],
   "source": [
    "plt.plot(X,Y,label='EQ curve')\n",
    "plt.scatter(X0,Y1)\n",
    "plt.plot(dep,y(dep),label='op line')\n",
    "plt.grid()\n",
    "plt.title('Absorption of SO2')\n",
    "plt.xlabel('X')\n",
    "plt.ylabel('Y')\n",
    "plt.legend()\n",
    "\n",
    ";"
   ]
  },
  {
   "cell_type": "code",
   "execution_count": 62,
   "metadata": {},
   "outputs": [],
   "source": [
    "yNp1 = y(XN)\n",
    "YNp1 = yNp1/(1-yNp1)\n"
   ]
  },
  {
   "cell_type": "code",
   "execution_count": null,
   "metadata": {},
   "outputs": [],
   "source": [
    "\n"
   ]
  }
 ],
 "metadata": {
  "interpreter": {
   "hash": "04e0bdae412e3c8df7b0aceceeb80c1c6940bf3e349c37f8e47e417772dfa615"
  },
  "kernelspec": {
   "display_name": "Python 3.9.6 64-bit",
   "language": "python",
   "name": "python3"
  },
  "language_info": {
   "codemirror_mode": {
    "name": "ipython",
    "version": 3
   },
   "file_extension": ".py",
   "mimetype": "text/x-python",
   "name": "python",
   "nbconvert_exporter": "python",
   "pygments_lexer": "ipython3",
   "version": "3.9.6"
  },
  "orig_nbformat": 4
 },
 "nbformat": 4,
 "nbformat_minor": 2
}
