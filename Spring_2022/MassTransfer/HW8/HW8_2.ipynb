{
 "cells": [
  {
   "cell_type": "markdown",
   "metadata": {},
   "source": [
    "# Homework 8\n",
    "## Problem 2.1\n",
    "Determine minimum $\\frac{L'}{V'}$ using the same data as problem 1."
   ]
  },
  {
   "cell_type": "markdown",
   "metadata": {},
   "source": [
    "The minimum value of $\\frac{L'}{V'} can be found with the equation\n",
    "$$\n",
    "L'_{min} = \\frac{V'(Y_{N+1}-Y_1)}{\\frac{Y_{N+1}}{Y_{N+1}(K_N-1)+K_N}-X_0} \\tag{1}\n",
    "$$\n"
   ]
  },
  {
   "cell_type": "markdown",
   "metadata": {},
   "source": [
    "where $Y_{N+1}$, $X_0$, $Y_1$, and $V'$ are used in problem 1 and $K_N = \\frac{y_{N+1}}{x_N}$."
   ]
  },
  {
   "cell_type": "code",
   "execution_count": 51,
   "metadata": {},
   "outputs": [],
   "source": [
    "import numpy as np\n",
    "import scipy.interpolate as interp\n",
    "import matplotlib.pyplot as plt"
   ]
  },
  {
   "cell_type": "code",
   "execution_count": 52,
   "metadata": {},
   "outputs": [],
   "source": [
    "Vp = .9\n",
    "YNp1 = .1/.9\n",
    "Y1 = .216*YNp1   \n",
    "XN = .08763\n",
    "yNp1 = YNp1/(1+YNp1)\n",
    "xN = XN/(1+XN)\n",
    "KN = yNp1/xN\n",
    "X0 = .04\n",
    "LpMin = Vp*(YNp1-Y1)/(YNp1/(YNp1*(KN-1)+KN)-X0)\n",
    "\n",
    "flow = LpMin/Vp\n",
    "# print(flow)"
   ]
  },
  {
   "cell_type": "markdown",
   "metadata": {},
   "source": [
    "$\\frac{L'}{V'} = 1.83$"
   ]
  },
  {
   "cell_type": "markdown",
   "metadata": {},
   "source": [
    "## Problem 2.2\n",
    "Determine the number of stages if twice the minimum flow rate is used."
   ]
  },
  {
   "cell_type": "markdown",
   "metadata": {},
   "source": [
    "The number of stages can be found graphically similarly to the process in problem 1. The equilibrium data is plotted and the operating line can be determined by $X_0$, $Y_1$, and $\\frac{L'}{V'}$. The lines can then be drawn in to connect the equilibrium curve and operating line."
   ]
  },
  {
   "cell_type": "code",
   "execution_count": 53,
   "metadata": {},
   "outputs": [],
   "source": [
    "X = np.array([.01,.02,.03,.04,.05,.06,.07,.08,.09,.1,.11])                              #co2/air\n",
    "Y = np.array([.003,.008,.015,.023,.032,.043,.055,.068,.083,.099,.12])                   #co2/amine\n",
    "\n",
    "\n",
    "xinterp = interp.interp1d(Y,X,kind='cubic')                                             #interpolation of data\n",
    "slope = 2*flow      \n",
    "                                                            \n",
    "def Ynp1(XN):                                                                           #returns op line\n",
    "    return (XN-X0)*slope+Y1\n",
    "dep = np.linspace(X0,.11)\n",
    "# print(slope)"
   ]
  },
  {
   "cell_type": "code",
   "execution_count": 54,
   "metadata": {},
   "outputs": [
    {
     "data": {
      "text/plain": [
       "''"
      ]
     },
     "execution_count": 54,
     "metadata": {},
     "output_type": "execute_result"
    },
    {
     "data": {
      "image/png": "[encoded data removed]",
      "text/plain": [
       "<Figure size 432x288 with 1 Axes>"
      ]
     },
     "metadata": {
      "needs_background": "light"
     },
     "output_type": "display_data"
    }
   ],
   "source": [
    "plt.plot(X,Y,label='EQ curve')\n",
    "plt.scatter(X0,Y1)\n",
    "plt.plot(dep,Ynp1(dep),label='op line')\n",
    "plt.grid()\n",
    "plt.ylim(0,.12)\n",
    "\n",
    "x1 = xinterp(Y1)                                                            #lines connecting eq and op lines\n",
    "y1 = Ynp1(x1)\n",
    "x2 = xinterp(y1)\n",
    "y2 = Ynp1(x2)\n",
    "x3 = xinterp(y2)\n",
    "y3 = Ynp1(x3)\n",
    "# x4 = xinterp(y3)\n",
    "# y4 = Ynp1(x4)\n",
    "# x5 = xinterp(y4)\n",
    "# y5 = Ynp1(x5)\n",
    "# x6 = xinterp(y5)\n",
    "# y6 = Ynp1(x6)\n",
    "# x7 = xinterp(y6)                                                        # only has 6 stages. use x7,y7 to check\n",
    "# y7 = Ynp1(x7)\n",
    "    \n",
    "\n",
    "\n",
    "plt.hlines(Y1,X0,x1)                    \n",
    "plt.vlines(x1,Y1,y1)\n",
    "plt.hlines(y1,x1,x2)\n",
    "plt.vlines(x2,y1,y2)\n",
    "plt.hlines(y2,x2,x3)\n",
    "plt.vlines(x3,y2,y3)\n",
    "\n",
    "plt.title('Absorption of CO2')\n",
    "plt.ylabel('Y')\n",
    "plt.xlabel('X')\n",
    "plt.legend()\n",
    "\n",
    ";"
   ]
  },
  {
   "cell_type": "markdown",
   "metadata": {},
   "source": [
    "$3$ theoretical stages are required for this process."
   ]
  },
  {
   "cell_type": "markdown",
   "metadata": {},
   "source": [
    "## Problem 2.3\n",
    "Determine number of actual trays needed if each stage has an efficiency of $40$%"
   ]
  },
  {
   "cell_type": "markdown",
   "metadata": {},
   "source": [
    "The efficiency is found by \n",
    "$$\n",
    "E = \\frac{N_t}{N_a} \\tag{2}\n",
    "$$\n"
   ]
  },
  {
   "cell_type": "markdown",
   "metadata": {},
   "source": [
    "which means that $N_a=\\frac{3}{0.40} = 7.5$ so $8$ actual trays are required."
   ]
  }
 ],
 "metadata": {
  "interpreter": {
   "hash": "04e0bdae412e3c8df7b0aceceeb80c1c6940bf3e349c37f8e47e417772dfa615"
  },
  "kernelspec": {
   "display_name": "Python 3.9.6 64-bit",
   "language": "python",
   "name": "python3"
  },
  "language_info": {
   "codemirror_mode": {
    "name": "ipython",
    "version": 3
   },
   "file_extension": ".py",
   "mimetype": "text/x-python",
   "name": "python",
   "nbconvert_exporter": "python",
   "pygments_lexer": "ipython3",
   "version": "3.9.6"
  },
  "orig_nbformat": 4
 },
 "nbformat": 4,
 "nbformat_minor": 2
}
