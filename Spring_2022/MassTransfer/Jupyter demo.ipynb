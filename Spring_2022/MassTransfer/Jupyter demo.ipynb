{
 "cells": [
  {
   "cell_type": "markdown",
   "id": "88f0bfb8",
   "metadata": {},
   "source": [
    "# Section heading\n",
    "One `#` indicates a section heading\n",
    "\n",
    "_itaicise_ text\n",
    "\n",
    "__bold face__ text\n",
    "\n",
    "## Subsection heading"
   ]
  },
  {
   "cell_type": "markdown",
   "id": "90194636",
   "metadata": {},
   "source": [
    "\\usepackage{graphicx}\n",
    "\\begin{align}\n",
    "    g &= \\int_a^b f(x)dx \\tag{1} \\\\\n",
    "\\end{align}\n",
    "\n"
   ]
  },
  {
   "cell_type": "markdown",
   "id": "b1c761cb",
   "metadata": {},
   "source": []
  },
  {
   "cell_type": "markdown",
   "id": "4f7aeba3",
   "metadata": {},
   "source": [
    "A fraction: $$\\frac{a}{\\beta}$$\n",
    "\n",
    "A displayed equation:\n",
    "\\begin{equation}\n",
    "  \\mathcal{L}\n",
    "\\end{equation}\n",
    "\n",
    "\\begin{equation}\n",
    " \\frac{a}{n} \\label {1}\n",
    "\\end{equation}\n",
    "\n",
    "And without numbering:\n",
    "\\begin{equation}\n",
    " \\int_\\alpha^\\beta f(x) dx \\nonumber\n",
    "\\end{equation}"
   ]
  },
  {
   "cell_type": "markdown",
   "id": "e69f4b96",
   "metadata": {},
   "source": [
    "Let's look closer at \\eqref{my-fraction}\n",
    "\n",
    "\\ref{my-fraction}"
   ]
  },
  {
   "cell_type": "markdown",
   "id": "5307dbf7",
   "metadata": {},
   "source": [
    "# Python in notebooks"
   ]
  },
  {
   "cell_type": "markdown",
   "id": "ba91dee3",
   "metadata": {},
   "source": [
    "## Lists\n"
   ]
  },
  {
   "cell_type": "code",
   "execution_count": 1,
   "id": "ab957027",
   "metadata": {},
   "outputs": [
    {
     "name": "stdout",
     "output_type": "stream",
     "text": [
      "['dog food', 3.141, 'ice cream']\n"
     ]
    }
   ],
   "source": [
    "shopping = ['dog food',3.141,'ice cream']\n",
    "print(shopping)"
   ]
  },
  {
   "cell_type": "code",
   "execution_count": 2,
   "id": "8c18fead",
   "metadata": {},
   "outputs": [
    {
     "name": "stdout",
     "output_type": "stream",
     "text": [
      "dog food\n",
      "3.141\n",
      "ice cream\n"
     ]
    }
   ],
   "source": [
    "for item in shopping:\n",
    "    print(item)"
   ]
  },
  {
   "cell_type": "code",
   "execution_count": 3,
   "id": "c4af62a1",
   "metadata": {},
   "outputs": [
    {
     "name": "stdout",
     "output_type": "stream",
     "text": [
      "0 dog food\n",
      "1 3.141\n",
      "2 ice cream\n"
     ]
    }
   ],
   "source": [
    "for i in range(0,len(shopping)):\n",
    "    print(i,shopping[i])"
   ]
  },
  {
   "cell_type": "code",
   "execution_count": 4,
   "id": "d80ac2e2",
   "metadata": {},
   "outputs": [],
   "source": [
    "shopping.append('bread')"
   ]
  },
  {
   "cell_type": "code",
   "execution_count": 5,
   "id": "2cd18c47",
   "metadata": {},
   "outputs": [
    {
     "name": "stdout",
     "output_type": "stream",
     "text": [
      "['dog food', 3.141, 'ice cream', 'bread']\n"
     ]
    }
   ],
   "source": [
    "print(shopping)"
   ]
  },
  {
   "cell_type": "markdown",
   "id": "6b5527b8",
   "metadata": {},
   "source": [
    "See ([1](#mjx-eqn-1))"
   ]
  },
  {
   "cell_type": "markdown",
   "id": "df5dc00c",
   "metadata": {},
   "source": [
    "## Numpy arrays\n"
   ]
  },
  {
   "cell_type": "code",
   "execution_count": 6,
   "id": "aee624db",
   "metadata": {},
   "outputs": [
    {
     "name": "stdout",
     "output_type": "stream",
     "text": [
      "[1.1 2.2 3.3] [ 3.00416602  9.0250135  27.11263892]\n",
      "[ 0.00000000e+00  6.34239197e-02  1.26592454e-01  1.89251244e-01\n",
      "  2.51147987e-01  3.12033446e-01  3.71662456e-01  4.29794912e-01\n",
      "  4.86196736e-01  5.40640817e-01  5.92907929e-01  6.42787610e-01\n",
      "  6.90079011e-01  7.34591709e-01  7.76146464e-01  8.14575952e-01\n",
      "  8.49725430e-01  8.81453363e-01  9.09631995e-01  9.34147860e-01\n",
      "  9.54902241e-01  9.71811568e-01  9.84807753e-01  9.93838464e-01\n",
      "  9.98867339e-01  9.99874128e-01  9.96854776e-01  9.89821442e-01\n",
      "  9.78802446e-01  9.63842159e-01  9.45000819e-01  9.22354294e-01\n",
      "  8.95993774e-01  8.66025404e-01  8.32569855e-01  7.95761841e-01\n",
      "  7.55749574e-01  7.12694171e-01  6.66769001e-01  6.18158986e-01\n",
      "  5.67059864e-01  5.13677392e-01  4.58226522e-01  4.00930535e-01\n",
      "  3.42020143e-01  2.81732557e-01  2.20310533e-01  1.58001396e-01\n",
      "  9.50560433e-02  3.17279335e-02 -3.17279335e-02 -9.50560433e-02\n",
      " -1.58001396e-01 -2.20310533e-01 -2.81732557e-01 -3.42020143e-01\n",
      " -4.00930535e-01 -4.58226522e-01 -5.13677392e-01 -5.67059864e-01\n",
      " -6.18158986e-01 -6.66769001e-01 -7.12694171e-01 -7.55749574e-01\n",
      " -7.95761841e-01 -8.32569855e-01 -8.66025404e-01 -8.95993774e-01\n",
      " -9.22354294e-01 -9.45000819e-01 -9.63842159e-01 -9.78802446e-01\n",
      " -9.89821442e-01 -9.96854776e-01 -9.99874128e-01 -9.98867339e-01\n",
      " -9.93838464e-01 -9.84807753e-01 -9.71811568e-01 -9.54902241e-01\n",
      " -9.34147860e-01 -9.09631995e-01 -8.81453363e-01 -8.49725430e-01\n",
      " -8.14575952e-01 -7.76146464e-01 -7.34591709e-01 -6.90079011e-01\n",
      " -6.42787610e-01 -5.92907929e-01 -5.40640817e-01 -4.86196736e-01\n",
      " -4.29794912e-01 -3.71662456e-01 -3.12033446e-01 -2.51147987e-01\n",
      " -1.89251244e-01 -1.26592454e-01 -6.34239197e-02 -2.44929360e-16]\n"
     ]
    }
   ],
   "source": [
    "import numpy as np\n",
    "\n",
    "a = np.array([1.1,2.2,3.3])\n",
    "print(a,np.exp(a))\n",
    "\n",
    "b = np.linspace(0,2*np.pi,100)\n",
    "print(np.sin(b))"
   ]
  },
  {
   "cell_type": "code",
   "execution_count": 7,
   "id": "4f836aab",
   "metadata": {},
   "outputs": [
    {
     "name": "stdout",
     "output_type": "stream",
     "text": [
      "[array([], dtype=float64), 0.8912073600614354, 0.8084964038195901, -0.1577456941432482]\n"
     ]
    }
   ],
   "source": [
    "y = [np.array([])]\n",
    "for x in a:\n",
    "    y.append(np.sin(x))\n",
    "print(y)"
   ]
  },
  {
   "cell_type": "code",
   "execution_count": 8,
   "id": "8d36642c",
   "metadata": {},
   "outputs": [
    {
     "data": {
      "image/png": "[encoded data removed]",
      "text/plain": [
       "<Figure size 432x288 with 1 Axes>"
      ]
     },
     "metadata": {
      "needs_background": "light"
     },
     "output_type": "display_data"
    }
   ],
   "source": [
    "import matplotlib.pyplot as plt\n",
    "\n",
    "plt.plot(b,np.sin(b),label='sin')\n",
    "plt.plot(b,np.cos(b),label='cos')\n",
    "plt.legend()\n",
    "plt.xlabel('x')\n",
    "plt.ylabel('f(x)')\n",
    "plt.grid()\n",
    "plt.ylim([-1,1])\n",
    "plt.xlim([0,2*np.pi])\n",
    "plt.show()"
   ]
  },
  {
   "cell_type": "code",
   "execution_count": 9,
   "id": "f75f583a",
   "metadata": {},
   "outputs": [
    {
     "data": {
      "application/vnd.jupyter.widget-view+json": {
       "model_id": "25b56c73089041ccaadcbb9ad0007fd8",
       "version_major": 2,
       "version_minor": 0
      },
      "text/plain": [
       "interactive(children=(FloatSlider(value=1.0, description='Frequency', max=10.0, min=1.0, step=0.5), Output()),…"
      ]
     },
     "metadata": {},
     "output_type": "display_data"
    },
    {
     "data": {
      "text/plain": [
       "<function __main__.func(ω)>"
      ]
     },
     "execution_count": 9,
     "metadata": {},
     "output_type": "execute_result"
    }
   ],
   "source": [
    "import ipywidgets as widgets\n",
    "from ipywidgets import interact\n",
    "\n",
    "def func(ω):\n",
    "    x = np.linspace(0,2*np.pi,200)\n",
    "    plt.plot(x,np.sin(ω*x),label='sin')\n",
    "    plt.plot(x,np.cos(ω*x),label='cos')\n",
    "    plt.legend()\n",
    "    plt.xlabel('x')\n",
    "    plt.ylabel('f(x)')\n",
    "    plt.grid()\n",
    "    plt.ylim([-1,1])\n",
    "    plt.xlim([0,2*np.pi])\n",
    "    plt.show()\n",
    "\n",
    "my_freq = widgets.FloatSlider(\n",
    "    value=1,\n",
    "    min=1,\n",
    "    max=10.0,\n",
    "    step=0.5,\n",
    "    description='Frequency',\n",
    "    continuous_update=True,\n",
    ")\n",
    "\n",
    "interact(func,ω=my_freq)"
   ]
  }
 ],
 "metadata": {
  "hide_input": false,
  "kernelspec": {
   "display_name": "Python 3 (ipykernel)",
   "language": "python",
   "name": "python3"
  },
  "language_info": {
   "codemirror_mode": {
    "name": "ipython",
    "version": 3
   },
   "file_extension": ".py",
   "mimetype": "text/x-python",
   "name": "python",
   "nbconvert_exporter": "python",
   "pygments_lexer": "ipython3",
   "version": "3.9.6"
  },
  "latex_envs": {
   "LaTeX_envs_menu_present": true,
   "autoclose": false,
   "autocomplete": true,
   "bibliofile": "biblio.bib",
   "cite_by": "apalike",
   "current_citInitial": 1,
   "eqLabelWithNumbers": true,
   "eqNumInitial": 1,
   "hotkeys": {
    "equation": "Ctrl-E",
    "itemize": "Ctrl-I"
   },
   "labels_anchors": false,
   "latex_user_defs": false,
   "report_style_numbering": false,
   "user_envs_cfg": false
  },
  "toc": {
   "base_numbering": 1,
   "nav_menu": {},
   "number_sections": false,
   "sideBar": true,
   "skip_h1_title": false,
   "title_cell": "Table of Contents",
   "title_sidebar": "Contents",
   "toc_cell": false,
   "toc_position": {},
   "toc_section_display": true,
   "toc_window_display": false
  },
  "varInspector": {
   "cols": {
    "lenName": 16,
    "lenType": 16,
    "lenVar": 40
   },
   "kernels_config": {
    "python": {
     "delete_cmd_postfix": "",
     "delete_cmd_prefix": "del ",
     "library": "var_list.py",
     "varRefreshCmd": "print(var_dic_list())"
    },
    "r": {
     "delete_cmd_postfix": ") ",
     "delete_cmd_prefix": "rm(",
     "library": "var_list.r",
     "varRefreshCmd": "cat(var_dic_list()) "
    }
   },
   "types_to_exclude": [
    "module",
    "function",
    "builtin_function_or_method",
    "instance",
    "_Feature"
   ],
   "window_display": false
  }
 },
 "nbformat": 4,
 "nbformat_minor": 5
}
