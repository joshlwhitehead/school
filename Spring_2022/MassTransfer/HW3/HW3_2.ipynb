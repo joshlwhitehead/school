{
 "cells": [
  {
   "cell_type": "markdown",
   "metadata": {},
   "source": [
    "# Problem 2\n",
    "## Problem 2.1\n",
    "Describe expected profile for $x_A(z)$\n",
    "### Problem2.1.a"
   ]
  },
  {
   "cell_type": "markdown",
   "metadata": {},
   "source": [
    "When $J_A$ is a negative constant, ficks law can be written as\n",
    "$$\n",
    "J_A = -k = -cD_{AB}\\frac{dx_A}{dz} \\tag{1}\n",
    "$$\n",
    "rearranging gives\n",
    "$$\n",
    "\\frac{dx_A}{dz} = \\frac{k}{cD_{AB}}\n",
    "$$\n",
    "which shows that with a negative constant for $J_A$, $\\frac{dx_A}{dz}$ is positive which would mean that $x_A(z)$ has a positive slope"
   ]
  },
  {
   "cell_type": "markdown",
   "metadata": {},
   "source": [
    "### Proplem 2.1.b\n",
    "When $J_A$ is linear with a positive slope the following relationship can be used\n",
    "$$\n",
    "N_A = x_AN+J_A \\tag{2}\n",
    "$$\n",
    "which can be rearranged to give\n",
    "$$\n",
    "J_A = -Nx_A+N_A\n",
    "$$\n",
    "which is a linear expression for $J_A$ but it has a negative slope. In order to make the slope positive, $x_A(z)$ would need to be decreasing. so $x_A(z)$ would have a negative slope."
   ]
  },
  {
   "cell_type": "markdown",
   "metadata": {},
   "source": [
    "## Problem 2.2\n",
    "Describe expected profile for $J_A$\n",
    "### Problem 2.2.a\n",
    "When $x_A(z)$ is linear with a negative slope, $\\frac{dx_A}{dz} = -k$\n",
    "</br>\n",
    "</br>\n",
    "$\\therefore$\n",
    "$$\n",
    "J_A = -cD_{AB}(-k) = kcD_{AB} \\tag{3}\n",
    "$$\n",
    "where $k$ is a constant.\n",
    "</br></br>\n",
    "([3](#mjx-eqn-3)) shows that $J_A$ would be a positive constant if c is constant, or have a positive slope if c is variable.\n"
   ]
  },
  {
   "cell_type": "markdown",
   "metadata": {},
   "source": [
    "### Problem 2.2.b\n",
    "When $x_A(z)$ is a gaussian function centered at $z=-2$ there are three scenarios:\n",
    "</br></br>\n",
    "a.) $z<-2$\n",
    "</br></br>\n",
    "b.) $z=-2$\n",
    "</br></br>\n",
    "c.) $z>-2$"
   ]
  },
  {
   "cell_type": "markdown",
   "metadata": {},
   "source": [
    "when $z<-2$, $\\frac{dx_A}{dz}>0$. Using Fick's law,\n",
    "$$\n",
    "J_A = -cD_{AB}\\frac{dx_A}{dz}\n",
    "$$\n",
    "which means $J_A<0$"
   ]
  },
  {
   "cell_type": "markdown",
   "metadata": {},
   "source": [
    "when $z=-2$, $\\frac{dx_A}{dz}=0$ so $J_A=0$"
   ]
  },
  {
   "cell_type": "markdown",
   "metadata": {},
   "source": [
    "when $z>-2$, $\\frac{dx_A}{dz}<0$ so\n",
    "$$\n",
    "J_A = cD_AB\\frac{dx_A}{dz}\n",
    "$$\n",
    "$\\therefore$ $J_A >0$"
   ]
  }
 ],
 "metadata": {
  "language_info": {
   "name": "python"
  },
  "orig_nbformat": 4
 },
 "nbformat": 4,
 "nbformat_minor": 2
}
