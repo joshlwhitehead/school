{
 "cells": [
  {
   "cell_type": "markdown",
   "metadata": {},
   "source": [
    "# Problem 3\n",
    "Equimolar Diffusion\n",
    "## Problem 3.1.a\n",
    "Determine $t$ when $x_{Xe}=0.6$ in bulb 1"
   ]
  },
  {
   "cell_type": "markdown",
   "metadata": {},
   "source": [
    "Starting with an integral mol balance,\n",
    "$$\n",
    "\\frac{d}{dt}\\int c_{Xe}dV = -\\int x_{Xe}cv_M\\cdot adS-\\int J_{Xe}\\cdot adS+\\int S_{Xe}dV \\tag{1}\n",
    "$$\n",
    "we know that $v_M=0$ and there is no reaction so ([1](#mjx-eqn-1)) goes to\n",
    "$$\n",
    "\\frac{d}{dt}\\int c_{Xe}dV =-\\int J_{Xe}\\cdot adS\n",
    "$$\n",
    "which can be evaluated to be\n",
    "$$\n",
    "cV_0\\frac{dx_{Xe}^0}{dt} = J_{Xe}^0A_c \\tag{2}\n",
    "$$\n",
    "Since $N=0$ the following relationship holds\n",
    "$$\n",
    "N_{Xe} = x_{Xe}N+J_{Xe} = J_{Xe} \\tag{3}\n",
    "$$\n",
    "so ([2](#mjx-eqn-2)) becomes\n",
    "$$\n",
    "cV_0\\frac{dx_{Xe}^0}{dt} = N_{Xe}A_c \\tag{4}\n",
    "$$"
   ]
  },
  {
   "cell_type": "markdown",
   "metadata": {},
   "source": [
    "In is also true that\n",
    "$$\n",
    "A_cJ_{Xe}^0 = A_cJ_{Xe}^L\n",
    "$$\n",
    "which implies that $J_{Xe}$ and $N_{Xe}$ are constant.\n",
    "</br></br>\n",
    "Using Fick's law to find $N_{Xe}$\n",
    "$$\n",
    "J_{Xe} = N_{Xe} = -cD_{AB}\\frac{dx_{Xe}}{dz}\n",
    "$$\n",
    "rearranged is\n",
    "$$\n",
    "N_{Xe}\\int_0^L dz = -cD_{AB}\\int_0^L dx_{Xe}\n",
    "$$\n",
    "and evaluate to get\n",
    "$$\n",
    "N_{Xe} = \\frac{-cD_{AB}}{L}(x_{Xe}^L-x_{Xe}^0) \\tag{5}\n",
    "$$\n",
    "where L is the length of the tube"
   ]
  },
  {
   "cell_type": "markdown",
   "metadata": {},
   "source": [
    "Now ([5](#mjx-eqn-5)) can be substituted in for ([4](#mjx-eqn-4)) to get\n",
    "$$\n",
    "V_0\\frac{dx_{Xe}^0}{dt} = \\frac{A_cD_{AB}}{L}(x_{Xe}^L-x_{Xe}^0) \\tag{6}\n",
    "$$\n",
    "$x_{Xe}^L$ can be found by doing a total mol balance on both bulbs,\n",
    "$$\n",
    "cx_{Xe}^0V_0+cx_{Xe}^LV_L = cx_{Xe}^{\\infty}(V_0+V_L)\n",
    "$$\n",
    "which is rearranged to get\n",
    "$$\n",
    "x_{Xe}^L = x_{Xe}^\\infty(1+\\frac{V_0}{V_L})-x_{Xe}^0\\frac{V_0}{V_L} \\tag{7}\n",
    "$$"
   ]
  },
  {
   "cell_type": "markdown",
   "metadata": {},
   "source": [
    "([7](#mjx-eqn-7)) can be inserted into ([6](#mjx-eqn-6)) and evaluated to get\n",
    "$$\n",
    "x_{Xe}^0 = x_{Xe}^\\infty + (x_{Xe_0}-x_{Xe}^\\infty )\\exp(-\\beta D_{AB}t) \\tag{8}\n",
    "$$\n",
    "where\n",
    "$$\n",
    "\\beta = \\frac{A_c}{V_0L}(1+\\frac{V_0}{V_L})\n",
    "$$\n",
    "$x_{Xe}^\\infty$ can also be found by the overall mole balance because $c$ cancels out and $V_0=V_L$.\n",
    "</br></br>\n",
    "$\\therefore$\n",
    "$$\n",
    "V(x_{Xe}^0+x_{Xe}^L) = x_{Xe}^\\infty (2V)\n",
    "$$\n",
    "and rearranging gives\n",
    "$$\n",
    "x_{Xe}^\\infty = \\frac{x_{Xe}^0+x_{Xe}^L}{2}\n",
    "$$\n",
    "At $t=0$: $x_{Xe}^0=1$ and $x_{Xe}^L=0$ which means $x_{Xe}^\\infin = 0.5$\n",
    "</br></br>\n",
    "([8](#mjx-eqn-8)) will be used in the following code to anser part a"
   ]
  },
  {
   "cell_type": "code",
   "execution_count": 1,
   "metadata": {},
   "outputs": [],
   "source": [
    "import numpy as np\n",
    "import matplotlib.pyplot as plt"
   ]
  },
  {
   "cell_type": "code",
   "execution_count": 2,
   "metadata": {},
   "outputs": [],
   "source": [
    "d = .2                                              #tube diam cm\n",
    "L = 10                                              #tube len cm\n",
    "DAB = .180                                                #diffusiv cm2/sec\n",
    "D = 15                                              #bulb diam cm\n",
    "VL = 4/3*np.pi*(.5*D)**3                                 #volume of bulb cm3\n",
    "V0=4/3*np.pi*(.5*D)**3\n",
    "xinf = .5                                               #x at t=inf\n",
    "Ac = np.pi*(.5*d)**2                                    #cross sectional area\n",
    "xa00 = 1                                                #x at t=0 in bulb1\n",
    "\n",
    "beta1 = Ac/V0/L*(1+V0/VL)         "
   ]
  },
  {
   "cell_type": "code",
   "execution_count": 3,
   "metadata": {},
   "outputs": [
    {
     "name": "stdout",
     "output_type": "stream",
     "text": [
      "698.5407606050782\n"
     ]
    }
   ],
   "source": [
    "def t(xa0):\n",
    "    t = -np.log((xa0-xinf)/(xa00-xinf))/beta1/DAB\n",
    "    return t/3600\n",
    "print(t(.6))"
   ]
  },
  {
   "cell_type": "markdown",
   "metadata": {},
   "source": [
    "It will take about 699. hours for $x_{Xe}=0.6$ in bulb 1"
   ]
  },
  {
   "cell_type": "markdown",
   "metadata": {},
   "source": [
    "### Problem 3.1.b\n",
    "A similar approach was taken as part a to derive\n",
    "$$\n",
    "x_{Xe}^L = x_{Xe}^\\infty +(x_{Xe_0}^L-x_{Xe}^\\infty )exp(-\\beta D_{AB}t) \\tag{9}\n",
    "$$\n",
    "where \n",
    "$$\n",
    "\\beta = \\frac{A_c}{V_LL}(1+\\frac{V_L}{V_0})\n",
    "$$"
   ]
  },
  {
   "cell_type": "code",
   "execution_count": 4,
   "metadata": {},
   "outputs": [
    {
     "name": "stdout",
     "output_type": "stream",
     "text": [
      "397.69563015371307\n"
     ]
    }
   ],
   "source": [
    "xa0L = 0                                                            #x in bulb2 at t=0\n",
    "beta2 = Ac/VL/L*(1+VL/V0)\n",
    "def t(xaL):\n",
    "    t = np.log((xaL-xinf)/(xa0L-xinf))/-beta2/DAB\n",
    "    return t/3600\n",
    "print(t(.3))"
   ]
  },
  {
   "cell_type": "markdown",
   "metadata": {},
   "source": [
    "It will take about 398. hours for $x_{Xe} = 0.3$ in bulb 2"
   ]
  },
  {
   "cell_type": "markdown",
   "metadata": {},
   "source": [
    "## Problem 3.2\n",
    "To determine the molar flux at $t=90$ for both Xe and Ar, ([8](#mjx-eqn-8)), ([9](#mjx-eqn-9)), and ([5](#mjx-eqn-5)) can be used. I will first use ([8](#mjx-eqn-8)) and ([9](#mjx-eqn-9)) to solve for the molar fractions in both bulbs and then plug those values into ([5](#mjx-eqn-5)). $N_{Xe} = -N_{Ar}$. $c$ will be found by using the ideal gas law.\n",
    "$$\n",
    "\\frac{n}{V} = c = \\frac{P}{RT} \\tag{10}\n",
    "$$"
   ]
  },
  {
   "cell_type": "code",
   "execution_count": 5,
   "metadata": {},
   "outputs": [
    {
     "name": "stdout",
     "output_type": "stream",
     "text": [
      "4.7145197722612887e-07\n"
     ]
    }
   ],
   "source": [
    "P = 1                                                                           #pressure atm\n",
    "T = 105+273.15                                                                      #temp k\n",
    "R = 82.057                                                              #gas constant cm3*atm/k/mol\n",
    "c = P/R/T                                                                   #starting concentration of each species mol/cm3\n",
    "def xa0(t):\n",
    "    xa0 = xinf + (xa00-xinf)*np.exp(-beta1*DAB*t)\n",
    "    return xa0\n",
    "\n",
    "def xaL(t):\n",
    "    xaL = xinf + (xa0L-xinf)*np.exp(-beta2*DAB*t)\n",
    "    return xaL\n",
    "\n",
    "def NA(xa0,xaL):\n",
    "    NA = -c*DAB/L*(xaL-xa0)\n",
    "    return NA\n",
    "\n",
    "NA = NA(xa0(90*3600),xaL(90*3600))\n",
    "print(NA)"
   ]
  },
  {
   "cell_type": "markdown",
   "metadata": {},
   "source": [
    "$N_{Xe} = 4.71e-7 \\frac{mol}{cm^2sec}$\n",
    "</br></br>\n",
    "$N_{Ar} = -4.71e-7 \\frac{mol}{cm^2sec}$"
   ]
  },
  {
   "cell_type": "markdown",
   "metadata": {},
   "source": [
    "## Problem 3.3\n",
    "To find the velocities, I first derive an expression for $x_{Xe}(z)$. As established before:\n",
    "$$\n",
    "J_{Xe} = N_{Xe} = -cD_{AB}\\frac{dx_{Xe}}{dz}\n",
    "$$\n",
    "which can be rewritten as\n",
    "$$\n",
    "N_{Xe}\\int_0^zdz = -cD_{AB}\\int_{x_{Xe}^0}^{x_{Xe}^z}dx_{Xe}\n",
    "$$\n",
    "and evaluated to be\n",
    "$$\n",
    "x_{Xe}^z-x_{Xe}^0 = -\\frac{N_{Xe}}{cD_{AB}}z\n",
    "$$\n",
    "Now ([5](#mjx-eqn-5)) can substitue into $N_{Xe}$ to give\n",
    "$$\n",
    "x_{Xe} = x_{Xe}^0 + (x_{Xe}^L-x_{Xe}^0)\\frac{z}{L} \\tag{11}\n",
    "$$\n",
    "and \n",
    "$$\n",
    "x_{Ar} = 1-x_{Xe}\\tag{12}\n",
    "$$"
   ]
  },
  {
   "cell_type": "markdown",
   "metadata": {},
   "source": [
    "Velocity of each species can be written as\n",
    "$$\n",
    "v_i = \\frac{N_i}{cx_i} \\tag{13}\n",
    "$$\n",
    "$N_i$ and $c$ were calculated previously."
   ]
  },
  {
   "cell_type": "code",
   "execution_count": 6,
   "metadata": {},
   "outputs": [],
   "source": [
    "def xA(z,xa0,xaL):\n",
    "    xA = xa0 + (xaL-xa0)*z/L\n",
    "    return xA\n",
    "\n",
    "def v(x,spec):\n",
    "    if spec == 1:\n",
    "        return NA/c/x\n",
    "    elif spec == 2:\n",
    "        return -NA/c/x\n",
    "        \n",
    "z = np.linspace(0,10,999)"
   ]
  },
  {
   "cell_type": "code",
   "execution_count": 7,
   "metadata": {},
   "outputs": [],
   "source": [
    "xa0_90 = xa0(90*3600)\n",
    "xaL_90 = xaL(90*3600)\n",
    "xa_z = xA(z,xa0_90,xaL_90)\n",
    "va = v(xa_z,1)\n",
    "\n",
    "xb0_90 = 1-xa0_90\n",
    "xbL_90 = 1-xaL_90\n",
    "xb_z = 1-xa_z\n",
    "vb = v(xb_z,2)\n"
   ]
  },
  {
   "cell_type": "code",
   "execution_count": 8,
   "metadata": {},
   "outputs": [
    {
     "name": "stdout",
     "output_type": "stream",
     "text": [
      "0.1562327457619987 \n",
      " -0.016140418446698973\n"
     ]
    },
    {
     "data": {
      "image/png": "[encoded data removed]",
      "text/plain": [
       "<Figure size 432x288 with 1 Axes>"
      ]
     },
     "metadata": {
      "needs_background": "light"
     },
     "output_type": "display_data"
    }
   ],
   "source": [
    "plt.plot(z,va,label='Xe')\n",
    "plt.plot(z,vb,label='Ar')\n",
    "plt.legend()\n",
    "plt.grid()\n",
    "plt.title('Velocities of Xe and Ar')\n",
    "plt.xlabel('Distance (cm)')\n",
    "plt.ylabel(''.join(['Velocity ',r'($\\frac{cm}{sec}$)']))\n",
    ";\n",
    "print(va[-1],'\\n',vb[-1])"
   ]
  },
  {
   "cell_type": "markdown",
   "metadata": {},
   "source": [
    "At $z=L$,\n",
    "</br></br>\n",
    "$v_{Xe} = 0.156 \\frac{cm}{sec}$\n",
    "</br></br>\n",
    "$v_{Ar} = -1.61e-2 \\frac{cm}{sec}$"
   ]
  },
  {
   "cell_type": "markdown",
   "metadata": {},
   "source": [
    "## Problem 3.4\n",
    "At $z=L$, $v_M = 0$ as shown by\n",
    "$$\n",
    "v_M = \\frac{N}{c} = \\frac{0}{c}\n",
    "$$"
   ]
  },
  {
   "cell_type": "markdown",
   "metadata": {},
   "source": [
    "## Problem 3.5\n",
    "The mass averaged velocity can be determined using\n",
    "$$\n",
    "v_m = \\frac{\\Sigma m_iv_i}{m_{tot}}\n",
    "$$\n",
    "$m_i$ can be determined by using the ideal gas law and the molar masses of each species\n",
    "$$\n",
    "m = nM\n",
    "$$\n",
    "where M is molar mass"
   ]
  },
  {
   "cell_type": "code",
   "execution_count": 9,
   "metadata": {},
   "outputs": [
    {
     "name": "stdout",
     "output_type": "stream",
     "text": [
      "0.11601992405297935\n"
     ]
    },
    {
     "data": {
      "image/png": "[encoded data removed]",
      "text/plain": [
       "<Figure size 432x288 with 1 Axes>"
      ]
     },
     "metadata": {
      "needs_background": "light"
     },
     "output_type": "display_data"
    }
   ],
   "source": [
    "Mx = 131.29                                 #molar mass of xe g/mol\n",
    "Ma = 39.948                                 #molar mass of ar g/mol\n",
    "n = P*V0/R*T                                #number of moles of each species\n",
    "mx = n*Mx                                   #mass xe g\n",
    "ma = n*Ma                                   #mass ar g\n",
    "\n",
    "vm = (mx*va+ma*vb)/(ma+mx)\n",
    "plt.plot(z,vm)\n",
    "plt.grid()\n",
    "plt.title('Mass Averaged Velocity')\n",
    "plt.xlabel('Distance (cm)')\n",
    "plt.ylabel(''.join(['Velocity ',r'($\\frac{cm}{sec}$)']));\n",
    "print(vm[-1])"
   ]
  },
  {
   "cell_type": "markdown",
   "metadata": {},
   "source": [
    "At $z=L$,\n",
    "</br></br>\n",
    "$v_m = 0.116 \\frac{cm}{sec}$"
   ]
  }
 ],
 "metadata": {
  "interpreter": {
   "hash": "04e0bdae412e3c8df7b0aceceeb80c1c6940bf3e349c37f8e47e417772dfa615"
  },
  "kernelspec": {
   "display_name": "Python 3.9.6 64-bit",
   "language": "python",
   "name": "python3"
  },
  "language_info": {
   "codemirror_mode": {
    "name": "ipython",
    "version": 3
   },
   "file_extension": ".py",
   "mimetype": "text/x-python",
   "name": "python",
   "nbconvert_exporter": "python",
   "pygments_lexer": "ipython3",
   "version": "3.9.6"
  },
  "orig_nbformat": 4
 },
 "nbformat": 4,
 "nbformat_minor": 2
}
