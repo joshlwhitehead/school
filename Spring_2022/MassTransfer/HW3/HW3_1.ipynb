{
 "cells": [
  {
   "cell_type": "markdown",
   "metadata": {},
   "source": [
    "# Problem 1\n",
    "## Problem 1.1\n",
    "Starting with the definition,\n",
    "$$\n",
    "N_A = x_A(N_A+N_B)+J_A \\tag{1}\n",
    "$$\n",
    "derive the expression for $n_A$ with diffusion between concentric spheres but no bulk flow,\n",
    "$$\n",
    "n_A = -4\\pi r_1r_2D_{AB}(\\frac{c_{A_2}-c_{A_1}}{r_2-r_1}) \\tag{2}\n",
    "$$"
   ]
  },
  {
   "cell_type": "markdown",
   "metadata": {},
   "source": [
    "$n_A$ is defined as \n",
    "$$\n",
    "n_A = x_A(n_A+n_B)+AJ_A \\tag{3}\n",
    "$$\n",
    "where A is surface area"
   ]
  },
  {
   "cell_type": "markdown",
   "metadata": {},
   "source": [
    "Since there is no bulk flow, $N=0$ and $n=0$ which means $n_A = -n_B$. $\\therefore$\n",
    "$$\n",
    "n_A = AJ_A \\tag{3.1}\n",
    "$$\n",
    "Fick's law defines $J_A$ as \n",
    "$$\n",
    "J_A = -cD_{AB}\\nabla \\cdot x_A \\tag{4}\n",
    "$$\n",
    "and if c is constant\n",
    "$$\n",
    "J_A = -D_{AB}\\nabla \\cdot c_A \\tag{4.1}\n",
    "$$"
   ]
  },
  {
   "cell_type": "markdown",
   "metadata": {},
   "source": [
    "For spherical coordinates, $\\nabla$ is defined as\n",
    "$$\n",
    "\\nabla \\cdot c_A = \\frac{\\partial c_A}{\\partial r}\\hat{r} + \\frac{1}{r}\\frac{\\partial c_A}{\\partial \\theta}\\hat{\\theta} + \\frac{1}{r\\sin{\\theta}}\\frac{\\partial c_A}{\\partial \\phi}\\hat{\\phi} \\tag{5}\n",
    "$$\n",
    "and in 1D\n",
    "$$\n",
    "\\nabla \\cdot c_A = \\frac{dc_A}{dr}\\hat{r} \\tag{5.1}\n",
    "$$"
   ]
  },
  {
   "cell_type": "markdown",
   "metadata": {},
   "source": [
    "Substituting ([4.1](#mjx-eqn-4.1)) into ([3.1](#mjx-eqn-3.1)) gives\n",
    "$$\n",
    "n_A = -4\\pi r^2D_{AB}\\frac{dc_A}{dr}\n",
    "$$\n",
    "Separate and integrate\n",
    "$$\n",
    "\\int_{r_2}^{r_1} \\frac{dr}{r^2} = -\\frac{4\\pi D_{AB}}{n}\\int_{c_1}^{c_2}dc_A\n",
    "$$\n",
    "Simplify to get\n",
    "$$\n",
    "\\frac{r_2-r_1}{r_1r_2} = \\frac{-4\\pi D_{AB}}{n_A}(c_{A_2}-c_{A_1})\n",
    "$$\n",
    "and finally\n",
    "$$\n",
    "n_A = -4\\pi D_{AB}r_1r_2\\frac{c_{A_2}-c_{A_1}}{r_2-r_1}\n",
    "$$\n"
   ]
  },
  {
   "cell_type": "markdown",
   "metadata": {},
   "source": [
    "## Problem 1.2\n",
    "Show that\n",
    "$$\n",
    "N_A = -\\frac{D_{AB}r_1r_2}{r^2}\\frac{c_{A_2}-c_{A_1}}{r_2-r_1} \\tag{6}\n",
    "$$\n",
    "and derive an experession for $N_B$"
   ]
  },
  {
   "cell_type": "markdown",
   "metadata": {},
   "source": [
    "For no bulk flow,\n",
    "$$\n",
    "N_A = J_A\n",
    "$$\n",
    "and\n",
    "$$\n",
    "n_A = AJ_A\n",
    "$$\n",
    "$\\therefore$\n",
    "$$\n",
    "N_A = \\frac{n_A}{A} = \\frac{-4\\pi D_{AB}r_1r_2\\frac{c_{A_2}-c_{A_1}}{r_2-r_1}}{4\\pi r^2} = -\\frac{D_{AB}r_1r_2}{r^2}\\frac{c_{A_2}-c_{A_1}}{r_2-r_1}\n",
    "$$"
   ]
  },
  {
   "cell_type": "markdown",
   "metadata": {},
   "source": [
    "Given that $N_A + N_B = 0$, $N_B$ must be $-N_A$.\n",
    "</br></br>\n",
    "$\\therefore$\n",
    "$$\n",
    "N_B = \\frac{D_{AB}r_1r_2}{r^2}\\frac{c_{A_2}-c_{A_1}}{r_2-r_1}\n",
    "$$"
   ]
  }
 ],
 "metadata": {
  "interpreter": {
   "hash": "04e0bdae412e3c8df7b0aceceeb80c1c6940bf3e349c37f8e47e417772dfa615"
  },
  "kernelspec": {
   "display_name": "Python 3.9.6 64-bit",
   "language": "python",
   "name": "python3"
  },
  "language_info": {
   "name": "python",
   "version": "3.9.6"
  },
  "orig_nbformat": 4
 },
 "nbformat": 4,
 "nbformat_minor": 2
}
