{
 "cells": [
  {
   "cell_type": "markdown",
   "metadata": {},
   "source": [
    "# Problem 2"
   ]
  },
  {
   "cell_type": "markdown",
   "metadata": {},
   "source": [
    "\n",
    "Consider the funnel that we analyzed in homework 1, shown below, with a radius of the hole in the bottom of $R$ and a height of $H$. \n",
    "\n",
    "$$\n",
    "u = \\sqrt{2gh} \\tag{1}\n",
    "$$\n"
   ]
  },
  {
   "cell_type": "markdown",
   "metadata": {},
   "source": [
    "#### Problem 2.1\n",
    "Derive $\\frac{dh}{dt}$ in terms of $h$, $R$, $\\theta$, $\\dot{V}_{in}$, and $\\dot{V}_{out}$\n",
    "</br></br>\n",
    "Combinging the relationships\n",
    "$$\n",
    "\\frac{dV}{dt} = \\dot{V}_{in} - \\dot{V}_{out} \\tag{2}\n",
    "$$\n",
    "and \n",
    "$$\n",
    "dV = A_cdh \\tag{3}\n",
    "$$\n",
    "we get\n",
    "$$\n",
    "\\frac{dh}{dt} = \\frac{\\dot{V}_{in}-\\dot{V}_{out}}{A_c} \\tag{4}\n",
    "$$\n",
    "substituting $A_c = \\pi r^2$ and $r = R + h\\tan(90-\\theta)$ (solved in HW1) into ([4](#mjx-eqn-4)) produces\n",
    "\n",
    "$$\n",
    "\\frac{dh}{dt} = \\frac{\\dot{V}_{in}-\\dot{V}_{out}}{\\pi (R+h\\tan(90-\\theta))^2} \\tag{5}\n",
    "$$"
   ]
  },
  {
   "cell_type": "markdown",
   "metadata": {},
   "source": [
    "#### Problem 2.2\n",
    "Find steady state liquid level $h$\n",
    "</br></br>\n",
    "at steady state, $\\frac{dh}{dt} = 0$ $\\therefore$ setting ([5](#mjx-eqn-5)) equal to zero we get\n",
    "$$\n",
    "0 = \\dot{V}_{in}-\\dot{V}_{out} = \\dot{V}_{in}-uA_c\n",
    "$$\n",
    "substitute ([1](#mjx-eqn-1)) into $u$ to get\n",
    "$$\n",
    "\\dot{V}_{in} =\\dot{V}_{out} = \\pi R^2\\sqrt{2gh}\\tag{6}\n",
    "$$\n",
    "rearange to get\n",
    "$$\n",
    "h = \\frac{(\\frac{\\dot{V}_{in}}{\\pi R^2})^2}{2g} \\tag{7}\n",
    "$$\n"
   ]
  },
  {
   "cell_type": "markdown",
   "metadata": {},
   "source": [
    "#### Problem 2.3\n",
    "Find R at steady state when funnel is half-full by volume\n",
    "</br></br>\n",
    "The following code uses ([6](#mjx-eqn-6)) and ([7](#mjx-eqn-7)) along with an equation for the volume of the tank derived in HW1:\n",
    "$$\n",
    "V_{ss} = \\frac{\\pi \\tan(\\theta)(R_{top}^3-R^3)}{6} = \\frac{\\pi \\tan(\\theta)(R_{top}^3-(r-h\\tan(90-\\theta))^3)}{6}\n",
    "$$\n",
    "to solve for the three unknowns r, R, and h"
   ]
  },
  {
   "cell_type": "code",
   "execution_count": 4,
   "metadata": {},
   "outputs": [],
   "source": [
    "import numpy as np\n",
    "\n",
    "Vin   = 50                 # inlet flow rate, cm^3/s\n",
    "Rtop  = 20                 # radius of the top of the funnel, cm\n",
    "theta = 50  * np.pi / 180  # angle - convert to radians\n",
    "g     = 980               # cm/s^2\n",
    "\n",
    "def resfun(x):\n",
    "    r = x[0]  # unpack - ordering here must be consistent with the initial guess.\n",
    "    R = x[1]\n",
    "    h = x[2]\n",
    "    # calculate each residual and return them as an array\n",
    "    return [ \n",
    "        (np.pi*np.tan(theta)*(Rtop**3-(R**3))-np.pi*np.tan(theta)*(Rtop**3-(r-h*np.tan(np.pi/2-theta))**3))/6,\n",
    "        h - (Vin/np.pi/R**2)**2/2/g,\n",
    "        Vin-np.pi*R**2*np.sqrt(2*g*h)\n",
    "    ]"
   ]
  },
  {
   "cell_type": "code",
   "execution_count": 19,
   "metadata": {},
   "outputs": [
    {
     "name": "stdout",
     "output_type": "stream",
     "text": [
      "Hole in the bottom is 0.83 cm\n",
      "Liquid level is 0.28 cm\n",
      "Funnel height is 22.85 cm\n",
      "residual values:  [-7.882287415365378e-12, -1.2601031329495527e-14, 1.1226575225009583e-12]\n"
     ]
    }
   ],
   "source": [
    "from scipy.optimize import fsolve\n",
    "\n",
    "roots = fsolve(resfun, # the function to set to zero\n",
    "               [1,1,5] # guesses for the solution values r, R, h\n",
    "              )\n",
    "# unpack the solution - the ordering consistent with the \n",
    "# guess and how these are used in the residual function.\n",
    "r = roots[0] \n",
    "R = roots[1]\n",
    "h = roots[2]\n",
    "\n",
    "print('Hole in the bottom is {:.2f} cm'.format(R))\n",
    "print('Liquid level is {:.2f} cm'.format(h))\n",
    "print('Funnel height is {:.2f} cm'.format(np.tan(theta) * (Rtop - R)))\n",
    "\n",
    "# If we got the right solution, the residual values should be very close to zero.\n",
    "# uncomment the next line to look at the residual values\n",
    "print('residual values: ',resfun([r,R,h]))"
   ]
  },
  {
   "cell_type": "markdown",
   "metadata": {},
   "source": [
    "#### Problem 2.4\n",
    "\n",
    "##### Steady-State Height"
   ]
  },
  {
   "cell_type": "code",
   "execution_count": 26,
   "metadata": {},
   "outputs": [
    {
     "name": "stdout",
     "output_type": "stream",
     "text": [
      "The steady-state height is 0.28 cm\n"
     ]
    }
   ],
   "source": [
    "R = 0.04  # cm\n",
    "hss = 0.28\n",
    "print('The steady-state height is {:.2f} cm'.format( hss ) )"
   ]
  },
  {
   "cell_type": "markdown",
   "metadata": {},
   "source": [
    "## Plot of $h(t)$\n",
    "The following code uses ([5](#mjx-eqn-5)) to solve for $h$ as a function of time"
   ]
  },
  {
   "cell_type": "code",
   "execution_count": 21,
   "metadata": {},
   "outputs": [],
   "source": [
    "def dhdt(h,t):\n",
    "    return (Vin-np.pi*R**2*np.sqrt(2*g*h))/(np.pi*(R+h*np.tan(0.5*np.pi-theta))**2)"
   ]
  },
  {
   "cell_type": "code",
   "execution_count": 24,
   "metadata": {},
   "outputs": [
    {
     "data": {
      "image/png": "[encoded data removed]",
      "text/plain": [
       "<Figure size 432x288 with 1 Axes>"
      ]
     },
     "metadata": {
      "needs_background": "light"
     },
     "output_type": "display_data"
    }
   ],
   "source": [
    "import matplotlib.pyplot as plt\n",
    "from scipy.integrate import odeint\n",
    "\n",
    "t  = np.linspace(0,5*60,400) # array of points in time we want to include in the plot\n",
    "H0 = 22.85                       # initial height\n",
    "\n",
    "soln = odeint( dhdt, H0, t )\n",
    "h = soln[:,0]\n",
    "\n",
    "plt.plot(t/60,h)\n",
    "plt.xlabel('t (min)')\n",
    "plt.ylabel('h (cm)')\n",
    "plt.title('Liquid Level vs. Time')\n",
    "plt.grid()\n",
    "plt.show()"
   ]
  },
  {
   "cell_type": "markdown",
   "metadata": {},
   "source": [
    "### Liquid level after 3 minutes"
   ]
  },
  {
   "cell_type": "code",
   "execution_count": 27,
   "metadata": {},
   "outputs": [
    {
     "name": "stdout",
     "output_type": "stream",
     "text": [
      "The liquid level at t=5 minutes is 31.66 cm\n",
      "\n"
     ]
    }
   ],
   "source": [
    "print('The liquid level at t={:.0f} minutes is {:0.2f} cm\\n'.format( 5, h[-1] ) )"
   ]
  }
 ],
 "metadata": {
  "hide_input": false,
  "kernelspec": {
   "display_name": "Python 3 (ipykernel)",
   "language": "python",
   "name": "python3"
  },
  "language_info": {
   "codemirror_mode": {
    "name": "ipython",
    "version": 3
   },
   "file_extension": ".py",
   "mimetype": "text/x-python",
   "name": "python",
   "nbconvert_exporter": "python",
   "pygments_lexer": "ipython3",
   "version": "3.9.6"
  },
  "latex_envs": {
   "LaTeX_envs_menu_present": true,
   "autoclose": false,
   "autocomplete": false,
   "bibliofile": "biblio.bib",
   "cite_by": "apalike",
   "current_citInitial": 1,
   "eqLabelWithNumbers": true,
   "eqNumInitial": 1,
   "hotkeys": {
    "equation": "Ctrl-E",
    "itemize": "Ctrl-I"
   },
   "labels_anchors": false,
   "latex_user_defs": false,
   "report_style_numbering": false,
   "user_envs_cfg": false
  },
  "toc": {
   "base_numbering": 1,
   "nav_menu": {},
   "number_sections": false,
   "sideBar": true,
   "skip_h1_title": false,
   "title_cell": "Table of Contents",
   "title_sidebar": "Contents",
   "toc_cell": false,
   "toc_position": {},
   "toc_section_display": true,
   "toc_window_display": true
  },
  "varInspector": {
   "cols": {
    "lenName": 16,
    "lenType": 16,
    "lenVar": 40
   },
   "kernels_config": {
    "python": {
     "delete_cmd_postfix": "",
     "delete_cmd_prefix": "del ",
     "library": "var_list.py",
     "varRefreshCmd": "print(var_dic_list())"
    },
    "r": {
     "delete_cmd_postfix": ") ",
     "delete_cmd_prefix": "rm(",
     "library": "var_list.r",
     "varRefreshCmd": "cat(var_dic_list()) "
    }
   },
   "types_to_exclude": [
    "module",
    "function",
    "builtin_function_or_method",
    "instance",
    "_Feature"
   ],
   "window_display": false
  }
 },
 "nbformat": 4,
 "nbformat_minor": 2
}
