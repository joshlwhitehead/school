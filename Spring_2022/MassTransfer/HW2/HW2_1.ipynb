{
 "cells": [
  {
   "cell_type": "markdown",
   "metadata": {},
   "source": [
    "# Problem 1\n",
    "$$\n",
    "v_z = \\frac{\\Delta pR^2}{4\\mu L} \\lbrack 1- \\tilde{r}^2 \\rbrack\n",
    "= v_z^{max} \\lbrack 1-\\tilde{r}^2 \\rbrack \\tag{1}\n",
    "$$\n",
    "\n",
    "$$\n",
    "c_A = c_{A_0}\\tilde{r}^2 \\tag{2}\n",
    "$$\n",
    "\n",
    "where $\\tilde{r}$ = $\\frac{r}{R}$ </br></br>\n",
    "and $c_{A_0}$ = 0.10c\n",
    "\n"
   ]
  },
  {
   "cell_type": "markdown",
   "metadata": {},
   "source": [
    "#### Problem 1.1\n",
    "Find and plot $x_A$ and $\\tilde{N}_A$ as functions of $\\tilde{r}$\n",
    "</br></br>\n",
    "for $x_A(\\tilde{r})$ the relationship $c_A = cx_A$ can be used:\n",
    "</br></br>\n",
    "$$\n",
    "x_A = \\frac{c_A}{c}\n",
    "$$\n",
    "then ([2](#mjx-eqn-2)) can be substituted in for $c_A$ to get\n",
    "$$\n",
    "x_A = \\frac{c_{A_0}\\tilde{r}^2}{c} = \\frac{0.10c\\tilde{r}^2}{c} = 0.10\\tilde{r}^2 \\tag{3}\n",
    "$$"
   ]
  },
  {
   "cell_type": "markdown",
   "metadata": {},
   "source": [
    "for $\\tilde{N}_A(\\tilde{r})$:\n",
    "</br></br>\n",
    "$$\n",
    "N_A = c_A v_z \\tag{4}\n",
    "$$\n",
    "given that $\\tilde{N}_A = \\frac{N_A}{c_{A_0}v_z^{max}}$ ([4](#mjx-eqn-4)) can be substituted in for $N_A$ to get\n",
    "$$\n",
    "\\tilde{N}_A = \\frac{c_A v_z}{c_{A0}v_z^{max}} = \\frac{c x_A v_z}{c_{A_0} v_z^{max}}\n",
    "$$\n",
    "now ([3](#mjx-eqn-3)) can be substituted in for $x_A$ to get \n",
    "$$\n",
    "\\tilde{N}_A = \\frac{\\frac{c_{A_0}}{0.10} 0.10 \\tilde{r}^2 v_z}{c_{A_0} v_z^{max}}\n",
    "$$\n",
    "now substituting ([1](#mjx-eqn-1)) for $v_z$\n",
    "$$\n",
    "\\tilde{N}_A = \\frac{v_z^{max}(1-\\tilde{r}^2)\\tilde{r}^2}{v_z^{max}} = \\tilde{r}^2(1-\\tilde{r}^2) \\tag{5}\n",
    "$$"
   ]
  },
  {
   "cell_type": "code",
   "execution_count": 1,
   "metadata": {},
   "outputs": [],
   "source": [
    "\"\"\"import packages\"\"\"\n",
    "import matplotlib.pyplot as plt\n",
    "import numpy as np"
   ]
  },
  {
   "cell_type": "code",
   "execution_count": 2,
   "metadata": {},
   "outputs": [
    {
     "data": {
      "text/plain": [
       "''"
      ]
     },
     "execution_count": 2,
     "metadata": {},
     "output_type": "execute_result"
    },
    {
     "data": {
      "image/png": "[encoded data removed]",
      "text/plain": [
       "<Figure size 432x288 with 1 Axes>"
      ]
     },
     "metadata": {
      "needs_background": "light"
     },
     "output_type": "display_data"
    }
   ],
   "source": [
    "\"\"\"make functions that return x(r) and N(r)\"\"\"\n",
    "def x(r):\n",
    "    return 0.1*r**2\n",
    "\n",
    "def N(r):\n",
    "    return r**2*(1-r**2)\n",
    "\n",
    "r = np.linspace(0,1,999)\n",
    "\n",
    "\n",
    "plt.plot(r,x(r),label=r'$x_A$')\n",
    "plt.plot(r,N(r),label=r'$\\tilde{N}_A$')\n",
    "plt.legend()\n",
    "plt.title(''.join([r'$x_A$',' and ',r'$\\tilde{N}_A$',' as functions of ',r'$\\tilde{r}$']))\n",
    "plt.grid()\n",
    "plt.xlabel(r'$\\tilde{r}$')\n",
    "\n",
    "\n",
    ";"
   ]
  },
  {
   "cell_type": "markdown",
   "metadata": {},
   "source": [
    "#### Problem 1.2\n",
    "Find radial location $(\\tilde{r})$ of $\\tilde{N}_A^{max}$\n",
    "For this problem, ([5](#mjx-eqn-5)) and the above plot can be used to determine $\\tilde{r}$ where $\\tilde{N}_A$ is maximum"
   ]
  },
  {
   "cell_type": "code",
   "execution_count": 3,
   "metadata": {},
   "outputs": [
    {
     "name": "stdout",
     "output_type": "stream",
     "text": [
      "0.7074148296593186\n"
     ]
    }
   ],
   "source": [
    "N = N(r).tolist()\n",
    "print(r[N.index(max(N))])"
   ]
  },
  {
   "cell_type": "markdown",
   "metadata": {},
   "source": [
    "$\\tilde{r} = 0.707$ at $\\tilde{N}_A^{max}$"
   ]
  },
  {
   "cell_type": "markdown",
   "metadata": {},
   "source": [
    "#### Problem 1.3\n",
    "Find molar flow rate of A $(\\dot{n}_A)$ and total volumetric flowrate $(\\dot{V})$ in terms of $v_z^{max}$, $c_{A_0}$, and R"
   ]
  },
  {
   "cell_type": "markdown",
   "metadata": {},
   "source": [
    "For $\\dot{n}_A$:\n",
    "$$\n",
    "\\dot{n}_A = \\int N_AdS =  \\int c_A v_z dS \\tag{6}\n",
    "$$\n",
    "substituting ([1](#mjx-eqn-1)) and ([2](#mjx-eqn-2)) in for $v_z$ and $c_A$ respectively and using the relationship $dS = 2\\pi rdr$,\n",
    "\n",
    "$$\n",
    "\\dot{n}_A = \\int_0^R c_{A_0} (\\frac{r}{R})^2 v_z^{max}(1-(\\frac{r}{R})^2) 2\\pi rdr = \\frac{2\\pi c_{A_0}v_z^{max}}{R^2} \\int_0^R r^3 - \\frac{r^5}{R^2} dr\n",
    "$$\n",
    "integrating and evaluating from 0 to R gives\n",
    "\n",
    "$$\n",
    "\\dot{n}_A = \\frac{2\\pi c_{A_0}v_z^{max}}{R^2} \\lbrack \\frac{R^4}{4} - \\frac{R^4}{6}\\rbrack \\tag{7}\n",
    "$$"
   ]
  },
  {
   "cell_type": "markdown",
   "metadata": {},
   "source": [
    "for $\\dot{V}$:\n",
    "$$\n",
    "\\dot{V} = \\int v_z dS \\tag{8}\n",
    "$$\n",
    "substituting ([1](#mjx-eqn-1)) for $v_z$ and $dS = 2 \\pi rdr$ gives\n",
    "\n",
    "$$\n",
    "\\dot{V} = 2\\pi v_z^{max} \\int_0^R \\lbrack 1-(\\frac{r}{R})^2\\rbrack dr\n",
    "$$\n",
    "integrating and evaluating from 0 to R gives\n",
    "\n",
    "$$\n",
    "\\dot{V} = 2\\pi v_z^{max}(R-\\frac{R}{3}) \\tag{9}\n",
    "$$"
   ]
  }
 ],
 "metadata": {
  "interpreter": {
   "hash": "04e0bdae412e3c8df7b0aceceeb80c1c6940bf3e349c37f8e47e417772dfa615"
  },
  "kernelspec": {
   "display_name": "Python 3.9.6 64-bit",
   "language": "python",
   "name": "python3"
  },
  "language_info": {
   "codemirror_mode": {
    "name": "ipython",
    "version": 3
   },
   "file_extension": ".py",
   "mimetype": "text/x-python",
   "name": "python",
   "nbconvert_exporter": "python",
   "pygments_lexer": "ipython3",
   "version": "3.9.6"
  },
  "orig_nbformat": 4
 },
 "nbformat": 4,
 "nbformat_minor": 2
}
