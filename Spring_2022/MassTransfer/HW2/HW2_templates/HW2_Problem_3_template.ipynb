{
 "cells": [
  {
   "cell_type": "markdown",
   "metadata": {
    "toc": true
   },
   "source": [
    "<h1>Table of Contents<span class=\"tocSkip\"></span></h1>\n",
    "<div class=\"toc\"><ul class=\"toc-item\"><li><span><a href=\"#Part-1\" data-toc-modified-id=\"Part-1-1\">Part 1</a></span></li><li><span><a href=\"#Part-2\" data-toc-modified-id=\"Part-2-2\">Part 2</a></span></li><li><span><a href=\"#Part-3\" data-toc-modified-id=\"Part-3-3\">Part 3</a></span></li></ul></div>"
   ]
  },
  {
   "cell_type": "markdown",
   "metadata": {},
   "source": [
    "$\\def\\pder#1#2{\\frac{\\partial#1}{\\partial#2}}$\n",
    "$\\def\\d#1#2{\\frac{\\mathrm{d}#1}{\\mathrm{d}#2}}$\n",
    "$\\def\\VolInt#1{\\int_{\\mathsf{V}}#1\\,\\mathrm{d}\\mathsf{V}}$\n",
    "$\\def\\SurfInt#1{\\int_{\\mathsf{S}}#1\\cdot\\mathbf{a}\\,\\mathrm{d}\\mathsf{S}}$\n",
    "\n",
    "<div style=\"text-align: center\">\n",
    "<b><font size=6>ChEn 3603 Homework 2 Problem 3\n",
    "    </font></b>\n",
    "</div>"
   ]
  },
  {
   "cell_type": "markdown",
   "metadata": {},
   "source": [
    "Given the cylindrical tank in the figure below where a chemical reaction \n",
    "$$\n",
    "    A\\stackrel{k}{\\longrightarrow}B \n",
    "$$\n",
    "is occurring with reaction rate given by $S_{A}=-kc_{A}$. \n",
    "![cylindrical tank](Tank.png)\n",
    "Assume that you are given $c_{A}^{in}$ (the inlet concentration of species $A$), $\\dot{V}_{in}$, $r$ (the radius of the hole in the bottom of the tank) and $u=\\sqrt{2gh}$ for the outlet velocity. \n",
    "You may assume that the concentration is uniform throughout the tank (perfect mixing). \n",
    "Also assume that the reaction does not result in a change in the molar volume of the mixture.\n",
    "\n",
    " 1. Starting from our integral mole balance, show that $$\\d{c_{A}}t=\\frac{\\dot{V}_{in}}{A_{c}h}\\left(c_{A}^{in}-c_{A}\\right)-kc_{A},$$ where $A_{c}$ is the cross-sectional area of the tank.\n",
    "\n",
    "    ___Hints:___\n",
    "\n",
    "     * Note that both $c_{A}$ and $V$ are changing in time. \n",
    "     * You will need to derive an equation for $\\d{V}{t}$ which you can substitute.\n",
    "\n",
    "    Note that you need to show work that demonstrates that you can derive this (working backward from the answer won't get you too far). Otherwise you won't receive credit.\n",
    " 1. Determine $c_{A}(t)$ and $h(t)$ given: a tank diameter of 0.5 M and height of $H=1$ m, $c_{A}(0)=0\\,\\mathrm{\\frac{mol}{m^{3}}}$, $c_{A}^{in}=1\\,\\mathrm{frac{mol}{m^{3}}}$, $k=10^{-2}\\,\\text{s}^{-1}$, a hole in the bottom with radius $r=1$ cm, an inlet flow rate tank such that at steady state the tank is 50% full, and an initial liquid level of 10% and 90% the tank height. Plot the concentration of $A$, the moles of $A$ and the height of the liquid in the tank over a 10-minute time period. \n",
    " 1. For the numbers in part 2, determine the steady-state concentration of $A$. Hint: at steady state, $\\d{c_{i}}{t}=0.$"
   ]
  },
  {
   "cell_type": "markdown",
   "metadata": {},
   "source": [
    "# Part 1\n",
    "\n",
    "___derivation...___"
   ]
  },
  {
   "cell_type": "markdown",
   "metadata": {},
   "source": [
    "# Part 2\n",
    "___derivation...___"
   ]
  },
  {
   "cell_type": "code",
   "execution_count": null,
   "metadata": {},
   "outputs": [],
   "source": [
    "import numpy as np\n",
    "import matplotlib.pyplot as plt"
   ]
  },
  {
   "cell_type": "code",
   "execution_count": null,
   "metadata": {},
   "outputs": [],
   "source": [
    "cin = ?          # mol/m^3\n",
    "d   = ?          # tank diameter, m\n",
    "H   = ?          # tank height, m\n",
    "g   = ?        # m/s^2\n",
    "k   = ?       # m^3/(mol-s)\n",
    "r   = ?       # outlet hole radius, m\n",
    "tend = ?     # end time (s)\n",
    "c0 = 0           # initial concentration, mol/m^3\n",
    "\n",
    "Ac = np.pi*(d/2)**2                  # tank cross-sectional area, m^2\n",
    "Vin = np.pi*r**2 * np.sqrt(?*g*H)  # inlet flow rate, m^3/s\n"
   ]
  },
  {
   "cell_type": "code",
   "execution_count": null,
   "metadata": {},
   "outputs": [],
   "source": [
    "# create a function that allows us to plug our \"tank_rhs\" function\n",
    "# into the time integrator.  The time integrator requires that the rhs\n",
    "# function take two arguments: the vector of dependent variables\n",
    "# (concentration and height) and the independent variable (time)\n",
    "def rhs(vars,t):\n",
    "    cA = vars[0]\n",
    "    h = vars[1]\n",
    "    Vout = ???\n",
    "\n",
    "    # rhs[0] is for the concentration equation\n",
    "    # rhs[1] is the RHS for the volume equation\n",
    "    rhs = [ ???,\n",
    "            ??? ]\n",
    "\n",
    "    return rhs"
   ]
  },
  {
   "cell_type": "code",
   "execution_count": null,
   "metadata": {},
   "outputs": [],
   "source": [
    "from scipy.integrate import odeint\n",
    "nt = ?\n",
    "t = np.linspace(0,tend,nt)\n",
    "\n",
    "soln1 = odeint( rhs, [c0,?*H], t )\n",
    "soln2 = odeint( rhs, [c0,?*H], t )\n",
    "\n",
    "# unpack the solution into variables more convenient to work with.\n",
    "cA1 = soln1[?,?]\n",
    "h1  = soln1[?,?]\n",
    "cA2 = ?\n",
    "h2  = ?"
   ]
  },
  {
   "cell_type": "markdown",
   "metadata": {},
   "source": [
    "The figures below shows the profiles of $h(t)$, $c_{A}(t)$ and $N_{A}(t)$ for initial liquid levels of $0.1H$ and $0.9H$."
   ]
  },
  {
   "cell_type": "code",
   "execution_count": null,
   "metadata": {},
   "outputs": [],
   "source": [
    "# plot results..."
   ]
  },
  {
   "cell_type": "markdown",
   "metadata": {},
   "source": [
    "# Part 3\n",
    "\n",
    "___derivation...___"
   ]
  },
  {
   "cell_type": "code",
   "execution_count": null,
   "metadata": {},
   "outputs": [],
   "source": [
    "# steady-state result\n",
    "h = ?\n",
    "css = ?\n",
    "print('\\n\\nSteady state concentration for h={:0.2f}H, we find c={:0.2e} mol/m^3\\n'.format(h,css))"
   ]
  }
 ],
 "metadata": {
  "hide_input": false,
  "kernelspec": {
   "display_name": "Python 3 (ipykernel)",
   "language": "python",
   "name": "python3"
  },
  "language_info": {
   "codemirror_mode": {
    "name": "ipython",
    "version": 3
   },
   "file_extension": ".py",
   "mimetype": "text/x-python",
   "name": "python",
   "nbconvert_exporter": "python",
   "pygments_lexer": "ipython3",
   "version": "3.8.5"
  },
  "latex_envs": {
   "LaTeX_envs_menu_present": true,
   "autoclose": false,
   "autocomplete": false,
   "bibliofile": "biblio.bib",
   "cite_by": "apalike",
   "current_citInitial": 1,
   "eqLabelWithNumbers": true,
   "eqNumInitial": 1,
   "hotkeys": {
    "equation": "Ctrl-E",
    "itemize": "Ctrl-I"
   },
   "labels_anchors": false,
   "latex_user_defs": false,
   "report_style_numbering": false,
   "user_envs_cfg": false
  },
  "toc": {
   "base_numbering": 1,
   "nav_menu": {},
   "number_sections": false,
   "sideBar": true,
   "skip_h1_title": false,
   "title_cell": "Table of Contents",
   "title_sidebar": "Contents",
   "toc_cell": true,
   "toc_position": {},
   "toc_section_display": true,
   "toc_window_display": false
  },
  "varInspector": {
   "cols": {
    "lenName": 16,
    "lenType": 16,
    "lenVar": 40
   },
   "kernels_config": {
    "python": {
     "delete_cmd_postfix": "",
     "delete_cmd_prefix": "del ",
     "library": "var_list.py",
     "varRefreshCmd": "print(var_dic_list())"
    },
    "r": {
     "delete_cmd_postfix": ") ",
     "delete_cmd_prefix": "rm(",
     "library": "var_list.r",
     "varRefreshCmd": "cat(var_dic_list()) "
    }
   },
   "types_to_exclude": [
    "module",
    "function",
    "builtin_function_or_method",
    "instance",
    "_Feature"
   ],
   "window_display": false
  }
 },
 "nbformat": 4,
 "nbformat_minor": 4
}
