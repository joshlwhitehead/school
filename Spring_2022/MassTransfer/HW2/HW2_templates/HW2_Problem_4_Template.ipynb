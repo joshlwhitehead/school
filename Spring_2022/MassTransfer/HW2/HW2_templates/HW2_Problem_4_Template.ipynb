{
 "cells": [
  {
   "cell_type": "markdown",
   "metadata": {},
   "source": [
    "<div style=\"text-align: center\">\n",
    "<b><font size=6>ChEn 3603 Homework 2 Problem 4\n",
    "    </font></b>\n",
    "</div>"
   ]
  },
  {
   "cell_type": "markdown",
   "metadata": {},
   "source": [
    "First, let's load the data from the csv file:"
   ]
  },
  {
   "cell_type": "code",
   "execution_count": null,
   "metadata": {},
   "outputs": [],
   "source": [
    "import numpy as np\n",
    "import matplotlib.pyplot as plt\n",
    "import csv\n",
    "\n",
    "data = []\n",
    "\n",
    "with open( 'data.csv' ) as csvfile:\n",
    "    rows = csv.reader( csvfile )\n",
    "    \n",
    "    spnames = next(rows)\n",
    "    spnames.pop(0)  # remove the first (blank) entry\n",
    "\n",
    "    fluxes = next(rows)\n",
    "    fluxes.pop(0)   # remove the first entry (title)\n",
    "\n",
    "    next(rows)\n",
    "    next(rows)\n",
    "    for row in rows:\n",
    "        data.append(row)\n",
    "\n",
    "\n",
    "# convert data to numpy arrays\n",
    "fluxes = np.asarray(fluxes,dtype=float)\n",
    "data = np.asarray(data,dtype=float)\n",
    "\n",
    "# # load the data.  Column 0: z, Column 1: Acetone, Column 2: Methanol, Column 3: Air\n",
    "# data = np.genfromtxt('data.csv',delimiter=',',skip_header=4)\n",
    "z = data[:,0]\n",
    "x = data[:,1:]"
   ]
  },
  {
   "cell_type": "markdown",
   "metadata": {},
   "source": [
    "# Part 1 - composition profiles"
   ]
  },
  {
   "cell_type": "markdown",
   "metadata": {},
   "source": [
    "___show equations___"
   ]
  },
  {
   "cell_type": "code",
   "execution_count": null,
   "metadata": {},
   "outputs": [],
   "source": [
    "%matplotlib inline\n",
    "nz = len(z)        # number of data points\n",
    "ns = len(spnames)  # number of species\n",
    "\n",
    "# R = 8.31446    # gas constant (J/mol/K)\n",
    "R = 8.2057338e-5 # gas constant (m^3 atm/mol/K)\n",
    "P = 1            # pressure, atm\n",
    "T = 298          # temperature, K\n",
    "\n",
    "c = ?  # ideal gas molar concentration mol/m^3\n",
    "\n",
    "totFlux = np.sum(?)  # total (mixture) molar flux (mol/(m^2 s))\n",
    "\n",
    "## Plot mole fraction profiles\n",
    "plt.plot( ?, ? ) \n",
    "plt.xlabel('z (m)') \n",
    "plt.ylabel('Mole Fraction') \n",
    "plt.legend(?)\n",
    "plt.grid()\n",
    "plt.show()\n",
    "\n",
    "## Mass fractions\n",
    "\n",
    "# set the mixture molecular weight (g/mol) at each point.\n",
    "Macetone  = ?        # C3H6O molecular weight (g/mol)\n",
    "Mmethanol = ?        # CH3OH molecular weight (g/mol)\n",
    "Mair      = ?        # 0.21 O2 + 0.79 N2\n",
    "Mi = [ Macetone, Mmethanol, Mair ]\n",
    "MixtureMW = np.zeros(nz)\n",
    "for i in range(0,ns):\n",
    "  MixtureMW += x[?,?]*Mi[?]\n",
    "\n",
    "    \n",
    "w = np.zeros_like(x)\n",
    "for i in range(0,ns):\n",
    "  w[?,?] = x[?,?]*Mi[?] / MixtureMW\n",
    "\n",
    "\n",
    "plt.plot( ?, ? )\n",
    "plt.xlabel('z (m)') \n",
    "plt.ylabel('Mass Fractions') \n",
    "plt.legend(?)\n",
    "plt.grid()\n",
    "plt.show()"
   ]
  },
  {
   "cell_type": "markdown",
   "metadata": {},
   "source": [
    "# Part 2 - species velocities\n",
    "\n",
    "___show work on how you will calculate this___"
   ]
  },
  {
   "cell_type": "code",
   "execution_count": null,
   "metadata": {},
   "outputs": [],
   "source": [
    "## Plot the species velocities\n",
    "vi = np.zeros((nz,ns))\n",
    "for i in range(0,ns):\n",
    "  vi[?,?] = fluxes[?] / ( x[?,?] * c )\n",
    "\n",
    "plt.plot( z[?], vi[?,?] )\n",
    "plt.xlabel('z (m)') \n",
    "plt.ylabel('Species Velocities (m/s)') \n",
    "plt.legend(?)\n",
    "plt.grid()\n",
    "plt.show()"
   ]
  },
  {
   "cell_type": "markdown",
   "metadata": {},
   "source": [
    "___comments on your observations___"
   ]
  },
  {
   "cell_type": "markdown",
   "metadata": {},
   "source": [
    "# Part 3 - mixture velocities\n",
    "\n",
    "___show equations you use___"
   ]
  },
  {
   "cell_type": "code",
   "execution_count": null,
   "metadata": {},
   "outputs": [],
   "source": [
    "##  Mixture velocities\n",
    "v  = np.sum( ?, ? )  # mass averaged velocity\n",
    "vm = np.sum( ?, ? )  # molar averaged velocity\n",
    "\n",
    "plt.plot( z, v  )\n",
    "plt.plot( z, vm )\n",
    "plt.xlabel('z (m)') \n",
    "plt.ylabel('Velocity (m/s)') \n",
    "plt.legend(('Mass-Averaged','Molar-Averaged'))\n",
    "plt.grid()\n",
    "plt.show()"
   ]
  },
  {
   "cell_type": "markdown",
   "metadata": {},
   "source": [
    "___discussion___"
   ]
  },
  {
   "cell_type": "markdown",
   "metadata": {},
   "source": [
    "# Part 4 - Species Diffusive and Convective Fluxes\n",
    "\n",
    "___formulation/equations___"
   ]
  },
  {
   "cell_type": "code",
   "execution_count": null,
   "metadata": {},
   "outputs": [],
   "source": [
    "## Species diffusive fluxes\n",
    "J = np.zeros((nz,ns))\n",
    "convFlux = np.zeros_like(J)\n",
    "\n",
    "for i in range(0,ns):\n",
    "  J[?,?] = fluxes[?] - x[?,?] * ?\n",
    "  convFlux[?,?] = x[?,?] * ?\n",
    "\n",
    "\n",
    "plt.plot( z, J )\n",
    "plt.xlabel('z (m)') \n",
    "plt.ylabel(r'Diffusive Flux $\\left(\\frac{mol}{m^2 s}\\right)$') \n",
    "plt.legend(spnames)\n",
    "plt.grid()\n",
    "plt.show()\n",
    "\n",
    "plt.plot( z, convFlux )\n",
    "plt.xlabel('z (m)') \n",
    "plt.ylabel(r'Convective Flux $\\left(\\frac{mol}{m^2 s}\\right)$') \n",
    "plt.legend(spnames)\n",
    "plt.grid()\n",
    "plt.show()"
   ]
  },
  {
   "cell_type": "markdown",
   "metadata": {},
   "source": [
    "___observations___"
   ]
  }
 ],
 "metadata": {
  "hide_input": false,
  "kernelspec": {
   "display_name": "Python 3 (ipykernel)",
   "language": "python",
   "name": "python3"
  },
  "language_info": {
   "codemirror_mode": {
    "name": "ipython",
    "version": 3
   },
   "file_extension": ".py",
   "mimetype": "text/x-python",
   "name": "python",
   "nbconvert_exporter": "python",
   "pygments_lexer": "ipython3",
   "version": "3.8.5"
  },
  "latex_envs": {
   "LaTeX_envs_menu_present": true,
   "autoclose": false,
   "autocomplete": false,
   "bibliofile": "biblio.bib",
   "cite_by": "apalike",
   "current_citInitial": 1,
   "eqLabelWithNumbers": true,
   "eqNumInitial": 1,
   "hotkeys": {
    "equation": "Ctrl-E",
    "itemize": "Ctrl-I"
   },
   "labels_anchors": false,
   "latex_user_defs": false,
   "report_style_numbering": false,
   "user_envs_cfg": false
  },
  "toc": {
   "base_numbering": 1,
   "nav_menu": {
    "height": "12px",
    "width": "252px"
   },
   "number_sections": false,
   "sideBar": true,
   "skip_h1_title": false,
   "title_cell": "Table of Contents",
   "title_sidebar": "Contents",
   "toc_cell": false,
   "toc_position": {},
   "toc_section_display": "block",
   "toc_window_display": false
  },
  "varInspector": {
   "cols": {
    "lenName": 16,
    "lenType": 16,
    "lenVar": 40
   },
   "kernels_config": {
    "python": {
     "delete_cmd_postfix": "",
     "delete_cmd_prefix": "del ",
     "library": "var_list.py",
     "varRefreshCmd": "print(var_dic_list())"
    },
    "r": {
     "delete_cmd_postfix": ") ",
     "delete_cmd_prefix": "rm(",
     "library": "var_list.r",
     "varRefreshCmd": "cat(var_dic_list()) "
    }
   },
   "types_to_exclude": [
    "module",
    "function",
    "builtin_function_or_method",
    "instance",
    "_Feature"
   ],
   "window_display": false
  }
 },
 "nbformat": 4,
 "nbformat_minor": 4
}
