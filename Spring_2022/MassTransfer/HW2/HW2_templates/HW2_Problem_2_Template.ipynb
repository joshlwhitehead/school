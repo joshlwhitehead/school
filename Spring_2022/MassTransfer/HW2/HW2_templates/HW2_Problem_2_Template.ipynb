{
 "cells": [
  {
   "cell_type": "markdown",
   "metadata": {},
   "source": [
    "<div style=\"text-align: center\">\n",
    "<b><font size=6>ChEn 3603 Homework 3 Problem 2\n",
    "    </font></b>\n",
    "</div>"
   ]
  },
  {
   "cell_type": "markdown",
   "metadata": {},
   "source": [
    "Consider the funnel that we analyzed in homework 2, shown below, with a radius of the hole in the bottom of $R$ and a height of $H$. \n",
    "![funnel](funnel.jpg)\n"
   ]
  },
  {
   "cell_type": "markdown",
   "metadata": {},
   "source": [
    "# Part 1\n",
    "\n"
   ]
  },
  {
   "cell_type": "markdown",
   "metadata": {},
   "source": [
    "# Part 2\n",
    "\n"
   ]
  },
  {
   "cell_type": "markdown",
   "metadata": {},
   "source": [
    "# Part 3\n"
   ]
  },
  {
   "cell_type": "code",
   "execution_count": 1,
   "metadata": {},
   "outputs": [
    {
     "ename": "SyntaxError",
     "evalue": "invalid syntax (<ipython-input-1-e52e0a004124>, line 14)",
     "output_type": "error",
     "traceback": [
      "\u001b[0;36m  File \u001b[0;32m\"<ipython-input-1-e52e0a004124>\"\u001b[0;36m, line \u001b[0;32m14\u001b[0m\n\u001b[0;31m    ???,\u001b[0m\n\u001b[0m    ^\u001b[0m\n\u001b[0;31mSyntaxError\u001b[0m\u001b[0;31m:\u001b[0m invalid syntax\n"
     ]
    }
   ],
   "source": [
    "import numpy as np\n",
    "\n",
    "Vin   = ?                 # inlet flow rate, cm^3/s\n",
    "Rtop  = ?                 # radius of the top of the funnel, cm\n",
    "theta = ?  * np.pi / 180  # angle - convert to radians\n",
    "g     = 980               # cm/s^2\n",
    "\n",
    "def resfun(x):\n",
    "    r = x[0]  # unpack - ordering here must be consistent with the initial guess.\n",
    "    R = x[1]\n",
    "    h = x[2]\n",
    "    # calculate each residual and return them as an array\n",
    "    return [ \n",
    "        ???,\n",
    "        ???,\n",
    "        ???\n",
    "    ]"
   ]
  },
  {
   "cell_type": "code",
   "execution_count": null,
   "metadata": {},
   "outputs": [],
   "source": [
    "from scipy.optimize import fsolve\n",
    "\n",
    "roots = fsolve(resfun, # the function to set to zero\n",
    "               [?,?,?], # guesses for the solution values r, R, h\n",
    "              )\n",
    "# unpack the solution - the ordering consistent with the \n",
    "# guess and how these are used in the residual function.\n",
    "r = roots[0] \n",
    "R = roots[1]\n",
    "h = roots[2]\n",
    "\n",
    "print('Hole in the bottom is {:.2f} cm'.format(R))\n",
    "print('Liquid level is {:.2f} cm'.format(h))\n",
    "print('Funnel height is {:.2f} cm'.format(np.tan(theta) * (Rtop - R)))\n",
    "\n",
    "# If we got the right solution, the residual values should be very close to zero.\n",
    "# uncomment the next line to look at the residual values\n",
    "# print('residual values: ',resfun(roots,Vin,theta,Rtop))"
   ]
  },
  {
   "cell_type": "markdown",
   "metadata": {},
   "source": [
    "# Part 3\n",
    "\n",
    "## Steady-State Height"
   ]
  },
  {
   "cell_type": "code",
   "execution_count": null,
   "metadata": {},
   "outputs": [],
   "source": [
    "R = ?  # cm\n",
    "hss = ?\n",
    "print('The steady-state height is {:.2f} cm'.format( hss ) )"
   ]
  },
  {
   "cell_type": "markdown",
   "metadata": {},
   "source": [
    "## Plot of $h(t)$"
   ]
  },
  {
   "cell_type": "code",
   "execution_count": null,
   "metadata": {},
   "outputs": [],
   "source": [
    "def dhdt(h,t):\n",
    "    return ?"
   ]
  },
  {
   "cell_type": "code",
   "execution_count": null,
   "metadata": {},
   "outputs": [],
   "source": [
    "import matplotlib.pyplot as plt\n",
    "from scipy.integrate import odeint\n",
    "\n",
    "t  = np.linspace(0,5*60,400) # array of points in time we want to include in the plot\n",
    "H0 = ?                       # initial height\n",
    "\n",
    "soln = odeint( dhdt, H0, t )\n",
    "h = soln[:,0]\n",
    "\n",
    "plt.plot(?,?)\n",
    "plt.xlabel('t (min)')\n",
    "plt.ylabel('h (cm)')\n",
    "plt.title('Liquid Level vs. Time')\n",
    "plt.grid()\n",
    "plt.show()"
   ]
  },
  {
   "cell_type": "markdown",
   "metadata": {},
   "source": [
    "### Liquid level after 3 minutes"
   ]
  },
  {
   "cell_type": "code",
   "execution_count": null,
   "metadata": {},
   "outputs": [],
   "source": [
    "print('The liquid level at t={:.0f} minutes is {:0.2f} cm\\n'.format( ??, ?? ) )"
   ]
  }
 ],
 "metadata": {
  "hide_input": false,
  "kernelspec": {
   "display_name": "Python 3 (ipykernel)",
   "language": "python",
   "name": "python3"
  },
  "language_info": {
   "codemirror_mode": {
    "name": "ipython",
    "version": 3
   },
   "file_extension": ".py",
   "mimetype": "text/x-python",
   "name": "python",
   "nbconvert_exporter": "python",
   "pygments_lexer": "ipython3",
   "version": "3.8.5"
  },
  "latex_envs": {
   "LaTeX_envs_menu_present": true,
   "autoclose": false,
   "autocomplete": false,
   "bibliofile": "biblio.bib",
   "cite_by": "apalike",
   "current_citInitial": 1,
   "eqLabelWithNumbers": true,
   "eqNumInitial": 1,
   "hotkeys": {
    "equation": "Ctrl-E",
    "itemize": "Ctrl-I"
   },
   "labels_anchors": false,
   "latex_user_defs": false,
   "report_style_numbering": false,
   "user_envs_cfg": false
  },
  "toc": {
   "base_numbering": 1,
   "nav_menu": {},
   "number_sections": false,
   "sideBar": true,
   "skip_h1_title": false,
   "title_cell": "Table of Contents",
   "title_sidebar": "Contents",
   "toc_cell": false,
   "toc_position": {},
   "toc_section_display": true,
   "toc_window_display": true
  },
  "varInspector": {
   "cols": {
    "lenName": 16,
    "lenType": 16,
    "lenVar": 40
   },
   "kernels_config": {
    "python": {
     "delete_cmd_postfix": "",
     "delete_cmd_prefix": "del ",
     "library": "var_list.py",
     "varRefreshCmd": "print(var_dic_list())"
    },
    "r": {
     "delete_cmd_postfix": ") ",
     "delete_cmd_prefix": "rm(",
     "library": "var_list.r",
     "varRefreshCmd": "cat(var_dic_list()) "
    }
   },
   "types_to_exclude": [
    "module",
    "function",
    "builtin_function_or_method",
    "instance",
    "_Feature"
   ],
   "window_display": false
  }
 },
 "nbformat": 4,
 "nbformat_minor": 2
}
