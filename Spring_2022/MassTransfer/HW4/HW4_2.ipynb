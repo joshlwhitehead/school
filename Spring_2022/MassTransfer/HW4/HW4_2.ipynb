{
 "cells": [
  {
   "cell_type": "markdown",
   "metadata": {},
   "source": [
    "# HW 4\n",
    "## Problem 2.1\n",
    "Estimate time for benzene to completely evaporate from beaker assuming $N_A$ doesn't change with time."
   ]
  },
  {
   "cell_type": "markdown",
   "metadata": {},
   "source": [
    "Starting with a mole balance,\n",
    "$$\n",
    "\\frac{d}{dt}\\int c_idV = -\\int N_i\\cdot adS + \\int S_idV \\tag{1}\n",
    "$$\n",
    "which simplifies to\n",
    "$$\n",
    "\\frac{d}{dt}\\int c_AdV = -\\int N_A\\cdot adS \\tag{1.1}\n",
    "$$\n",
    "\n",
    "$dV = A_cdh$ and $dh = -dz$ so ([1.1](#mjx-eqn-1.1)) goes to\n",
    "\n",
    "$$\n",
    "-A_c\\frac{d}{dt}\\int c_Adz = -\\int N_A\\cdot adS\\tag{1.2}\n",
    "$$\n",
    "\n",
    "Assuming a negligible amount of air dissolved in the benzene, $c_A = \\frac{\\rho}{M}$ and is constant with respect to z so the left side of ([1.2](#mjx-eqn-1.2)) becomes\n",
    "$$\n",
    "-A_c\\frac{\\rho}{M}\\frac{d}{dt}\\int dz\n",
    "$$"
   ]
  },
  {
   "cell_type": "markdown",
   "metadata": {},
   "source": [
    "For the right hand side of ([1.2](#mjx-eqn-1.2)), $N_A$ is constant with respect to $S$ so the RHS becomes\n",
    "$$\n",
    "-N_AA_c \\tag{1.3}\n",
    "$$\n",
    "now equating ([1.2](#mjx-eqn-1.2)) and ([1.3](#mjx-eqn-1.3)),\n",
    "$$\n",
    "\\frac{\\rho}{M}\\frac{d}{dt}\\int dz = N_A\n",
    "$$\n",
    "\n",
    "$N_A$ can be expanded to \n",
    "$$\n",
    "N_A = x_AN +J_A \\tag{2}\n",
    "$$\n",
    "assuming $N_B=0$ and applying Fick's Law ([2](#mjx-eqn-2)) is simplified to \n",
    "$$\n",
    "N_A = x_AN_A -cD_{AB}\\frac{dx_A}{dz}\n",
    "$$\n",
    "and rearanged to get\n",
    "$$\n",
    "N_A = -\\frac{cD_{AB}}{1-x_A}\\frac{dx_A}{dz}\n",
    "$$\n",
    "which can then be seperated and integrated,\n",
    "$$\n",
    "\\int_{z_1}^{z_2}dz = -\\frac{cD_{AB}}{N_A}\\int_{x_{A_1}}^{x_{A_2}}\\frac{dx_A}{1-x_A}\n",
    "$$\n",
    "$$\n",
    "N_A = \\frac{cD_{AB}}{z_2-z_1}\\ln(\\frac{1-x_{A_2}}{1-x_{A_1}}) \\tag{2.1}\n",
    "$$"
   ]
  },
  {
   "cell_type": "markdown",
   "metadata": {},
   "source": [
    "$\\therefore$\n",
    "$$\n",
    "\\frac{\\rho}{M}\\frac{d}{dt}\\int dz = \\frac{cD_{AB}}{\\Delta z}\\ln(\\frac{1-x_{A_2}}{1-x_{A_1}})\n",
    "$$\n",
    "separating gives\n",
    "$$\n",
    "\\int_0^t dt = \\frac{\\rho}{McD_{AB}\\ln(\\frac{1-x_{A_2}}{1-x_{A_1}})}\\int_{z_1}^{z_2}zdz\n",
    "$$\n",
    "where $z =\\Delta z$\n",
    "After integrating,\n",
    "$$\n",
    "t = \\frac{\\rho}{McD_{AB}\\ln(\\frac{1-x_{A_2}}{1-x_{A_1}})}(\\frac{z_2^2-z_1^2}{2}) \\tag{3}\n",
    "$$"
   ]
  },
  {
   "cell_type": "markdown",
   "metadata": {},
   "source": [
    "The script below uses the following values to solve for t </br></br>\n",
    "$M = 78.11 \\frac{g}{mol}$</br></br>\n",
    "$D_{AB} = 0.0905 \\frac{cm^2}{sec}$</br></br>\n",
    "$\\rho = 0.876 \\frac{g}{cm^3}$</br></br>\n",
    "$z_1 = L$</br></br>\n",
    "$z_2 = H$ where $L$ and $H$ are taken from the book to be 0.5cm and 6cm respectively.</br></br>\n",
    "$x_{A_1}$ was calculated using Raoult's law: $x_A = \\frac{p_A}{P} = \\frac{0.12518}{1}$</br></br>\n",
    "$T$ was assumed to be $298K$ and $P$ to be $1atm$ </br></br>\n",
    "$c$ was calculated using the ideal gas law, $c = \\frac{P}{RT}$"
   ]
  },
  {
   "cell_type": "code",
   "execution_count": 6,
   "metadata": {},
   "outputs": [
    {
     "name": "stdout",
     "output_type": "stream",
     "text": [
      "469007 days\n"
     ]
    }
   ],
   "source": [
    "import numpy as np\n",
    "M = 78.11                               #g/mol\n",
    "P = 1                                               #atm\n",
    "pA = .12518\n",
    "DAB = .0905                                 #cm2/sec\n",
    "ro = .876                                   #g/cm3\n",
    "xa1 = pA/P\n",
    "xa2 = 0\n",
    "R = 8.2057*1000000                                   #cm3atm/mol/k\n",
    "T = 273.15+25                                       #k\n",
    "c = P/R/T                                           #mol/cm3\n",
    "L = .5                                              #cm\n",
    "H = 6                                                       #cm\n",
    "t = (ro/M/c/DAB/np.log((1-xa2)/(1-xa1))*(H**2-L**2)*.5)/60/60/24\n",
    "print(round(t),'days')"
   ]
  },
  {
   "cell_type": "markdown",
   "metadata": {},
   "source": [
    "It would take about 469007 days to evaporate if $N_A$ is constant in time"
   ]
  },
  {
   "cell_type": "markdown",
   "metadata": {},
   "source": [
    "## Problem 2.2\n",
    "Account for changing $N_A$ with liquid level"
   ]
  },
  {
   "cell_type": "markdown",
   "metadata": {},
   "source": [
    "([2.1](#mjx-eqn-2.1)) still holds but the left side of the mole balance becomes\n",
    "$$\n",
    "\\frac{d}{dt}c_AhA_c = c_AA_c\\frac{dh}{dt} \\tag{4}\n",
    "$$\n",
    "\n",
    "([3](#mjx-eqn-3)) can be rearanged to solve for $z_2$ as a function of time,\n",
    "$$\n",
    "z_2 = \\sqrt{\\frac{2McD_{AB}\\ln(\\frac{1-x_{A_2}}{1-x_{A_1}})t}{\\rho}+z_1^2} \\tag{5}\n",
    "$$\n",
    "Given that $h = H-z$,\n",
    "$$\n",
    "h = H-\\sqrt{\\frac{2McD_{AB}\\ln(\\frac{1-x_{A_2}}{1-x_{A_1}})t}{\\rho}+z_1^2}\n",
    "$$"
   ]
  },
  {
   "cell_type": "markdown",
   "metadata": {},
   "source": [
    "$\\therefore$\n",
    "$$\n",
    "\\frac{dh}{dt} = -\\frac{\\frac{2McD_{AB}\\ln(\\frac{1-x_{A_2}}{1-x_{A_1}})}{\\rho}}{2\\sqrt{\\frac{2McD_{AB}\\ln(\\frac{1-x_{A_2}}{1-x_{A_1}})}{\\rho}t+z_1^2}}\n",
    "$$\n",
    "\n"
   ]
  },
  {
   "cell_type": "markdown",
   "metadata": {},
   "source": [
    "Putting it all back together gives\n",
    "$$\n",
    "-\\frac{\\frac{2McD_{AB}\\ln(\\frac{1-x_{A_2}}{1-x_{A_1}})}{\\rho}}{2\\sqrt{\\frac{2McD_{AB}\\ln(\\frac{1-x_{A_2}}{1-x_{A_1}})}{\\rho}t+z_1^2}}\\frac{\\rho}{M} = \\frac{cD_{AB}}{z_2-z_1}\\ln(\\frac{1-x_{A_2}}{1-x_{A_1}})\n",
    "$$\n",
    "which can be solved for t,\n",
    "$$\n",
    "t = -\\frac{(\\frac{\\frac{2McD_{AB}\\ln(\\frac{1-x_{A_2}}{1-x_{A_1}})}{\\rho}}{2\\frac{cD_{AB}}{z_2-z_1}\\ln(\\frac{1-x_{A_2}}{1-x_{A_1}})}\\frac{\\rho}{M})^2-z_1^2}{\\frac{2McD_{AB}\\ln(\\frac{1-x_{A_2}}{1-x_{A_1}})}{\\rho}}\n",
    "$$"
   ]
  },
  {
   "cell_type": "code",
   "execution_count": 7,
   "metadata": {},
   "outputs": [
    {
     "name": "stdout",
     "output_type": "stream",
     "text": [
      "343898.65074998315\n"
     ]
    }
   ],
   "source": [
    "a = 2*M*c*DAB*np.log((1-xa2)/(1-xa1))\n",
    "b = c*DAB*np.log((1-xa2)/(1-xa1))/(H-L)\n",
    "t = ((a*ro/M/2/b)**2 - L**2)/a\n",
    "print(t/60/60/24)"
   ]
  },
  {
   "cell_type": "markdown",
   "metadata": {},
   "source": [
    "Accounting for changing flux with liquid level, it would take about 343899 days to fully evaporate.</br></br>\n",
    "This is less than if $N_A$ is assumed to be constant in time.</br></br>\n",
    "I think that it is more accurate to account for changing $N_A$ because it does change with time and typically, the fewer assumptions that are made the more accurate the model."
   ]
  }
 ],
 "metadata": {
  "interpreter": {
   "hash": "04e0bdae412e3c8df7b0aceceeb80c1c6940bf3e349c37f8e47e417772dfa615"
  },
  "kernelspec": {
   "display_name": "Python 3.9.6 64-bit",
   "language": "python",
   "name": "python3"
  },
  "language_info": {
   "codemirror_mode": {
    "name": "ipython",
    "version": 3
   },
   "file_extension": ".py",
   "mimetype": "text/x-python",
   "name": "python",
   "nbconvert_exporter": "python",
   "pygments_lexer": "ipython3",
   "version": "3.9.6"
  },
  "orig_nbformat": 4
 },
 "nbformat": 4,
 "nbformat_minor": 2
}
