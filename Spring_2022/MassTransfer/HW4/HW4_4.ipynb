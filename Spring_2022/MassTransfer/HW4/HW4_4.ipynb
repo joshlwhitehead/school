{
 "cells": [
  {
   "cell_type": "markdown",
   "metadata": {},
   "source": [
    "# HW 4\n",
    "## Problem 4\n",
    "Determine average diffusivity using the Higbie model,\n",
    "$$\n",
    "k_c = 2\\sqrt{\\frac{D_{AB}}{\\pi t_c}}\n",
    "$$\n",
    "or\n",
    "$$\n",
    "D_{AB} =\\pi t_c \\frac{k_c^2}{4}\n",
    "$$\n",
    "where\n",
    "$$\n",
    "k_c = \\frac{N_A}{c(x_{A_i}-x_{A_b})} = \\frac{N_A}{c_{A_i}-c_{A_b}}\n",
    "$$"
   ]
  },
  {
   "cell_type": "markdown",
   "metadata": {},
   "source": [
    "$t_c$ is found by\n",
    "$$\n",
    "t_c = \\frac{V}{\\dot{v}}\n",
    "$$\n",
    "$N_A$ is found by dividing the rate of absorption by the surface area of the stream.</br></br>\n",
    "$c_{A_i}$ is given as the solubility and $c_{A_b} = 0$"
   ]
  },
  {
   "cell_type": "code",
   "execution_count": 2,
   "metadata": {},
   "outputs": [],
   "source": [
    "import numpy as np\n",
    "flowRate = np.array([.143,.568,1.278,2.372,3.571,5.143])                #cm3/sec\n",
    "absorb = np.array([1.5,3,4.25,6.15,7.2,8.75])                           #mol/sec\n",
    "absorb = absorb*10**-6                                                  \n",
    "d = 1                                                                   #diam cm\n",
    "l = 7                                                                   #len cm\n",
    "cai = 100/1000000                                                       #conc at interface mol/cm3\n",
    "V = np.pi*d**2/4*l                                                      #vol of jet cm3\n",
    "tc = V/flowRate                                                         #cont time s\n",
    "A = np.pi*d*l                                                           #surf area cm2\n",
    "flux = absorb/A                                                         #NA mol/cm2/sec"
   ]
  },
  {
   "cell_type": "code",
   "execution_count": 5,
   "metadata": {},
   "outputs": [
    {
     "name": "stdout",
     "output_type": "stream",
     "text": [
      "1.3550868117475628e-05\n"
     ]
    }
   ],
   "source": [
    "kc = flux/cai                                                           #coeff cm/sec\n",
    "DAB = np.pi*tc*kc**2/4                                              \n",
    "print(np.average(DAB))"
   ]
  },
  {
   "cell_type": "markdown",
   "metadata": {},
   "source": [
    "$D_{AB_{avg}} = 1.355e-5$"
   ]
  }
 ],
 "metadata": {
  "interpreter": {
   "hash": "04e0bdae412e3c8df7b0aceceeb80c1c6940bf3e349c37f8e47e417772dfa615"
  },
  "kernelspec": {
   "display_name": "Python 3.9.6 64-bit",
   "language": "python",
   "name": "python3"
  },
  "language_info": {
   "codemirror_mode": {
    "name": "ipython",
    "version": 3
   },
   "file_extension": ".py",
   "mimetype": "text/x-python",
   "name": "python",
   "nbconvert_exporter": "python",
   "pygments_lexer": "ipython3",
   "version": "3.9.6"
  },
  "orig_nbformat": 4
 },
 "nbformat": 4,
 "nbformat_minor": 2
}
