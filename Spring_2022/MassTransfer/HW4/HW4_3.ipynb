{
 "cells": [
  {
   "cell_type": "markdown",
   "metadata": {},
   "source": [
    "# HW 4\n",
    "## Problem 3.a\n",
    "Calculate liquid-phase mass transfer coefficient and film thickness"
   ]
  },
  {
   "cell_type": "markdown",
   "metadata": {},
   "source": [
    "Using film theory,\n",
    "$$\n",
    "k_c = \\frac{D_{AB}}{\\delta} \\tag{1}\n",
    "$$\n",
    "$$\n",
    "k_c' = \\frac{D_{AB}}{\\delta (1-x_A)_{LM}} = \\frac{k_c}{(1-x_A)_{LM}} \\tag{2}\n",
    "$$\n",
    "$$\n",
    "N_A = k_c'(c_{A_i}-c_{A_b}) \\tag{3}\n",
    "$$\n",
    "where \n",
    "$$\n",
    "(1-x_A)_{LM} = \\frac{x_{A_i}-x_{A_b}}{\\ln(\\frac{1-x_{A_b}}{1-x_{A_i}})}\n",
    "$$"
   ]
  },
  {
   "cell_type": "markdown",
   "metadata": {},
   "source": [
    "$x_{A_i}$ can be estimated using Henry's law, $x = \\frac{p}{H}$ </br></br>\n",
    "$c$ can be estimated by the relationship $c = \\frac{\\rho}{M}$</br></br>\n",
    "$x_{A_b}$ is assumed to be negligible."
   ]
  },
  {
   "cell_type": "markdown",
   "metadata": {},
   "source": [
    "To find $k_c$, ([2](#mjx-eqn-2)) and ([3](#mjx-eqn-3)) can be combined and rearanged to get\n",
    "$$\n",
    "k_c = \\frac{N_A}{c_{A_i}}(1-x_A)_{LM} \\tag{4}\n",
    "$$\n",
    "The following script solves ([4](#mjx-eqn-4)) using values given in the problem statement."
   ]
  },
  {
   "cell_type": "code",
   "execution_count": 77,
   "metadata": {},
   "outputs": [],
   "source": [
    "import numpy as np\n",
    "NA = 0.017*4.536e39/3600/929.03                             #convert flux to mol/cm2/sec\n",
    "DAB = 2e-5                                                  # diffusivity cm2/sec\n",
    "p = 150                                                     # partial press co2 psia\n",
    "H = 9000                                                    # henry constant psia\n",
    "xai = p/H                                                   #mol frac @ interface\n",
    "ro = .997                                                   #density of water g/cm3\n",
    "M = 18.015                                                  #molar mass of water g/mol\n",
    "c = ro/M                                                    #concentration mol/cm3\n",
    "cai = c*xai                                                 #concentration of co2 at interface\n"
   ]
  },
  {
   "cell_type": "code",
   "execution_count": 78,
   "metadata": {},
   "outputs": [],
   "source": [
    "def LM(x1,x2):\n",
    "    return (x1-x2)/np.log((1-x2)/(1-x1))"
   ]
  },
  {
   "cell_type": "code",
   "execution_count": 79,
   "metadata": {},
   "outputs": [
    {
     "name": "stdout",
     "output_type": "stream",
     "text": [
      "2.4787662763132446e+34\n"
     ]
    }
   ],
   "source": [
    "def kc(na,cai,lm):\n",
    "    return na/cai*lm\n",
    "kc = kc(NA,cai,LM(xai,0))\n",
    "print(kc)\n"
   ]
  },
  {
   "cell_type": "markdown",
   "metadata": {},
   "source": [
    "$k_c = 2.479e34 \\frac{cm}{sec}$"
   ]
  },
  {
   "cell_type": "markdown",
   "metadata": {},
   "source": [
    "([1](#mjx-eqn-1)) can now be used to solve for $\\delta$"
   ]
  },
  {
   "cell_type": "code",
   "execution_count": 80,
   "metadata": {},
   "outputs": [
    {
     "name": "stdout",
     "output_type": "stream",
     "text": [
      "8.068529974414005e-40\n"
     ]
    }
   ],
   "source": [
    "def delta():\n",
    "    return DAB/kc\n",
    "print(delta())"
   ]
  },
  {
   "cell_type": "markdown",
   "metadata": {},
   "source": [
    "$\\delta = 8.069e-40 cm$"
   ]
  },
  {
   "cell_type": "markdown",
   "metadata": {},
   "source": [
    "## Problem 3.b\n",
    "Determine contact time using Higbie model,\n",
    "$$\n",
    "k_c = 2\\sqrt{\\frac{D_{AB}}{\\pi t_c}}\n",
    "$$\n",
    "or\n",
    "$$\n",
    "t_c = \\frac{4D_{AB}}{\\pi k_c^2}\n",
    "$$"
   ]
  },
  {
   "cell_type": "code",
   "execution_count": 81,
   "metadata": {},
   "outputs": [
    {
     "name": "stdout",
     "output_type": "stream",
     "text": [
      "1.0273171431304901e-39\n"
     ]
    }
   ],
   "source": [
    "print(4*DAB/np.pi/kc)"
   ]
  },
  {
   "cell_type": "markdown",
   "metadata": {},
   "source": [
    "$t_c = 1.027e-39 sec$"
   ]
  },
  {
   "cell_type": "markdown",
   "metadata": {},
   "source": [
    "## Problem 3.c\n",
    "Determine S from surface renewal model,\n",
    "$$\n",
    "k_c = \\sqrt{D_{AB}s}\n",
    "$$\n",
    "or \n",
    "$$\n",
    "s = \\frac{k_c^2}{D_{AB}}\n",
    "$$"
   ]
  },
  {
   "cell_type": "code",
   "execution_count": 82,
   "metadata": {},
   "outputs": [
    {
     "name": "stdout",
     "output_type": "stream",
     "text": [
      "3.072141126293914e+73\n"
     ]
    }
   ],
   "source": [
    "print(kc**2/DAB)"
   ]
  },
  {
   "cell_type": "markdown",
   "metadata": {},
   "source": [
    "$s = 3.072e73 cm^{-1}$"
   ]
  }
 ],
 "metadata": {
  "interpreter": {
   "hash": "04e0bdae412e3c8df7b0aceceeb80c1c6940bf3e349c37f8e47e417772dfa615"
  },
  "kernelspec": {
   "display_name": "Python 3.9.6 64-bit",
   "language": "python",
   "name": "python3"
  },
  "language_info": {
   "codemirror_mode": {
    "name": "ipython",
    "version": 3
   },
   "file_extension": ".py",
   "mimetype": "text/x-python",
   "name": "python",
   "nbconvert_exporter": "python",
   "pygments_lexer": "ipython3",
   "version": "3.9.6"
  },
  "orig_nbformat": 4
 },
 "nbformat": 4,
 "nbformat_minor": 2
}
