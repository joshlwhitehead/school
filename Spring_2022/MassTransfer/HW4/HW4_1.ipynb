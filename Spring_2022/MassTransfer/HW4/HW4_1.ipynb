{
 "cells": [
  {
   "cell_type": "markdown",
   "metadata": {},
   "source": [
    "# HW 4\n",
    "## Problem 1.1\n",
    "Prove that the differential mole balance\n",
    "$$\n",
    "\\frac{\\partial{c_i}}{\\partial{t}} = -\\nabla \\cdot N_i+S_i \\tag{1}\n",
    "$$\n",
    "\n",
    "yields the same solution as the integral mole balance for the two bulb problem"
   ]
  },
  {
   "cell_type": "markdown",
   "metadata": {},
   "source": [
    "Assume no reaction and the species concentration changes very little over time to simplify to\n",
    "$$\n",
    "0 = -\\nabla\\cdot N_i\n",
    "$$\n",
    "Simplify further to get\n",
    "$$\n",
    "0 = \\frac{\\partial{N_i}}{\\partial{x}} + \\frac{\\partial{N_i}}{\\partial{y}} + \\frac{\\partial{N_i}}{\\partial{z}}\n",
    "$$\n",
    "Next, assume one dimensianal\n",
    "$$\n",
    "0 = \\frac{\\partial{N_i}}{\\partial{z}}\n",
    "$$\n",
    "then separate and integrate\n",
    "$$\n",
    "0\\int\\partial{z} = \\int\\partial{N_i}\n",
    "$$\n",
    "which gives\n",
    "$$\n",
    "N_i(z) = C \\tag{2}\n",
    "$$"
   ]
  },
  {
   "cell_type": "markdown",
   "metadata": {},
   "source": [
    "The integral mole balance yields\n",
    "$$\n",
    "J_A^0 = J_A^L \\text{ or } J_A(z) = C\n",
    "$$\n",
    "which is different from ([2](#mjx-eqn-2)) but assuming $N_{tot} = 0$, $N_A$ can be simplified to \n",
    "$$\n",
    "N_A = x_AN+J_A = J_A\n",
    "$$\n",
    "$\\therefore$ the differential and integral mole balances provide the same solution to the two bulb problem.\n"
   ]
  },
  {
   "cell_type": "markdown",
   "metadata": {},
   "source": [
    "Now that $N_A$ is known to be constant and equal to $J_A$, it can be substituted into Fick's Law to give\n",
    "$$\n",
    "J_A = N_A = -cD_{AB}\\frac{dx_A}{dz} \\tag{3}\n",
    "$$\n",
    "and integrated from 0 to L and $x_A^0$ to $x_A^L$ to be\n",
    "$$\n",
    "N_A = \\frac{-cD_{AB}}{L}(x_A^L-x_A^0) \\tag{4}\n",
    "$$"
   ]
  },
  {
   "cell_type": "markdown",
   "metadata": {},
   "source": [
    "To get the mole fraction profile in the tube, Fick's Law can be solved again but this time with different limits of integration:\n",
    "$$\n",
    "\\int_{x_A^0}^{x_A}dx_A = -\\frac{N_A}{cD_{AB}}\\int_0^zdz\n",
    "$$\n",
    "which becomes\n",
    "$$\n",
    "x_A - x_A^0 = -\\frac{N_A}{cD_{AB}}z \\tag{5}\n",
    "$$\n",
    "now ([4](#mjx-eqn-4)) can be substituted into ([5](#mjx-eqn-5)) to get\n",
    "$$\n",
    "x_A = x_A^0+(x_A^L-x_A^0)\\frac{z}{L}\n",
    "$$\n",
    "which is the same profile as the integral mole balance analysis"
   ]
  },
  {
   "cell_type": "markdown",
   "metadata": {},
   "source": [
    "## Problem 1.2\n",
    "Starting with the differential mole balance, ([1](#mjx-eqn-1)), show that $N_i$ is constant and that $N_B=0$"
   ]
  },
  {
   "cell_type": "markdown",
   "metadata": {},
   "source": [
    "Assuming that there is no reaction and that the concentration changes little over time, the mole balance reduces to\n",
    "$$\n",
    "0 = \\frac{\\partial{N_i}}{\\partial{x}} + \\frac{\\partial{N_i}}{\\partial{y}} + \\frac{\\partial{N_i}}{\\partial{z}}\n",
    "$$\n",
    "and assuming 1D simplifies it even further to \n",
    "$$\n",
    "0 = \\frac{\\partial{N_i}}{\\partial{z}}\n",
    "$$\n",
    "Separate to get\n",
    "$$\n",
    "0\\int\\partial{z} = \\int\\partial{N_i}\n",
    "$$\n",
    "Integrate to get\n",
    "$$\n",
    "N_i(z) = C\n",
    "$$\n",
    "$\\therefore$ $N_i$ is constant with respect to $z$"
   ]
  },
  {
   "cell_type": "markdown",
   "metadata": {},
   "source": [
    "The flux of air, $N_B$, should be zero if it is assumed that the benzene is saturated with air so for every molecule of air that is dissolved in benzene, one molecule of air is released from the benzene."
   ]
  }
 ],
 "metadata": {
  "interpreter": {
   "hash": "04e0bdae412e3c8df7b0aceceeb80c1c6940bf3e349c37f8e47e417772dfa615"
  },
  "kernelspec": {
   "display_name": "Python 3.9.6 64-bit",
   "language": "python",
   "name": "python3"
  },
  "language_info": {
   "name": "python",
   "version": "3.9.6"
  },
  "orig_nbformat": 4
 },
 "nbformat": 4,
 "nbformat_minor": 2
}
