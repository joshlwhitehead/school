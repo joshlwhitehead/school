{
 "cells": [
  {
   "cell_type": "markdown",
   "metadata": {},
   "source": [
    "# HW 5\n",
    "## Problem 2\n",
    " <img src=\"HW5_2_pic.jpg\" width=\"400\"/>"
   ]
  },
  {
   "cell_type": "markdown",
   "metadata": {},
   "source": [
    "## Problem 2.1\n",
    "List and count the variables in the system."
   ]
  },
  {
   "cell_type": "markdown",
   "metadata": {},
   "source": [
    "The following table lists all the variables in the system where $p=2$.\n",
    "| Variable|#|\n",
    "| ----------- | ----------- |\n",
    "| Feed flow rates     | 4     |\n",
    "| Outlet flow rates   | 3        |\n",
    "|Q|1|\n",
    "|Equilibrium composition,$x_i$, $y_i$|$cp$|\n",
    "|Liquid feed composition, $x_i$|2c|\n",
    "|Vapor feed conposition, $y_i$|2c|\n",
    "|Outlet vapor composition, $y_i^{out}$|c|\n",
    "|Outlet liquid composition, $x_i^I$, $x_i^{II}$|2c|\n",
    "|Feed T|4|\n",
    "|Feed P|4|\n",
    "|Equilibrium T|1|\n",
    "|Equilibrium P|1|\n",
    "|Outlet P|3|\n",
    "|Outlet T|3|"
   ]
  },
  {
   "cell_type": "markdown",
   "metadata": {},
   "source": [
    "The total number of variables is $9c+24$."
   ]
  },
  {
   "cell_type": "markdown",
   "metadata": {},
   "source": [
    "## Problem 2.2\n",
    "List and count the independant equations governing the system."
   ]
  },
  {
   "cell_type": "markdown",
   "metadata": {},
   "source": [
    "|Equation|#|\n",
    "| ----------- | ----------- |\n",
    "|Material balance|c|\n",
    "|Energy balance|1|\n",
    "|$\\Sigma x_i=1$ for feed, equilibrium, and outlet|5|\n",
    "|$\\Sigma y_i=1$ for feed, equilibrium, and outlet|4|\n",
    "|$k_i=\\frac{y_i}{x_i}|c(p-1)|\n",
    "|Equation of state|c|"
   ]
  },
  {
   "cell_type": "markdown",
   "metadata": {},
   "source": [
    "The total number of equations is $3c+10$"
   ]
  },
  {
   "cell_type": "markdown",
   "metadata": {},
   "source": [
    "## Problem 2.3\n",
    "Calculate degrees of freedom.\n",
    "</br></br>\n",
    "DoF = # of variables - # of equations $\\therefore$\n",
    "$$\n",
    "DoF = 6c + 14\n",
    "$$"
   ]
  }
 ],
 "metadata": {
  "interpreter": {
   "hash": "04e0bdae412e3c8df7b0aceceeb80c1c6940bf3e349c37f8e47e417772dfa615"
  },
  "kernelspec": {
   "display_name": "Python 3.9.6 64-bit",
   "language": "python",
   "name": "python3"
  },
  "language_info": {
   "codemirror_mode": {
    "name": "ipython",
    "version": 3
   },
   "file_extension": ".py",
   "mimetype": "text/x-python",
   "name": "python",
   "nbconvert_exporter": "python",
   "pygments_lexer": "ipython3",
   "version": "3.9.6"
  },
  "orig_nbformat": 4
 },
 "nbformat": 4,
 "nbformat_minor": 2
}
