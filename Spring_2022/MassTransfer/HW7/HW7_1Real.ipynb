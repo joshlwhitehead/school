{
 "cells": [
  {
   "cell_type": "code",
   "execution_count": 1,
   "metadata": {},
   "outputs": [],
   "source": [
    "import numpy as np\n",
    "import matplotlib.pyplot as plt\n",
    "import scipy.optimize as opt"
   ]
  },
  {
   "cell_type": "code",
   "execution_count": 2,
   "metadata": {},
   "outputs": [],
   "source": [
    "def antoine(a,b,c,T):                                   #T in k\n",
    "    return (10**(a-b/((T-273.15)+c)))/760\n",
    "\n",
    "p = np.linspace(.5,5)\n",
    "\n",
    "a = np.array([4.3281,6.80776,8.1122,6.85296])\n",
    "b = np.array([1132.108,935.77,1592.864,1064.84])\n",
    "c = np.array([0.918,238.789,226.184,232.012])\n",
    "\n",
    "zi = np.array([.0319,.7992,.1041,.0648])\n"
   ]
  },
  {
   "cell_type": "code",
   "execution_count": 24,
   "metadata": {},
   "outputs": [
    {
     "name": "stdout",
     "output_type": "stream",
     "text": [
      "0.6072223461349007\n"
     ]
    },
    {
     "name": "stderr",
     "output_type": "stream",
     "text": [
      "<ipython-input-2-70f6f6898378>:2: RuntimeWarning: overflow encountered in power\n",
      "  return (10**(a-b/((T-273.15)+c)))/760\n",
      "C:\\Users\\joshl\\AppData\\Local\\Programs\\Python\\Python39\\lib\\site-packages\\scipy\\optimize\\minpack.py:175: RuntimeWarning: The iteration is not making good progress, as measured by the \n",
      "  improvement from the last five Jacobian evaluations.\n",
      "  warnings.warn(msg, RuntimeWarning)\n",
      "C:\\Users\\joshl\\AppData\\Local\\Programs\\Python\\Python39\\lib\\site-packages\\scipy\\optimize\\minpack.py:175: RuntimeWarning: The iteration is not making good progress, as measured by the \n",
      "  improvement from the last ten iterations.\n",
      "  warnings.warn(msg, RuntimeWarning)\n"
     ]
    },
    {
     "data": {
      "image/png": "[encoded data removed]",
      "text/plain": [
       "<Figure size 432x288 with 1 Axes>"
      ]
     },
     "metadata": {
      "needs_background": "light"
     },
     "output_type": "display_data"
    }
   ],
   "source": [
    "def resFun(T,p):\n",
    "    Ki = antoine(a,b,c,T)/p                              #list of ki\n",
    "    kz = np.sum(Ki*zi)-1\n",
    "    return kz\n",
    "    \n",
    "# resFun(278)\n",
    "T = []\n",
    "for i in p:\n",
    "    T.append(opt.fsolve(resFun,300,i))\n",
    "\n",
    "plt.plot(p,T)\n",
    "plt.grid()\n",
    "\n",
    "\n",
    "\n",
    "\n"
   ]
  },
  {
   "cell_type": "code",
   "execution_count": 4,
   "metadata": {},
   "outputs": [
    {
     "name": "stdout",
     "output_type": "stream",
     "text": [
      "[278.10409563]\n"
     ]
    }
   ],
   "source": [
    "def resFun(T):\n",
    "    K = antoine(a,b,c,T)/1\n",
    "    kz = np.sum(K*zi)-1\n",
    "    return kz\n",
    "T = opt.fsolve(resFun,300)\n",
    "print(T)\n"
   ]
  }
 ],
 "metadata": {
  "interpreter": {
   "hash": "04e0bdae412e3c8df7b0aceceeb80c1c6940bf3e349c37f8e47e417772dfa615"
  },
  "kernelspec": {
   "display_name": "Python 3.9.6 64-bit",
   "language": "python",
   "name": "python3"
  },
  "language_info": {
   "codemirror_mode": {
    "name": "ipython",
    "version": 3
   },
   "file_extension": ".py",
   "mimetype": "text/x-python",
   "name": "python",
   "nbconvert_exporter": "python",
   "pygments_lexer": "ipython3",
   "version": "3.9.6"
  },
  "orig_nbformat": 4
 },
 "nbformat": 4,
 "nbformat_minor": 2
}
