{
 "cells": [
  {
   "cell_type": "markdown",
   "metadata": {},
   "source": [
    "# Homework 7\n",
    "## Problem 5.a and 5.b\n",
    "Determine the maximum and minimum amount of furfural that can be used to extract ethylene glycol from water."
   ]
  },
  {
   "cell_type": "markdown",
   "metadata": {},
   "source": [
    "The maximum and minimum amounts of solvent are determined by drawing a line between the feed and solvent composition and identifying where the line intersects with the miscibility boundary. This gives the mass fraction of the mixture but to find the mass of solvent, a mass balance can be done,\n",
    "$$\n",
    "\\omega_Cm_{tot}=m_C \\tag{1}\n",
    "$$\n",
    "$$\n",
    "m_{tot}=m_A+m_B+m_C\\tag{2}\n",
    "$$\n",
    "where $m_A$ and $m_B$ are determined from the problem statement as $m_A = 45*0.70=31.5kg$ and $m_B = 45*0.30=13.5kg$"
   ]
  },
  {
   "cell_type": "markdown",
   "metadata": {},
   "source": [
    "([1](#mjx-eqn-1)) and ([2](#mjx-eqn-2)) can be combined to get\n",
    "$$\n",
    "m_C = \\frac{\\omega_C(m_A+m_B)}{1-\\omega_C}\n",
    "$$\n",
    "\n",
    "The mixture compositions for the maximum and minimum mass of solvent are circled in blue in the following diagram and determined to be $0.10$ for the minimum and $0.95$ for the maximum.\n",
    "\n",
    "<img src=\"HW7_5ab.jpg\" width=\"400\"/>"
   ]
  },
  {
   "cell_type": "code",
   "execution_count": null,
   "metadata": {},
   "outputs": [],
   "source": [
    "mA = 31.5\n",
    "mB = 13.5\n",
    "xCmin = 0.1\n",
    "xCmax = 0.95\n",
    "def mC(xC):\n",
    "    mC = xC*(mA+mB)/(1-xC)\n",
    "    return mC\n",
    "print(mC(xCmin))\n",
    "print(mC(xCmax))"
   ]
  },
  {
   "cell_type": "markdown",
   "metadata": {},
   "source": [
    "$m_{C_{min}}(kg)=5$\n",
    "</br></br>\n",
    "$m_{C_{max}}(kg)=855$"
   ]
  },
  {
   "cell_type": "markdown",
   "metadata": {},
   "source": [
    "## Problem 5.c\n",
    "Determine mass of solvent free extract and raffinate and percentage of glycol extracted."
   ]
  },
  {
   "cell_type": "markdown",
   "metadata": {},
   "source": [
    "For $45kg$ solvent, the mixing point is half way on the line connecting feed and solvent compositions. The extract and raffinate compositions are determined by following the tie lines to the miscibility boundary. Those compositions are circled in black in the following diagram and were determined to be "
   ]
  },
  {
   "cell_type": "markdown",
   "metadata": {},
   "source": [
    "|Component|$\\omega_i^E$|$\\omega_i^R$|\n",
    "|----|----|----|\n",
    "|A|0.06|0.69|\n",
    "|B|0.05|0.24|\n",
    "|C|0.89|0.07|"
   ]
  },
  {
   "cell_type": "markdown",
   "metadata": {},
   "source": [
    "<img src=\"HW7_5c.jpg\" width=\"400\"/>"
   ]
  },
  {
   "cell_type": "markdown",
   "metadata": {},
   "source": [
    "The mass of the extract and raffinate streams can be determined by a mass balance,\n",
    "$$\n",
    "E+R=90\\tag{3}\n",
    "$$\n",
    "$$\n",
    "\\omega_C^EE+\\omega_C^RR = 45 \\tag{4}\n",
    "$$\n",
    "([3](#mjx-eqn-3)) and ([4](#mjx-eqn-4)) can be combined to get\n",
    "$$\n",
    "R=\\frac{45-90\\omega_C^E}{\\omega_C^R-\\omega_C^E} \\tag{5}\n",
    "$$\n",
    "Including the solvent, $R=42.8kg$ and $E=47.2kg$ but to find the solvent free masses,\n",
    "$$\n",
    "R_{free} = R(1-\\omega_C^R)\n",
    "$$\n",
    "and \n",
    "$$\n",
    "E_{free}=E(1-\\omega_C^E)\n",
    "$$\n",
    "which means that $R_{free}=39.8kg$ and $E_{free}=5.19kg$"
   ]
  },
  {
   "cell_type": "markdown",
   "metadata": {},
   "source": [
    "The percentage of glycol extracted can be found by\n",
    "$$\n",
    "B_{extracted}=\\frac{\\omega_B^RR}{\\omega_B^FF} = \\frac{\\omega_B^RR}{m_B} \\tag{6}\n",
    "$$\n",
    "Using ([6](#mjx-eqn-6)), the percentage of glycol extracted is $17.5$%"
   ]
  },
  {
   "cell_type": "markdown",
   "metadata": {},
   "source": [
    "## Problem 5.d\n",
    "Determine the maximum purity of glycol in the extract and water in the raffinate."
   ]
  },
  {
   "cell_type": "markdown",
   "metadata": {},
   "source": [
    "The purity is found by\n",
    "$$\n",
    "p = \\frac{m_i^j}{m_{tot}^j} = \\frac{\\omega_i^jm_{tot}^j}{m_{tot}^j} = \\omega_i^j\n",
    "$$\n",
    "where $i$ is the component and $j$ is the stream.\n",
    "</br></br>\n",
    "The purity of B in the extract is $\\omega_B^E=0.05$ and the purity of A in the raffinate is $\\omega_A^R=0.69$"
   ]
  }
 ],
 "metadata": {
  "interpreter": {
   "hash": "04e0bdae412e3c8df7b0aceceeb80c1c6940bf3e349c37f8e47e417772dfa615"
  },
  "kernelspec": {
   "display_name": "Python 3.9.6 64-bit",
   "language": "python",
   "name": "python3"
  },
  "language_info": {
   "codemirror_mode": {
    "name": "ipython",
    "version": 3
   },
   "file_extension": ".py",
   "mimetype": "text/x-python",
   "name": "python",
   "nbconvert_exporter": "python",
   "pygments_lexer": "ipython3",
   "version": "3.9.6"
  },
  "orig_nbformat": 4
 },
 "nbformat": 4,
 "nbformat_minor": 2
}
