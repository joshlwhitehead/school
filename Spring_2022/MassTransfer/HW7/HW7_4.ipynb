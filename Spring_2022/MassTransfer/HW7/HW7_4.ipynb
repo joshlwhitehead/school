{
 "cells": [
  {
   "cell_type": "markdown",
   "metadata": {},
   "source": [
    "# Homework 7\n",
    "## Problem 4\n",
    "Estimate flowrate in $\\frac{kg}{hr}$ for various solvents when given the feed flowrate, compositions of feed and raffinate streams, and partition coefficients"
   ]
  },
  {
   "cell_type": "markdown",
   "metadata": {},
   "source": [
    "Starting with a mass balance on each component,\n",
    "$$\n",
    "\\omega_A^FF=\\omega_A^RR \\tag{1}\n",
    "$$\n",
    "$$\n",
    "\\omega_B^FF=\\omega_B^RR+\\omega_B^EE \\tag{2}\n",
    "$$\n",
    "$$\n",
    "S = \\omega_C^EE \\tag{3}\n",
    "$$\n",
    "([1](#mjx-eqn-1)), ([2](#mjx-eqn-2)), and ([3](#mjx-eqn-3)) can be combined to get,\n",
    "$$\n",
    "W_B^FF_A=W_B^ES+W_B^RF_A \\tag{4}\n",
    "$$\n",
    "where $W_B^i = \\frac{\\omega_B^i}{\\omega_A^i}$ and $F_A = \\omega_A^FF$"
   ]
  },
  {
   "cell_type": "markdown",
   "metadata": {},
   "source": [
    "The partition coefficient can be found by\n",
    "$$\n",
    "K_D = \\frac{\\omega_B^E}{\\omega_B^R} \\tag{5}\n",
    "$$\n",
    "or\n",
    "$$\n",
    "K_D' = \\frac{W_B^E}{W_B^R} = K_D\\frac{1-\\omega_B^R}{1-\\omega_B^E} \\tag{6}\n",
    "$$"
   ]
  },
  {
   "cell_type": "markdown",
   "metadata": {},
   "source": [
    "([4](#mjx-eqn-4)) and ([6](#mjx-eqn-6)) can be combined to get\n",
    "$$\n",
    "\\frac{W_B^R}{W_B^F} = \\frac{1}{(1+\\frac{K_D'S}{F_A})}\n",
    "$$\n",
    "which can be rearranged to get\n",
    "$$\n",
    "S = \\frac{(\\frac{W_B^F}{W_B^R}-1)F_A}{K_D'} \\tag{7}\n",
    "$$\n",
    "To find $K_D'$, $\\omega_B^E$ can be found using ([5](#mjx-eqn-5))"
   ]
  },
  {
   "cell_type": "code",
   "execution_count": 16,
   "metadata": {},
   "outputs": [],
   "source": [
    "import numpy as np"
   ]
  },
  {
   "cell_type": "code",
   "execution_count": 17,
   "metadata": {},
   "outputs": [],
   "source": [
    "wBF = 0.08                                  #mass frac B in feed\n",
    "wAF = 1-wBF                                 #mass frac A in feed\n",
    "wBR = 0.01                                  #mass frac B in raff\n",
    "wAR = 1-wBR                                 #mass frac A in raff\n",
    "\n",
    "F = 13500                                   #feed flowrate kg/hr\n",
    "FA = F*wAF                                  #flowrate of A in feed\n",
    "\n",
    "KD = np.array([1.273,.429,.312,.178])       #partitioin coeffs (mass frac)\n",
    "\n",
    "wBE = KD*wBR                                #mass frac B in extract\n",
    "\n",
    "KDp = KD*(1-wBR)/(1-wBE)                    #partition coeff (mass ratio)"
   ]
  },
  {
   "cell_type": "code",
   "execution_count": 18,
   "metadata": {},
   "outputs": [
    {
     "name": "stdout",
     "output_type": "stream",
     "text": [
      "[ 74029.38656002 221550.22250477 304989.51048951 535306.94586313]\n"
     ]
    }
   ],
   "source": [
    "def S(wbF,waF,wbR,waR,FA,KDp):\n",
    "    XbF = wbF/waF\n",
    "    XbR = wbR/waR\n",
    "    S = (XbF/XbR-1)*FA/KDp\n",
    "    return S\n",
    "print(S(wBF,wAF,wBR,wAR,FA,KDp))"
   ]
  },
  {
   "cell_type": "markdown",
   "metadata": {},
   "source": [
    "|Solvent|S (kg/hr)|\n",
    "|-----|-----|\n",
    "|Methyl Acetate|74,029|\n",
    "|Isopropyl Ether|221,550|\n",
    "|Heptadecanol|304,990|\n",
    "|Chloroform|535,307|"
   ]
  }
 ],
 "metadata": {
  "interpreter": {
   "hash": "04e0bdae412e3c8df7b0aceceeb80c1c6940bf3e349c37f8e47e417772dfa615"
  },
  "kernelspec": {
   "display_name": "Python 3.9.6 64-bit",
   "language": "python",
   "name": "python3"
  },
  "language_info": {
   "codemirror_mode": {
    "name": "ipython",
    "version": 3
   },
   "file_extension": ".py",
   "mimetype": "text/x-python",
   "name": "python",
   "nbconvert_exporter": "python",
   "pygments_lexer": "ipython3",
   "version": "3.9.6"
  },
  "orig_nbformat": 4
 },
 "nbformat": 4,
 "nbformat_minor": 2
}
