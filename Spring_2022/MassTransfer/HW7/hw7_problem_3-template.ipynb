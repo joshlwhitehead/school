{
 "cells": [
  {
   "cell_type": "markdown",
   "metadata": {},
   "source": [
    "# DESCRIBE THE FORMULATION OF THE PROBLEM\n"
   ]
  },
  {
   "cell_type": "code",
   "execution_count": null,
   "metadata": {},
   "outputs": [],
   "source": [
    "import numpy as np\n",
    "import matplotlib.pyplot as plt\n",
    "from scipy.optimize import fsolve\n",
    "\n",
    "# import thermo tools\n",
    "from redlich_kwong_kvalue import redlich_kwong_kvalue\n",
    "from raoult_law_kvalue import raoult_law_kvalue\n",
    "from depriester import depriester"
   ]
  },
  {
   "cell_type": "code",
   "execution_count": null,
   "metadata": {},
   "outputs": [],
   "source": [
    "P_atm  = ?            # pressure in atm\n",
    "P_pa   = P_atm * ?    # pressure in Pa\n",
    "P_psi  = P_atm * ?    # pressure in psia\n",
    "\n",
    "z = np.ones(4) / 4  # equimolar"
   ]
  },
  {
   "cell_type": "markdown",
   "metadata": {},
   "source": [
    "# Part 1 - DePriester Correlation\n",
    "\n",
    "The DePriester correlation is:\n",
    "$$\n",
    "    \\ln K = \\frac{ a_{1} }{ T^{2} } + \\frac{a_{2}}{T} + a_{3} + b_{1} \\ln p + \\frac{b_{2}}{p^{2}} + \\frac{b_{3}}{p}\n",
    "$$\n",
    "For the system here, the coefficients are summarized in the following table.\n",
    "\n",
    "|           | $a_{1}$     | $a_{2}$ | $a_{3}$ | $b_{1}$  | $b_{2}$  | $b_{3}$ |\n",
    "|-----------|-------------|---------|---------|----------|----------|---------|\n",
    "| ethylene  | -600076.875 | 0       | 7.90595 | -0.84677 | 42.94594 | 0       |\n",
    "| n-butane  | -1280557    | 0       | 7.94986 | -0.96455 | 0        | 0       |\n",
    "| i-pentane | -1481583    | 0       | 7.58071 | -0.93159 | 0        | 0       |\n",
    "| n-hexane  | -1778901    | 0       | 6.96783 | -0.84634 | 0        | 0       |\n"
   ]
  },
  {
   "cell_type": "code",
   "execution_count": null,
   "metadata": {},
   "outputs": [],
   "source": [
    "# Recall: use T in Rankine and P in psia for DePriester correlation!\n",
    "\n",
    "dpcoefs = np.array([\n",
    "  [ ?, ?, ?, ?, ?, ? ],  # ethylene\n",
    "  [ ?, ?, ?, ?, ?, ? ],  # n-butane\n",
    "  [ ?, ?, ?, ?, ?, ? ],  # i-pentane\n",
    "  [ ?, ?, ?, ?, ?, ? ]   # n-hexane\n",
    "  ])\n",
    "\n",
    "\n",
    "def depreiester_residual(T,coefs,P):\n",
    "    return ?\n",
    "\n",
    "Tb = fsolve( depreiester_residual, 400, args=(dpcoefs,P_psi) )\n",
    "K_depriester = depriester( ?, Tb[0], ? )\n",
    "x_depriester = ?\n",
    "\n",
    "# convert temperature to K for use later on\n",
    "T_depriester = Tb[0]*5/9\n",
    "\n",
    "print('Dew point temperature (K): {:.1f}\\n'.format(T_depriester) )"
   ]
  },
  {
   "cell_type": "markdown",
   "metadata": {},
   "source": [
    "# Part 2 - Raoult's Law"
   ]
  },
  {
   "cell_type": "markdown",
   "metadata": {},
   "source": [
    "For Raoult's law, we have \n",
    "\\begin{equation}\n",
    "    \\label{eq:Raoult's-law-K}\n",
    "    K_{i}=\\frac{P_{i}^{s}}{P}\n",
    "\\end{equation}\n",
    "where $P_{i}^{s}$ is the saturation pressure of species $i$ at the system temperature, which we approximate using the Antoine equation, \n",
    "\\begin{equation}\n",
    "    \\label{eq:antoine}\n",
    "    \\log_{10}P_{i}^{s} = A - \\frac{B}{C+T}.\n",
    "\\end{equation}\n",
    "The parameters for the Antoine equation are given in the following table.\n",
    "\n",
    "| Species   | A       | B        | C       | \n",
    "| --------- | ------- | -------- | ------- |\n",
    "| ethylene  | ? | ?  | ? | \n",
    "| n-butane  | ? | ?  | ?  | \n",
    "| i-pentane | ? | ? | ? | \n",
    "| n-hexane  | ? | ? | ? | \n",
    "\n",
    "To obtain the dew point, we solve \\eqref{eq:dew-point-eqn} with $K_{i}$ given by \\eqref{eq:Raoult's-law-K} and $P_{i}^{s}$ given by \\eqref{eq:antoine}."
   ]
  },
  {
   "cell_type": "code",
   "execution_count": null,
   "metadata": {},
   "outputs": [],
   "source": [
    "antoineCoefs = np.array([\n",
    "    [?, ?, ? ],\n",
    "    [?, ?, ? ],\n",
    "    [?, ?, ? ],\n",
    "    [?, ?, ? ]\n",
    "    ])\n",
    "\n",
    "def raoult_residual(T,P,coefs):\n",
    "    K = ?\n",
    "    return ?\n",
    "\n",
    "\n",
    "# find the dew point temperature in K\n",
    "T = fsolve( ?, ?, args=(?,?) )\n",
    "T_raoult = T[0]\n",
    "K_raoult = ?\n",
    "x_raoult = ?\n",
    "\n",
    "print('Dew point temperature (K): {:.1f}\\n'.format(T_raoult) )"
   ]
  },
  {
   "cell_type": "markdown",
   "metadata": {},
   "source": [
    "# Part 3 - Redlich-Kwong Equation of State"
   ]
  },
  {
   "cell_type": "markdown",
   "metadata": {},
   "source": [
    "___Summarize the formulation and the algorithm to calculate the dew point from RK___"
   ]
  },
  {
   "cell_type": "code",
   "execution_count": null,
   "metadata": {},
   "outputs": [],
   "source": [
    "def rk_residual(T,P,Tc,Pc,x,y):\n",
    "    K = redlich_kwong_kvalue(Tc,Pc,T,P,x,y) \n",
    "    return ?\n",
    "\n",
    "Tc = np.array([ ?, ?, ?, ? ])  # ensure proper units\n",
    "Pc = np.array([ ?, ?, ?, ? ]) * 1e6  # ensure proper units\n",
    "\n",
    "K_rk = K_raoult  # start with a guess for the K-value from Raoult's law.\n",
    "x_rk = ?  # guess for the liquid (from the K-value guess)\n",
    "T_rk = T_raoult\n",
    "err  = 1\n",
    "\n",
    "while err>0.01:\n",
    "    T = fsolve( ?, ?, args=(?,?,?,?,?) )\n",
    "    err = abs(T[0] - T_rk)\n",
    "    # update temperature and composition\n",
    "    T_rk = T[0]\n",
    "    K_rk = ?\n",
    "    x_rk = ?\n",
    "    \n",
    "print('Dew point temperature (K): {:.1f}\\n'.format(T_rk) )"
   ]
  },
  {
   "cell_type": "markdown",
   "metadata": {},
   "source": [
    "# Part 4 - Soave-Redlich-Kwong\n",
    "\n",
    "___brief description___"
   ]
  },
  {
   "cell_type": "code",
   "execution_count": null,
   "metadata": {},
   "outputs": [],
   "source": [
    "def srk_residual(T,P,Tc,Pc,x,y,w):\n",
    "    K = redlich_kwong_kvalue(Tc,Pc,T,P,x,y,w)\n",
    "    return ?\n",
    "\n",
    "# define the acentric factor for each species\n",
    "w = np.array([ ?, ?, ?, ? ])\n",
    "\n",
    "# ... this looks very similar to what you did in part 3"
   ]
  },
  {
   "cell_type": "markdown",
   "metadata": {},
   "source": [
    "# Summary of Results\n",
    "\n",
    "The results for the dew point calculation showing the temperature and composition of the vapor are summarized in the table below."
   ]
  },
  {
   "cell_type": "code",
   "execution_count": 1,
   "metadata": {},
   "outputs": [
    {
     "name": "stdout",
     "output_type": "stream",
     "text": [
      "-----------------------------------------------------------\n",
      "Method      T (K)  Ethylene  n-Butane  i-Pentane  n-Hexane\n",
      "-----------------------------------------------------------\n"
     ]
    },
    {
     "ename": "NameError",
     "evalue": "name 'T_depriester' is not defined",
     "output_type": "error",
     "traceback": [
      "\u001b[1;31m---------------------------------------------------------------------------\u001b[0m",
      "\u001b[1;31mNameError\u001b[0m                                 Traceback (most recent call last)",
      "\u001b[1;32m<ipython-input-1-4372fd0635fa>\u001b[0m in \u001b[0;36m<module>\u001b[1;34m\u001b[0m\n\u001b[0;32m      2\u001b[0m \u001b[0mprint\u001b[0m\u001b[1;33m(\u001b[0m\u001b[1;34m'Method      T (K)  Ethylene  n-Butane  i-Pentane  n-Hexane'\u001b[0m\u001b[1;33m)\u001b[0m\u001b[1;33m\u001b[0m\u001b[1;33m\u001b[0m\u001b[0m\n\u001b[0;32m      3\u001b[0m \u001b[0mprint\u001b[0m\u001b[1;33m(\u001b[0m\u001b[1;34m'-----------------------------------------------------------'\u001b[0m\u001b[1;33m)\u001b[0m\u001b[1;33m\u001b[0m\u001b[1;33m\u001b[0m\u001b[0m\n\u001b[1;32m----> 4\u001b[1;33m \u001b[0mprint\u001b[0m\u001b[1;33m(\u001b[0m\u001b[1;34m'DePriester {:6.1f} {:9.3f} {:9.3f} {:10.3f} {:10.3f}'\u001b[0m\u001b[1;33m.\u001b[0m\u001b[0mformat\u001b[0m\u001b[1;33m(\u001b[0m\u001b[0mT_depriester\u001b[0m\u001b[1;33m,\u001b[0m\u001b[0mx_depriester\u001b[0m\u001b[1;33m[\u001b[0m\u001b[1;36m0\u001b[0m\u001b[1;33m]\u001b[0m\u001b[1;33m,\u001b[0m\u001b[0mx_depriester\u001b[0m\u001b[1;33m[\u001b[0m\u001b[1;36m1\u001b[0m\u001b[1;33m]\u001b[0m\u001b[1;33m,\u001b[0m\u001b[0mx_depriester\u001b[0m\u001b[1;33m[\u001b[0m\u001b[1;36m2\u001b[0m\u001b[1;33m]\u001b[0m\u001b[1;33m,\u001b[0m\u001b[0mx_depriester\u001b[0m\u001b[1;33m[\u001b[0m\u001b[1;36m3\u001b[0m\u001b[1;33m]\u001b[0m\u001b[1;33m)\u001b[0m\u001b[1;33m)\u001b[0m\u001b[1;33m\u001b[0m\u001b[1;33m\u001b[0m\u001b[0m\n\u001b[0m\u001b[0;32m      5\u001b[0m \u001b[0mprint\u001b[0m\u001b[1;33m(\u001b[0m\u001b[1;34m'Raoult     {:6.1f} {:9.3f} {:9.3f} {:10.3f} {:10.3f}'\u001b[0m\u001b[1;33m.\u001b[0m\u001b[0mformat\u001b[0m\u001b[1;33m(\u001b[0m\u001b[0mT_raoult\u001b[0m\u001b[1;33m,\u001b[0m\u001b[0mx_raoult\u001b[0m\u001b[1;33m[\u001b[0m\u001b[1;36m0\u001b[0m\u001b[1;33m]\u001b[0m\u001b[1;33m,\u001b[0m\u001b[0mx_raoult\u001b[0m\u001b[1;33m[\u001b[0m\u001b[1;36m1\u001b[0m\u001b[1;33m]\u001b[0m\u001b[1;33m,\u001b[0m\u001b[0mx_raoult\u001b[0m\u001b[1;33m[\u001b[0m\u001b[1;36m2\u001b[0m\u001b[1;33m]\u001b[0m\u001b[1;33m,\u001b[0m\u001b[0mx_raoult\u001b[0m\u001b[1;33m[\u001b[0m\u001b[1;36m3\u001b[0m\u001b[1;33m]\u001b[0m\u001b[1;33m)\u001b[0m\u001b[1;33m)\u001b[0m\u001b[1;33m\u001b[0m\u001b[1;33m\u001b[0m\u001b[0m\n\u001b[0;32m      6\u001b[0m \u001b[0mprint\u001b[0m\u001b[1;33m(\u001b[0m\u001b[1;34m'RK         {:6.1f} {:9.3f} {:9.3f} {:10.3f} {:10.3f}'\u001b[0m\u001b[1;33m.\u001b[0m\u001b[0mformat\u001b[0m\u001b[1;33m(\u001b[0m\u001b[0mT_rk\u001b[0m\u001b[1;33m,\u001b[0m\u001b[0mx_rk\u001b[0m\u001b[1;33m[\u001b[0m\u001b[1;36m0\u001b[0m\u001b[1;33m]\u001b[0m\u001b[1;33m,\u001b[0m\u001b[0mx_rk\u001b[0m\u001b[1;33m[\u001b[0m\u001b[1;36m1\u001b[0m\u001b[1;33m]\u001b[0m\u001b[1;33m,\u001b[0m\u001b[0mx_rk\u001b[0m\u001b[1;33m[\u001b[0m\u001b[1;36m2\u001b[0m\u001b[1;33m]\u001b[0m\u001b[1;33m,\u001b[0m\u001b[0mx_rk\u001b[0m\u001b[1;33m[\u001b[0m\u001b[1;36m3\u001b[0m\u001b[1;33m]\u001b[0m\u001b[1;33m)\u001b[0m\u001b[1;33m)\u001b[0m\u001b[1;33m\u001b[0m\u001b[1;33m\u001b[0m\u001b[0m\n",
      "\u001b[1;31mNameError\u001b[0m: name 'T_depriester' is not defined"
     ]
    }
   ],
   "source": [
    "print('-----------------------------------------------------------')\n",
    "print('Method      T (K)  Ethylene  n-Butane  i-Pentane  n-Hexane')\n",
    "print('-----------------------------------------------------------')\n",
    "print('DePriester {:6.1f} {:9.3f} {:9.3f} {:10.3f} {:10.3f}'.format(T_depriester,x_depriester[0],x_depriester[1],x_depriester[2],x_depriester[3]))\n",
    "print('Raoult     {:6.1f} {:9.3f} {:9.3f} {:10.3f} {:10.3f}'.format(T_raoult,x_raoult[0],x_raoult[1],x_raoult[2],x_raoult[3]))\n",
    "print('RK         {:6.1f} {:9.3f} {:9.3f} {:10.3f} {:10.3f}'.format(T_rk,x_rk[0],x_rk[1],x_rk[2],x_rk[3]))\n",
    "print('SRK        {:6.1f} {:9.3f} {:9.3f} {:10.3f} {:10.3f}'.format(T_srk,x_srk[0],x_srk[1],x_srk[2],x_srk[3]))\n",
    "print('-----------------------------------------------------------')"
   ]
  },
  {
   "cell_type": "markdown",
   "metadata": {},
   "source": [
    "It is interesting to note that there is some discrepancy between the various methods - particularly for temperature."
   ]
  }
 ],
 "metadata": {
  "hide_input": false,
  "kernelspec": {
   "display_name": "Python 3 (ipykernel)",
   "language": "python",
   "name": "python3"
  },
  "language_info": {
   "codemirror_mode": {
    "name": "ipython",
    "version": 3
   },
   "file_extension": ".py",
   "mimetype": "text/x-python",
   "name": "python",
   "nbconvert_exporter": "python",
   "pygments_lexer": "ipython3",
   "version": "3.9.6"
  },
  "latex_envs": {
   "LaTeX_envs_menu_present": true,
   "autoclose": false,
   "autocomplete": false,
   "bibliofile": "biblio.bib",
   "cite_by": "apalike",
   "current_citInitial": 1,
   "eqLabelWithNumbers": true,
   "eqNumInitial": 1,
   "hotkeys": {
    "equation": "Ctrl-E",
    "itemize": "Ctrl-I"
   },
   "labels_anchors": false,
   "latex_user_defs": false,
   "report_style_numbering": false,
   "user_envs_cfg": false
  },
  "toc": {
   "base_numbering": 1,
   "nav_menu": {
    "height": "102px",
    "width": "252px"
   },
   "number_sections": false,
   "sideBar": true,
   "skip_h1_title": false,
   "title_cell": "Table of Contents",
   "title_sidebar": "Contents",
   "toc_cell": false,
   "toc_position": {
    "height": "calc(100% - 180px)",
    "left": "10px",
    "top": "150px",
    "width": "212.594px"
   },
   "toc_section_display": "block",
   "toc_window_display": true
  },
  "varInspector": {
   "cols": {
    "lenName": 16,
    "lenType": 16,
    "lenVar": 40
   },
   "kernels_config": {
    "python": {
     "delete_cmd_postfix": "",
     "delete_cmd_prefix": "del ",
     "library": "var_list.py",
     "varRefreshCmd": "print(var_dic_list())"
    },
    "r": {
     "delete_cmd_postfix": ") ",
     "delete_cmd_prefix": "rm(",
     "library": "var_list.r",
     "varRefreshCmd": "cat(var_dic_list()) "
    }
   },
   "types_to_exclude": [
    "module",
    "function",
    "builtin_function_or_method",
    "instance",
    "_Feature"
   ],
   "window_display": false
  }
 },
 "nbformat": 4,
 "nbformat_minor": 2
}
