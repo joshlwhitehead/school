{
 "cells": [
  {
   "cell_type": "markdown",
   "metadata": {},
   "source": [
    "# HW 7\n",
    "## Problem 1\n",
    "Plot bubble point temperature for butanes and pentanes as a function of pressure"
   ]
  },
  {
   "cell_type": "markdown",
   "metadata": {},
   "source": [
    "The bubble point temperature is found by\n",
    "$$\n",
    "\\sum_{i=1}^C z_i K_i=1 \\tag{1}\n",
    "$$\n",
    "where Raoult's law can be used to find $K_i$\n",
    "$$\n",
    "K_i = \\frac{P_i^{sat}}{P} \\tag{2}\n",
    "$$\n",
    "and\n",
    "the saturated pressure can be found using the Antoine equation\n",
    "$$\n",
    "log(P) = a-\\frac{b}{c+T} \\tag{3}\n",
    "$$\n",
    "The temperature can be solved numerically by iterating T at a specified P in ([2](#mjx-eqn-2)) and ([3](#mjx-eqn-3)) until ([1](#mjx-eqn-1)) holds true. "
   ]
  },
  {
   "cell_type": "markdown",
   "metadata": {},
   "source": [
    "|Component|$z_i=x_i$|$a$|$b$|$c$|\n",
    "|------|------|---|---|---|\n",
    "|i-Butane|0.0319|4.3281|1132.108|0.918|\n",
    "|n-Butane|0.7992|4.35576|1175.581|-2.071|\n",
    "|i-Pentane|0.1041|3.97183|1021.864|-43.231|\n",
    "|n-Pentane|0.0648|3.9892|1070.617|-40.454|"
   ]
  },
  {
   "cell_type": "code",
   "execution_count": 13,
   "metadata": {},
   "outputs": [],
   "source": [
    "import numpy as np\n",
    "import matplotlib.pyplot as plt\n",
    "import scipy.optimize as opt"
   ]
  },
  {
   "cell_type": "code",
   "execution_count": 14,
   "metadata": {},
   "outputs": [],
   "source": [
    "def antoine(a,b,c,T):                                   #T in k\n",
    "    return (10**(a-b/(T+c)))*.986923               #return pSat in atm\n",
    "\n",
    "p = np.linspace(.5,5)                                   #domain of pressure\n",
    "\n",
    "a = np.array([4.3281,4.35576,3.97183,3.9892])           #constants taken from nist\n",
    "b = np.array([1132.108,1175.581,1021.864,1070.617])\n",
    "c = np.array([0.918,-2.071,-43.231,-40.454])\n",
    "\n",
    "zi = np.array([.0319,.7992,.1041,.0648])\n"
   ]
  },
  {
   "cell_type": "code",
   "execution_count": 15,
   "metadata": {},
   "outputs": [
    {
     "data": {
      "image/png": "[encoded data removed]",
      "text/plain": [
       "<Figure size 432x288 with 1 Axes>"
      ]
     },
     "metadata": {
      "needs_background": "light"
     },
     "output_type": "display_data"
    }
   ],
   "source": [
    "def resFun(T,p):                                        #using raoults law to get ki\n",
    "    Ki = antoine(a,b,c,T)/p                             \n",
    "    kz = np.sum(Ki*zi)-1                                    #sum ki,zi\n",
    "    return kz\n",
    "    \n",
    "T = []\n",
    "for i in p:                                             #array of T for every p\n",
    "    T.append(opt.fsolve(resFun,300,i))\n",
    "\n",
    "plt.plot(p,T)\n",
    "plt.title('Bubble Point Temperature')\n",
    "plt.ylabel('Temperature (K)')\n",
    "plt.xlabel('Pressure (atm)')\n",
    "plt.grid();\n"
   ]
  },
  {
   "cell_type": "markdown",
   "metadata": {},
   "source": [
    "The bubble point temperature increases non-linearly as pressure increases."
   ]
  }
 ],
 "metadata": {
  "interpreter": {
   "hash": "04e0bdae412e3c8df7b0aceceeb80c1c6940bf3e349c37f8e47e417772dfa615"
  },
  "kernelspec": {
   "display_name": "Python 3.9.6 64-bit",
   "language": "python",
   "name": "python3"
  },
  "language_info": {
   "codemirror_mode": {
    "name": "ipython",
    "version": 3
   },
   "file_extension": ".py",
   "mimetype": "text/x-python",
   "name": "python",
   "nbconvert_exporter": "python",
   "pygments_lexer": "ipython3",
   "version": "3.9.6"
  },
  "orig_nbformat": 4
 },
 "nbformat": 4,
 "nbformat_minor": 2
}
