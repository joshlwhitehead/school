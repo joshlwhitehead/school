{
 "cells": [
  {
   "cell_type": "markdown",
   "metadata": {},
   "source": [
    "# Homework 7\n",
    "## Problem 1\n",
    "Plot bubble point temperature as a as a function of pressure for butanes and pentanes from $0.5$ to $5.0$ atm.\n",
    "|Component|Feed ($\\frac{kmol}{h}$)|$z_i=x_i$|$a_1$|$a_2$|$a_3$|$b_1$|$b_2$|$b_3$|\n",
    "|------|------|------|---|---|---|---|---|---|\n",
    "|i-Butane|8.6|0.0319|-1166846|0|7.72668|-0.9223|0|0|\n",
    "|n-Butane|215.8|0.7992|-1280557|0|7.94986|-0.96455|0|0|\n",
    "|i-Pentane|28.1|0.1041|-1481583|0|7.58071|-0.93159|0|0|\n",
    "|n-Pentane|17.5|0.0648|-1524891|0|7.33129|-0.89143|0|0|\n",
    "\n"
   ]
  },
  {
   "cell_type": "markdown",
   "metadata": {},
   "source": [
    "Using the dePriester correlation,\n",
    "$$\n",
    "ln(K) = \\frac{a_1}{T^2}+\\frac{a_2}{T}+a_3+b_1ln(p)+\\frac{b_2}{p^2}+\\frac{b_3}{p} \\tag{1}\n",
    "$$\n",
    "where $a_1$, $a_2$, $a_3$, $b_1$, $b_2$, and $b_3$ are constants listed in the table above. $T$ and $p$ are in $\\degree R$ and $psia$ respectively."
   ]
  },
  {
   "cell_type": "code",
   "execution_count": 1,
   "metadata": {},
   "outputs": [],
   "source": [
    "import numpy as np\n",
    "import matplotlib.pyplot as plt"
   ]
  },
  {
   "cell_type": "code",
   "execution_count": 2,
   "metadata": {},
   "outputs": [],
   "source": [
    "def depriester(a1,a2,a3,b1,b2,b3,T,p):                              #input t and p as k and atm\n",
    "    p = p*14.6959\n",
    "    T = T*1.8\n",
    "    K = np.exp(a1/T**2+a2/T+a3+b1*np.log(p)+b2/p**2+b3/p)\n",
    "    return K"
   ]
  },
  {
   "cell_type": "code",
   "execution_count": null,
   "metadata": {},
   "outputs": [],
   "source": []
  }
 ],
 "metadata": {
  "interpreter": {
   "hash": "04e0bdae412e3c8df7b0aceceeb80c1c6940bf3e349c37f8e47e417772dfa615"
  },
  "kernelspec": {
   "display_name": "Python 3.9.6 64-bit",
   "language": "python",
   "name": "python3"
  },
  "language_info": {
   "codemirror_mode": {
    "name": "ipython",
    "version": 3
   },
   "file_extension": ".py",
   "mimetype": "text/x-python",
   "name": "python",
   "nbconvert_exporter": "python",
   "pygments_lexer": "ipython3",
   "version": "3.9.6"
  },
  "orig_nbformat": 4
 },
 "nbformat": 4,
 "nbformat_minor": 2
}
