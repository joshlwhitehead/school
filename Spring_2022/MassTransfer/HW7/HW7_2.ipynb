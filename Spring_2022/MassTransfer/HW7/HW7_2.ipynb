{
 "cells": [
  {
   "cell_type": "markdown",
   "metadata": {},
   "source": [
    "# Homework 7\n",
    "## Problem 2.1\n",
    "Derive the equation for bubble point pressure as a function of temperature assuming Raoult's law holds."
   ]
  },
  {
   "cell_type": "markdown",
   "metadata": {},
   "source": [
    "Starting with the Rachford-Rice equation,\n",
    "$$\n",
    "\\sum_{i=1}^C \\frac{z_i(K_i-1)}{1+(K_i-1)\\Psi}=0 \\tag{1}\n",
    "$$\n",
    "where $\\Psi=\\frac{V}{F}$"
   ]
  },
  {
   "cell_type": "markdown",
   "metadata": {},
   "source": [
    "At the bubble point, $V=0$ so ([1](#mjx-eqn-1)) is simplified to\n",
    "$$\n",
    "\\sum_{i=1}^Cz_i(K_i-1)=0 \n",
    "$$\n",
    "or \n",
    "$$\n",
    "\\sum_{i=1}^Cz_iK_i=1 \\tag{1.1}\n",
    "$$\n",
    "Using Raoult's law as the model for $K_i$\n",
    "$$\n",
    "K_i=\\frac{P_i^s}{P} \\tag{2}\n",
    "$$\n",
    "([2](#mjx-eqn-2)) can be substituted in for ([1.1](#mjx-eqn-1.1)) as \n",
    "$$\n",
    "\\sum_{i=1}^Cz_i\\frac{P_i^s}{P}=1 \\tag{3}\n",
    "$$\n",
    "P can be factored out and the bubble point equation is\n",
    "$$\n",
    "P = \\sum_{i=1}^Cz_iP_i^s \\tag{4}\n",
    "$$"
   ]
  },
  {
   "cell_type": "markdown",
   "metadata": {},
   "source": [
    "## Problem 2.2\n",
    "Derive the equation for the dew point pressure as a function of T assuming Raoult's law holds."
   ]
  },
  {
   "cell_type": "markdown",
   "metadata": {},
   "source": [
    "Starting with the Rachford-Rice equation again, at the dew point, $V=F$ so ([1](#mjx-eqn-1)) becomes\n",
    "$$\n",
    "\\sum_{i=1}^C \\frac{z_i(K_i-1)}{1+(K_i-1)}=0 = \\sum_{i=1}^C \\frac{z_i(K_i-1)}{K_i} = \\sum_{i=1}^C (z_i-\\frac{z_i}{K_i}) \\tag{1.2}\n",
    "$$\n",
    "Since $\\sum_{i=1}^C z_i=1$, ([1.2](#mjx-eqn-1.2)) becomes\n",
    "$$\n",
    "\\sum_{i=1}^C \\frac{z_i}{K_i} = 1 \\tag{5}\n",
    "$$\n",
    "$K_i$ can be simplified using ([2](#mjx-eqn-2))\n",
    "$$\n",
    "\\sum_{i=1}^C \\frac{z_i}{\\frac{P_i^s}{P}} = 1 = \\sum_{i=1}^C \\frac{z_iP}{P_i^s} \\tag{6}\n",
    "$$\n",
    "Which is further simplified to \n",
    "$$\n",
    "P = \\frac{1}{\\sum_{i=1}^C \\frac{z_i}{P_i^s}} \\tag{7}\n",
    "$$"
   ]
  }
 ],
 "metadata": {
  "interpreter": {
   "hash": "04e0bdae412e3c8df7b0aceceeb80c1c6940bf3e349c37f8e47e417772dfa615"
  },
  "kernelspec": {
   "display_name": "Python 3.9.6 64-bit",
   "language": "python",
   "name": "python3"
  },
  "language_info": {
   "name": "python",
   "version": "3.9.6"
  },
  "orig_nbformat": 4
 },
 "nbformat": 4,
 "nbformat_minor": 2
}
