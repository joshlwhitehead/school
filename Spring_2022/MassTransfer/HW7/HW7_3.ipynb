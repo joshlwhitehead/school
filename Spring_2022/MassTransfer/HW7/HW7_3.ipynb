{
 "cells": [
  {
   "cell_type": "markdown",
   "metadata": {},
   "source": [
    "# Homework 7\n",
    "## Problem 3.1\n",
    "Calculate dew point temperature at 2 atm for an equimolar mixture of ethylene, n-butane, iso-pentane, and n-hexane and the composition of the first droplet using the DePriester correlation."
   ]
  },
  {
   "cell_type": "markdown",
   "metadata": {},
   "source": [
    "|Component|$z_i=y_i$|$a_1$|$a_2$|$a_3$|$b_1$|$b_2$|$b_3$|\n",
    "|------|------|---|---|---|---|---|---|\n",
    "|Ethylene|0.25|-600076.875|0|7.90595|-0.84677|42.94594|0\n",
    "|n-Butane|0.25|-1280557|0|7.94986|-0.96455|0|0|\n",
    "|iso-Pentane|0.25|-1481583|0|7.58071|-0.93159|0|0|\n",
    "|n-Hexane|0.25|-1778901|0|6.96783|-0.84634|0|0"
   ]
  },
  {
   "cell_type": "markdown",
   "metadata": {},
   "source": [
    "For the dew point temperature,\n",
    "$$\n",
    "\\sum_{i=1}^C \\frac{z_i}{K_i}=1 \\tag{1}\n",
    "$$\n",
    "Using the dePriester correlation,\n",
    "$$\n",
    "ln(K) = \\frac{a_1}{T^2}+\\frac{a_2}{T}+a_3+b_1ln(P)+\\frac{b_2}{P^2}+\\frac{b_3}{P} \\tag{2}\n",
    "$$\n",
    "where $a_1$, $a_2$, $a_3$, $b_1$, $b_2$, and $b_3$ are constants listed in the table above. $T$ and $p$ are in $\\degree R$ and $psia$ respectively."
   ]
  },
  {
   "cell_type": "markdown",
   "metadata": {},
   "source": [
    "The following code iterates T in ([2](#mjx-eqn-2)) until ([1](#mjx-eqn-1)) holds true."
   ]
  },
  {
   "cell_type": "code",
   "execution_count": 6,
   "metadata": {},
   "outputs": [],
   "source": [
    "import numpy as np\n",
    "import scipy.optimize as opt\n",
    "from redlich_kwong_kvalue import redlich_kwong_kvalue\n",
    "p = 2                                                               #pressure atm\n",
    "zi = .25                                                            #equimol"
   ]
  },
  {
   "cell_type": "code",
   "execution_count": 7,
   "metadata": {},
   "outputs": [
    {
     "name": "stdout",
     "output_type": "stream",
     "text": [
      "327.48783201025356 2.922107000813412e-13\n",
      "[0.00863138 0.09162384 0.21143786 0.68830692] 1.0000000000002922\n"
     ]
    }
   ],
   "source": [
    "a1 = np.array([-600076.875,-1280557,-1481583,-1778901])             #depriester coeffs\n",
    "a2 = np.zeros(4)\n",
    "a3 = np.array([7.90595,7.94986,7.58071,6.96783])\n",
    "b1 = np.array([-.84677,-.96455,-.93159,-.84634])\n",
    "b2 = np.array([42.94594,0,0,0])\n",
    "b3 = np.zeros(4)\n",
    "\n",
    "def depriester(a1,a2,a3,b1,b2,b3,T,p):                              #input t and p as k and atm\n",
    "    p = p*14.6959\n",
    "    T = T*1.8\n",
    "    K = np.exp(a1/T**2+a2/T+a3+b1*np.log(p)+b2/p**2+b3/p)\n",
    "    return K\n",
    "\n",
    "    \n",
    "def resFun_dep(T,p):\n",
    "    Ki = depriester(a1,a2,a3,b1,b2,b3,T,p)\n",
    "    kz = np.sum(zi/Ki)-1\n",
    "    return kz\n",
    "T_dep = opt.fsolve(resFun_dep,100,p)[0]\n",
    "print(T_dep,resFun_dep(T_dep,p))\n",
    "comp = zi/depriester(a1,a2,a3,b1,b2,b3,T_dep,p)\n",
    "print(comp,sum(comp))"
   ]
  },
  {
   "cell_type": "markdown",
   "metadata": {},
   "source": [
    "## Problem 3.2\n",
    "Calculate dew point temperature at 2 atm for an equimolar mixture of ethylene, n-butane, iso-pentane, and n-hexane and the composition of the first droplet using Raoult's law."
   ]
  },
  {
   "cell_type": "markdown",
   "metadata": {},
   "source": [
    "|Component|$z_i=y_i$|$a$|$b$|$c$|\n",
    "|------|------|---|---|---|\n",
    "|Ethylene|0.25|3.87261|584.146|-18.307|\n",
    "|n-Butane|0.25|4.35576|1175.581|-2.071|\n",
    "|iso-Pentane|0.25|3.97183|1021.864|-43.231|\n",
    "|n-Hexane|0.25|4.00266|1171.53|-48.784|"
   ]
  },
  {
   "cell_type": "markdown",
   "metadata": {},
   "source": [
    "For Raoult's law,\n",
    "$$\n",
    "K_i = \\frac{P_i^s}{P} \\tag{3}\n",
    "$$\n",
    "where $P_i^s$ can be found by the Antoine equation,\n",
    "$$\n",
    "log(P_i^s) = a-\\frac{b}{c+T} \\tag{4}\n",
    "$$\n",
    "where a, b, and c are constants listed in the table above. The following code combines ([3](#mjx-eqn-3)) and ([4](#mjx-eqn-4)) then iterates T until ([1](#mjx-eqn-1)) holds."
   ]
  },
  {
   "cell_type": "code",
   "execution_count": 8,
   "metadata": {},
   "outputs": [
    {
     "name": "stdout",
     "output_type": "stream",
     "text": [
      "330.8175973983606 6.661338147750939e-16\n",
      "[0.00502667 0.0841154  0.19323956 0.71761837] 1.0000000000000007\n"
     ]
    }
   ],
   "source": [
    "def antoine(a,b,c,T):                                   #T in k\n",
    "    return (10**(a-b/(T+c)))*.986923               #return pSat in atm\n",
    "a = np.array([3.87261,4.35576,3.97183,4.00266])\n",
    "b = np.array([584.146,1175.581,1021.864,1171.53])\n",
    "c = np.array([-18.307,-2.071,-43.231,-48.784])\n",
    "\n",
    "def resFun_rlt(T,p):\n",
    "    Ki = antoine(a,b,c,T)/p\n",
    "    kz = np.sum(zi/Ki)-1\n",
    "    return kz\n",
    "\n",
    "T_rlt = opt.fsolve(resFun_rlt,100,p)[0]\n",
    "print(T_rlt,resFun_rlt(T_rlt,p))\n",
    "comp = zi/(antoine(a,b,c,T_rlt)/p)\n",
    "print(comp,sum(comp))\n"
   ]
  },
  {
   "cell_type": "markdown",
   "metadata": {},
   "source": [
    "## Problem 3.3\n",
    "Calculate dew point temperature at 2 atm for an equimolar mixture of ethylene, n-butane, iso-pentane, and n-hexane and the composition of the first droplet using The Redlich-Kwong equation of state."
   ]
  },
  {
   "cell_type": "markdown",
   "metadata": {},
   "source": [
    "|Component|Tc (K)|Pc (MPa)|$\\omega$|\n",
    "|--|--|--|---|\n",
    "|Ethylene|282.4|5.032|0.085|\n",
    "|n-Butane|425.2|3.797|0.193|\n",
    "|iso-Pentane|460.4|3.381|0.228|\n",
    "|n-Hexane|507.4|3.012|0.305|"
   ]
  },
  {
   "cell_type": "markdown",
   "metadata": {},
   "source": [
    "The RK EOS is shown in the \"Thermo Review\" lecture notes on slide 9 and it takes critical temperatures and pressures as well as the mixture composition, temperature and pressure to solve for the fugacity coefficients. The fugacity coefficients are related to the $K$ value by\n",
    "$$\n",
    "K_i = \\frac{\\phi^L}{\\phi_i^V} \\tag{5}\n",
    "$$\n",
    "At the dew point, $z_i=y_i$ so for the RK EOS, $P$, $Tc$, $Pc$, and $y_i$ are known. The initial guess for $x_i$ and $T$ are the values obtained by solving this problem using Raoult's law.\n",
    "</br></br>\n",
    "The code below uses the initial guesses to iterate $T$ and $x_i$ until the error is less than $0.01$\n"
   ]
  },
  {
   "cell_type": "code",
   "execution_count": 9,
   "metadata": {},
   "outputs": [
    {
     "name": "stdout",
     "output_type": "stream",
     "text": [
      "Dew point temperature (K): 310.4\n",
      "\n",
      "[0.01085676 0.11629604 0.23856354 0.63428366] 1.000000000000001\n"
     ]
    }
   ],
   "source": [
    "def rk_residual(T,P,Tc,Pc,x,y):\n",
    "    K = redlich_kwong_kvalue(Tc,Pc,T,P,x,y) \n",
    "    return np.sum(y/K)-1\n",
    "\n",
    "Tc = np.array([282.4,425.2,460.4,507.4])  # ensure proper units\n",
    "Pc = np.array([5.032,3.797,3.381,3.012]) * 1e6  # ensure proper units\n",
    "K_rlt = antoine(a,b,c,T_rlt)/p\n",
    "K_rk = K_rlt  # start with a guess for the K-value from Raoult's law.\n",
    "x_rk = zi/K_rlt  # guess for the liquid (from the K-value guess)\n",
    "T_rk = T_rlt\n",
    "err  = 1\n",
    "\n",
    "# print(rk_residual(330,p*101325,Tc,Pc,x_rk,zi))\n",
    "while err>0.01:\n",
    "    T = opt.fsolve(rk_residual,T_rk, args=(p*101325,Tc,Pc,x_rk,zi))\n",
    "    err = abs(T[0] - T_rk)\n",
    "    # update temperature and composition\n",
    "    T_rk = T[0]\n",
    "    K_rk = redlich_kwong_kvalue(Tc,Pc,T_rk,p*101325,x_rk,zi)\n",
    "    x_rk = zi/K_rk\n",
    "    \n",
    "print('Dew point temperature (K): {:.1f}\\n'.format(T_rk) )\n",
    "print(x_rk,sum(x_rk))"
   ]
  },
  {
   "cell_type": "markdown",
   "metadata": {},
   "source": [
    "## Problem 3.4\n",
    "Calculate dew point temperature at 2 atm for an equimolar mixture of ethylene, n-butane, iso-pentane, and n-hexane and the composition of the first droplet using The Soave-Redlich-Kwong equation of state."
   ]
  },
  {
   "cell_type": "markdown",
   "metadata": {},
   "source": [
    "The SRK EOS is similar to the RK EOS except it inclues an acentric factor, $\\omega$. The code below follows the same strategy as with the RK EOS"
   ]
  },
  {
   "cell_type": "code",
   "execution_count": 10,
   "metadata": {},
   "outputs": [
    {
     "name": "stdout",
     "output_type": "stream",
     "text": [
      "Dew point temperature (K): 330.5\n",
      "\n",
      "[0.00783842 0.09096958 0.20238401 0.69880799] 1.0000000000000027\n"
     ]
    }
   ],
   "source": [
    "def srk_residual(T,P,Tc,Pc,x,y,w):\n",
    "    K = redlich_kwong_kvalue(Tc,Pc,T,P,x,y,w)\n",
    "    return np.sum(zi/K)-1\n",
    "\n",
    "# define the acentric factor for each species\n",
    "w = np.array([.085,.193,.228,.305])\n",
    "K_srk = K_rlt  # start with a guess for the K-value from Raoult's law.\n",
    "x_srk = zi/K_rlt  # guess for the liquid (from the K-value guess)\n",
    "T_srk = T_rlt\n",
    "err2  = 1\n",
    "\n",
    "# print(rk_residual(330,p*101325,Tc,Pc,x_rk,zi))\n",
    "while err2>0.01:\n",
    "    T = opt.fsolve(srk_residual,T_srk, args=(p*101325,Tc,Pc,x_srk,zi,w))\n",
    "    err2 = abs(T[0] - T_srk)\n",
    "    # update temperature and composition\n",
    "    T_srk = T[0]\n",
    "    K_srk = redlich_kwong_kvalue(Tc,Pc,T_srk,p*101325,x_srk,zi,w)\n",
    "    x_srk = zi/K_srk\n",
    "    \n",
    "print('Dew point temperature (K): {:.1f}\\n'.format(T_srk) )\n",
    "\n",
    "print(x_srk,sum(x_srk))"
   ]
  },
  {
   "cell_type": "markdown",
   "metadata": {},
   "source": [
    "|Method|T (K)|Ethylene|n-Butane|iso-Pentane|n-Hexane|\n",
    "|---|----|---|---|---|---|\n",
    "|DePriester|327.5|0.009|0.092|0.211|0.688|\n",
    "|Raoult|330.8|0.005|0.084|0.193|0.718|\n",
    "|RK|310.4|0.011|0.116|0.239|0.634|\n",
    "|SRK|330.5|0.008|0.090|0.202|0.699|"
   ]
  }
 ],
 "metadata": {
  "interpreter": {
   "hash": "04e0bdae412e3c8df7b0aceceeb80c1c6940bf3e349c37f8e47e417772dfa615"
  },
  "kernelspec": {
   "display_name": "Python 3.9.6 64-bit",
   "language": "python",
   "name": "python3"
  },
  "language_info": {
   "codemirror_mode": {
    "name": "ipython",
    "version": 3
   },
   "file_extension": ".py",
   "mimetype": "text/x-python",
   "name": "python",
   "nbconvert_exporter": "python",
   "pygments_lexer": "ipython3",
   "version": "3.9.6"
  },
  "orig_nbformat": 4
 },
 "nbformat": 4,
 "nbformat_minor": 2
}
