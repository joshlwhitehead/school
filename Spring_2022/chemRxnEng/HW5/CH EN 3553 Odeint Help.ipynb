{
 "cells": [
  {
   "cell_type": "markdown",
   "metadata": {},
   "source": [
    "# CH EN 3553 \n",
    "\n",
    "## Odeint help"
   ]
  },
  {
   "cell_type": "code",
   "execution_count": 1,
   "metadata": {},
   "outputs": [],
   "source": [
    "#imports\n",
    "import numpy as np\n",
    "from scipy.integrate import odeint\n",
    "import matplotlib.pyplot as plt"
   ]
  },
  {
   "cell_type": "markdown",
   "metadata": {},
   "source": [
    "## Simple ODE Example"
   ]
  },
  {
   "cell_type": "markdown",
   "metadata": {},
   "source": [
    "ODE/Model:\n",
    "\n",
    "$$ \\Large \\frac{dy}{dt} = -\\alpha y$$\n",
    "\n",
    "Initial Condition:\n",
    "\n",
    "$$ \\Large y_{0} = 20 ft$$\n",
    "\n",
    "For example, a tank height (y) that decreases following the model above with an inital 20 ft of water."
   ]
  },
  {
   "cell_type": "code",
   "execution_count": 2,
   "metadata": {},
   "outputs": [],
   "source": [
    "y0 = 20 #initial condition\n",
    "α = 0.5 #constant\n",
    "\n",
    "#create ode function returning the ODE model\n",
    "def ode(y,t):\n",
    "    dydt = -α*y\n",
    "    return dydt\n",
    "\n",
    "t = np.linspace(0,5,10) #create t array of discrete points for odeint to evaluate y(t)\n",
    "\n",
    "y = odeint(ode,y0,t) #odeint(\"python function for model\",\"initial condition for model\",\"discrete values over which to solve the ode\")"
   ]
  },
  {
   "cell_type": "code",
   "execution_count": 3,
   "metadata": {},
   "outputs": [
    {
     "name": "stdout",
     "output_type": "stream",
     "text": [
      "[[20.        ]\n",
      " [15.14930259]\n",
      " [11.47506874]\n",
      " [ 8.69196438]\n",
      " [ 6.58385995]\n",
      " [ 4.98704431]\n",
      " [ 3.77751211]\n",
      " [ 2.86133366]\n",
      " [ 2.16736044]\n",
      " [ 1.64169994]]\n"
     ]
    }
   ],
   "source": [
    "print(y)"
   ]
  },
  {
   "cell_type": "markdown",
   "metadata": {},
   "source": [
    "odeint returns a list containing discrete y values for each value of t provided."
   ]
  },
  {
   "cell_type": "code",
   "execution_count": 4,
   "metadata": {},
   "outputs": [
    {
     "data": {
      "text/plain": [
       "Text(0.5,0,'t (hrs)')"
      ]
     },
     "execution_count": 4,
     "metadata": {},
     "output_type": "execute_result"
    },
    {
     "data": {
      "image/png": "[encoded data removed]",
      "text/plain": [
       "<Figure size 432x288 with 1 Axes>"
      ]
     },
     "metadata": {},
     "output_type": "display_data"
    }
   ],
   "source": [
    "plt.plot(t,y)\n",
    "plt.ylabel('y (ft)')\n",
    "plt.xlabel('t (hrs)')"
   ]
  },
  {
   "cell_type": "markdown",
   "metadata": {},
   "source": [
    "If we wanted the height after 5 hours (the final value), we could do the following."
   ]
  },
  {
   "cell_type": "code",
   "execution_count": 5,
   "metadata": {},
   "outputs": [
    {
     "name": "stdout",
     "output_type": "stream",
     "text": [
      "The tank height is [1.64169994] ft after 5 hours\n"
     ]
    }
   ],
   "source": [
    "y5 = y[-1]\n",
    "print(\"The tank height is {} ft after 5 hours\".format(y5))"
   ]
  },
  {
   "cell_type": "code",
   "execution_count": 6,
   "metadata": {},
   "outputs": [
    {
     "name": "stdout",
     "output_type": "stream",
     "text": [
      "The tank height is 1.6416999434549835 ft after 5 hours\n"
     ]
    }
   ],
   "source": [
    "#y[-1] is technically a list of 1 value so we can get rid of the brackets in the print statement by printing the 1st value in y[-1]\n",
    "y5 = y[-1][0]\n",
    "print(\"The tank height is {} ft after 5 hours\".format(y5))"
   ]
  },
  {
   "cell_type": "markdown",
   "metadata": {},
   "source": [
    "## System of ODEs Example"
   ]
  },
  {
   "cell_type": "markdown",
   "metadata": {},
   "source": [
    "The following models were made arbitrarily for example purposes.\n",
    "\n",
    "ODEs/Models:\n",
    "\n",
    "$$ \\Large \\frac{dy}{dt} = -a y - zxy$$\n",
    "\n",
    "$$ \\Large \\frac{dx}{dt} = -b xy + a y^{2}xt $$\n",
    "\n",
    "$$ \\Large \\frac{dz}{dt} = -b xyz + 5a yx^{2}t^{2} $$\n",
    "\n",
    "Initial Conditions:\n",
    "\n",
    "$$ \\Large x_{0} = 0.5$$\n",
    "\n",
    "$$ \\Large y_{0} = 10$$\n",
    "\n",
    "$$ \\Large z_{0} = 5$$"
   ]
  },
  {
   "cell_type": "code",
   "execution_count": 7,
   "metadata": {},
   "outputs": [
    {
     "name": "stdout",
     "output_type": "stream",
     "text": [
      "[[5.00000000e-01 1.00000000e+01 5.00000000e+00]\n",
      " [5.52447963e-04 7.78700634e+00 2.92324694e+00]\n",
      " [7.14172762e-05 6.77525067e+00 2.91890927e+00]\n",
      " [1.34205336e-04 5.89585421e+00 2.91717671e+00]\n",
      " [1.01571630e-03 5.12793222e+00 2.91010113e+00]\n",
      " [1.35013733e-02 4.42922779e+00 2.84043274e+00]\n",
      " [1.46840527e-01 3.54436459e+00 2.32383447e+00]\n",
      " [3.89774242e-01 2.13687390e+00 2.56161763e+00]\n",
      " [2.84754023e-01 1.05576869e+00 3.11914879e+00]\n",
      " [1.79082707e-01 6.19065941e-01 3.13052681e+00]]\n"
     ]
    }
   ],
   "source": [
    "x0 = 0.5 #inital x\n",
    "y0 = 10 #inital y\n",
    "z0 = 5 #initial z\n",
    "Initials = [x0,y0,z0] #array of inital values to pass to odes function\n",
    "a = 0.25 #constant\n",
    "b = 2 #constant\n",
    "\n",
    "def odes(I,t):\n",
    "    x = I[0] #initial x\n",
    "    y = I[1] #initial y\n",
    "    z = I[2] #initial z\n",
    "    #ode models\n",
    "    dxdt = -b*x*y + a*x*t*y**2 \n",
    "    dydt = -a*y-x*y*z\n",
    "    dzdt = -b*x*y*z + 5*a*y*x**2 *t**2\n",
    "    return [dxdt,dydt,dzdt] #return models\n",
    "\n",
    "t = np.linspace(0,5,10) #create t array of discrete points for odeint to evaluate y(t)\n",
    "odesol = odeint(odes,Initials,t)\n",
    "print(odesol)"
   ]
  },
  {
   "cell_type": "markdown",
   "metadata": {},
   "source": [
    "In systems of ODEs, if odeint is formatted in this way, the ode solution will be a list of x, y, and z values at every time step."
   ]
  },
  {
   "cell_type": "code",
   "execution_count": 11,
   "metadata": {},
   "outputs": [
    {
     "name": "stdout",
     "output_type": "stream",
     "text": [
      "[0.17908271 0.61906594 3.13052681]\n",
      "The final value of x is 0.17908270657993788\n",
      "The final value of y is 0.6190659407055759\n",
      "The final value of z is 3.1305268124422647\n"
     ]
    }
   ],
   "source": [
    "# find final values of x, y, and z\n",
    "odefinal = odesol[-1]\n",
    "print(odefinal)\n",
    "xfin = odefinal[0]\n",
    "yfin = odefinal[1]\n",
    "zfin = odefinal[2]\n",
    "print(\"The final value of x is {}\".format(xfin))\n",
    "print(\"The final value of y is {}\".format(yfin))\n",
    "print(\"The final value of z is {}\".format(zfin))"
   ]
  },
  {
   "cell_type": "code",
   "execution_count": 9,
   "metadata": {},
   "outputs": [
    {
     "name": "stdout",
     "output_type": "stream",
     "text": [
      "[5.00000000e-01 5.52447963e-04 7.14172762e-05 1.34205336e-04\n",
      " 1.01571630e-03 1.35013733e-02 1.46840527e-01 3.89774242e-01\n",
      " 2.84754023e-01 1.79082707e-01]\n"
     ]
    }
   ],
   "source": [
    "#splicing odesol list to create lists of x, y, and z \n",
    "x = odesol[:,0]\n",
    "y = odesol[:,1]\n",
    "z = odesol[:,2]\n",
    "print(x)"
   ]
  },
  {
   "cell_type": "code",
   "execution_count": 10,
   "metadata": {},
   "outputs": [
    {
     "data": {
      "text/plain": [
       "Text(0.5,0,'t (hrs)')"
      ]
     },
     "execution_count": 10,
     "metadata": {},
     "output_type": "execute_result"
    },
    {
     "data": {
      "image/png": "[encoded data removed]",
      "text/plain": [
       "<Figure size 432x288 with 1 Axes>"
      ]
     },
     "metadata": {},
     "output_type": "display_data"
    }
   ],
   "source": [
    "#visualization of models\n",
    "plt.plot(t,x,label=\"x\")\n",
    "plt.plot(t,y,label='y')\n",
    "plt.plot(t,z,label='z')\n",
    "plt.legend()\n",
    "plt.grid()\n",
    "plt.xlabel(\"t (hrs)\")"
   ]
  }
 ],
 "metadata": {
  "kernelspec": {
   "display_name": "Python 3",
   "language": "python",
   "name": "python3"
  },
  "language_info": {
   "codemirror_mode": {
    "name": "ipython",
    "version": 3
   },
   "file_extension": ".py",
   "mimetype": "text/x-python",
   "name": "python",
   "nbconvert_exporter": "python",
   "pygments_lexer": "ipython3",
   "version": "3.6.5"
  }
 },
 "nbformat": 4,
 "nbformat_minor": 2
}
